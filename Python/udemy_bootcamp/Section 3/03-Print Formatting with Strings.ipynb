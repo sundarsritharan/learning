{
 "cells": [
  {
   "cell_type": "markdown",
   "metadata": {},
   "source": [
    "Formatting with placeholders"
   ]
  },
  {
   "cell_type": "code",
   "execution_count": 2,
   "metadata": {},
   "outputs": [
    {
     "name": "stdout",
     "output_type": "stream",
     "text": [
      "I am going to inject something here.\n"
     ]
    }
   ],
   "source": [
    "print(\"I am going to inject %s here.\" %'something')"
   ]
  },
  {
   "cell_type": "code",
   "execution_count": 3,
   "metadata": {},
   "outputs": [
    {
     "name": "stdout",
     "output_type": "stream",
     "text": [
      "I am going to inject some text here, and more text here.\n"
     ]
    }
   ],
   "source": [
    "print(\"I am going to inject %s text here, and %s text here.\" %('some','more'))"
   ]
  },
  {
   "cell_type": "code",
   "execution_count": 4,
   "metadata": {},
   "outputs": [
    {
     "name": "stdout",
     "output_type": "stream",
     "text": [
      "I am going to inject some text here, and more text here.\n"
     ]
    }
   ],
   "source": [
    "x,y = 'some','more'\n",
    "print(\"I am going to inject %s text here, and %s text here.\" %(x,y))"
   ]
  },
  {
   "cell_type": "code",
   "execution_count": 6,
   "metadata": {},
   "outputs": [
    {
     "name": "stdout",
     "output_type": "stream",
     "text": [
      "She said her name is Diya.\n",
      "She said her name is 'Diya'.\n"
     ]
    }
   ],
   "source": [
    "print(\"She said her name is %s.\" %'Diya')\n",
    "print(\"She said her name is %r.\" %'Diya')"
   ]
  },
  {
   "cell_type": "code",
   "execution_count": 8,
   "metadata": {},
   "outputs": [
    {
     "name": "stdout",
     "output_type": "stream",
     "text": [
      "I once got a fish this \t big\n",
      "I once got a fish 'this \\t big'\n"
     ]
    }
   ],
   "source": [
    "print('I once got a fish %s' %'this \\t big')\n",
    "print('I once got a fish %r' %'this \\t big')"
   ]
  },
  {
   "cell_type": "code",
   "execution_count": 12,
   "metadata": {},
   "outputs": [
    {
     "name": "stdout",
     "output_type": "stream",
     "text": [
      "I worked ~ 7.5 hours today\n",
      "I worked ~ 7 hours today\n"
     ]
    }
   ],
   "source": [
    "hours_worked = 7.5\n",
    "print(\"I worked ~ %s hours today\" %(hours_worked))\n",
    "print(\"I worked ~ %d hours today\" %(hours_worked))"
   ]
  },
  {
   "cell_type": "markdown",
   "metadata": {},
   "source": [
    "\"\"\"\n",
    "Floating point numbers use the format %5.2f. Here, 5 would be the minimum number of characters the string should \n",
    "contain; these may be padded with whitespace if the entire number does not have this many digits. \n",
    "Next to this, .2f stands for how many numbers to show past the decimal point.\n",
    "\"\"\""
   ]
  },
  {
   "cell_type": "code",
   "execution_count": 15,
   "metadata": {
    "scrolled": true
   },
   "outputs": [
    {
     "name": "stdout",
     "output_type": "stream",
     "text": [
      "Floating point number 13.54\n"
     ]
    }
   ],
   "source": [
    "print('Floating point number %5.2f' %(13.544))"
   ]
  },
  {
   "cell_type": "code",
   "execution_count": 16,
   "metadata": {},
   "outputs": [
    {
     "name": "stdout",
     "output_type": "stream",
     "text": [
      "Floating point number 14\n"
     ]
    }
   ],
   "source": [
    "print('Floating point number %1.0f' %(13.544))"
   ]
  },
  {
   "cell_type": "code",
   "execution_count": 17,
   "metadata": {},
   "outputs": [
    {
     "name": "stdout",
     "output_type": "stream",
     "text": [
      "Floating point number      13.54\n"
     ]
    }
   ],
   "source": [
    "print('Floating point number %10.2f' %(13.544))"
   ]
  },
  {
   "cell_type": "code",
   "execution_count": 18,
   "metadata": {},
   "outputs": [
    {
     "name": "stdout",
     "output_type": "stream",
     "text": [
      "First: hi!, Second:  3.14, Third: 'bye!'\n"
     ]
    }
   ],
   "source": [
    "print('First: %s, Second: %5.2f, Third: %r' %('hi!',3.1415,'bye!'))"
   ]
  },
  {
   "cell_type": "markdown",
   "metadata": {},
   "source": [
    "\"\"\"\n",
    ".format() method\n",
    "\"\"\" "
   ]
  },
  {
   "cell_type": "code",
   "execution_count": 20,
   "metadata": {},
   "outputs": [
    {
     "name": "stdout",
     "output_type": "stream",
     "text": [
      "This is a string with an insert.\n"
     ]
    }
   ],
   "source": [
    "print('This is a string with an {}.'.format('insert'))"
   ]
  },
  {
   "cell_type": "code",
   "execution_count": 21,
   "metadata": {},
   "outputs": [
    {
     "name": "stdout",
     "output_type": "stream",
     "text": [
      "The fox quick brown\n"
     ]
    }
   ],
   "source": [
    "print('The {} {} {}'.format('fox','quick','brown'))"
   ]
  },
  {
   "cell_type": "code",
   "execution_count": 23,
   "metadata": {},
   "outputs": [
    {
     "name": "stdout",
     "output_type": "stream",
     "text": [
      "The quick brown fox.\n"
     ]
    }
   ],
   "source": [
    "print('The {1} {2} {0}.'.format('fox','quick','brown'))"
   ]
  },
  {
   "cell_type": "code",
   "execution_count": 24,
   "metadata": {},
   "outputs": [
    {
     "name": "stdout",
     "output_type": "stream",
     "text": [
      "First: 1, Second: two, Third: 134.45\n"
     ]
    }
   ],
   "source": [
    "print('First: {a}, Second: {b}, Third: {c}'.format(a=1,b='two',c=134.45))"
   ]
  },
  {
   "cell_type": "code",
   "execution_count": 26,
   "metadata": {},
   "outputs": [
    {
     "name": "stdout",
     "output_type": "stream",
     "text": [
      "A penny earned is penny saved.\n"
     ]
    }
   ],
   "source": [
    "print('A %s earned is %s saved.'%('penny','penny'))"
   ]
  },
  {
   "cell_type": "code",
   "execution_count": 27,
   "metadata": {},
   "outputs": [
    {
     "name": "stdout",
     "output_type": "stream",
     "text": [
      "A penny earned is penny saved.\n"
     ]
    }
   ],
   "source": [
    "print('A {a} earned is {a} saved.'.format(a='penny'))"
   ]
  },
  {
   "cell_type": "code",
   "execution_count": 28,
   "metadata": {},
   "outputs": [
    {
     "name": "stdout",
     "output_type": "stream",
     "text": [
      "Left==== | -Center- | ...Right\n",
      "11====== | ---22--- | ......33\n"
     ]
    }
   ],
   "source": [
    "\n",
    "print('{0:=<8} | {1:-^8} | {2:.>8}'.format('Left','Center','Right'))\n",
    "print('{0:=<8} | {1:-^8} | {2:.>8}'.format(11,22,33))"
   ]
  },
  {
   "cell_type": "code",
   "execution_count": 29,
   "metadata": {},
   "outputs": [
    {
     "name": "stdout",
     "output_type": "stream",
     "text": [
      "Left     |  Center  |    Right\n",
      "11       |    22    |       33\n"
     ]
    }
   ],
   "source": [
    "\n",
    "print('{0: <8} | {1: ^8} | {2: >8}'.format('Left','Center','Right'))\n",
    "print('{0: <8} | {1: ^8} | {2: >8}'.format(11,22,33))"
   ]
  },
  {
   "cell_type": "code",
   "execution_count": 32,
   "metadata": {},
   "outputs": [
    {
     "name": "stdout",
     "output_type": "stream",
     "text": [
      "This is my ten-character, two-decimal number:     13.58\n",
      "This is my ten-character, two-decimal number:     13.58\n"
     ]
    }
   ],
   "source": [
    "\n",
    "print('This is my ten-character, two-decimal number:%10.2f' %13.579)\n",
    "print('This is my ten-character, two-decimal number:{0:10.2f}'.format(13.579))"
   ]
  },
  {
   "cell_type": "code",
   "execution_count": 33,
   "metadata": {},
   "outputs": [
    {
     "name": "stdout",
     "output_type": "stream",
     "text": [
      "My name is 'sundar'\n"
     ]
    }
   ],
   "source": [
    "name = 'sundar'\n",
    "print(f'My name is {name!r}')"
   ]
  },
  {
   "cell_type": "code",
   "execution_count": 37,
   "metadata": {},
   "outputs": [
    {
     "name": "stdout",
     "output_type": "stream",
     "text": [
      "The metric 1 has the value 123.4567 and metric 2 has the value 8910.111213\n"
     ]
    }
   ],
   "source": [
    "m1 = 123.4567\n",
    "m2 = 8910.111213\n",
    "print('The metric 1 has the value {} and metric 2 has the value {}'.format(m1,m2))"
   ]
  },
  {
   "cell_type": "code",
   "execution_count": 43,
   "metadata": {},
   "outputs": [
    {
     "name": "stdout",
     "output_type": "stream",
     "text": [
      "The metric 1 has the value   123.4567 and metric 2 has the value 8910.111213\n"
     ]
    }
   ],
   "source": [
    "# Float formatting follows \"result: {value:{width}.{precision}}\"\n",
    "print('The metric 1 has the value {0:10.4f} and metric 2 has the value {1:10.6f}'.format(m1,m2))"
   ]
  },
  {
   "cell_type": "code",
   "execution_count": 52,
   "metadata": {},
   "outputs": [
    {
     "name": "stdout",
     "output_type": "stream",
     "text": [
      "The metric 1 has the value 123.5 and metric 2 has the value 8910.111213\n"
     ]
    }
   ],
   "source": [
    "m1 = 123.4567\n",
    "m2 = 8910.111213\n",
    "print(f'The metric 1 has the value {m1:{0}.{4}} and metric 2 has the value {m2:{0}.{10}}')"
   ]
  },
  {
   "cell_type": "code",
   "execution_count": 54,
   "metadata": {},
   "outputs": [
    {
     "name": "stdout",
     "output_type": "stream",
     "text": [
      "The metric 1 has the value 123.5 and metric 2 has the value 8910.111213\n"
     ]
    }
   ],
   "source": [
    "m1 = 123.4567\n",
    "m2 = 8910.111213\n",
    "print(f'The metric 1 has the value {m1:{0}.{4}} and metric 2 has the value {m2:{0}.{len(str(m2))}}')"
   ]
  },
  {
   "cell_type": "code",
   "execution_count": 55,
   "metadata": {},
   "outputs": [
    {
     "name": "stdout",
     "output_type": "stream",
     "text": [
      "My 10 character, four decimal number is:   23.4500\n",
      "My 10 character, four decimal number is:   23.4500\n"
     ]
    }
   ],
   "source": [
    "num = 23.45\n",
    "print(\"My 10 character, four decimal number is:{0:10.4f}\".format(num))\n",
    "print(f\"My 10 character, four decimal number is:{num:10.4f}\")"
   ]
  },
  {
   "cell_type": "code",
   "execution_count": null,
   "metadata": {},
   "outputs": [],
   "source": []
  }
 ],
 "metadata": {
  "kernelspec": {
   "display_name": "Python 3",
   "language": "python",
   "name": "python3"
  },
  "language_info": {
   "codemirror_mode": {
    "name": "ipython",
    "version": 3
   },
   "file_extension": ".py",
   "mimetype": "text/x-python",
   "name": "python",
   "nbconvert_exporter": "python",
   "pygments_lexer": "ipython3",
   "version": "3.7.6"
  }
 },
 "nbformat": 4,
 "nbformat_minor": 4
}

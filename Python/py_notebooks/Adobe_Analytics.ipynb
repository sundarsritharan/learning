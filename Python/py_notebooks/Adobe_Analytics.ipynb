{
 "cells": [
  {
   "cell_type": "markdown",
   "metadata": {},
   "source": [
    "# Configuration\n",
    "---"
   ]
  },
  {
   "cell_type": "code",
   "execution_count": 15,
   "metadata": {},
   "outputs": [],
   "source": [
    "import chart_studio.plotly as py\n",
    "import plotly.graph_objs as go\n",
    "from plotly.offline import iplot"
   ]
  },
  {
   "cell_type": "code",
   "execution_count": 16,
   "metadata": {},
   "outputs": [],
   "source": [
    "qs_connect()"
   ]
  },
  {
   "cell_type": "code",
   "execution_count": null,
   "metadata": {},
   "outputs": [],
   "source": []
  },
  {
   "cell_type": "markdown",
   "metadata": {},
   "source": [
    "# Query 1: Eloqua Contact List "
   ]
  },
  {
   "cell_type": "code",
   "execution_count": 17,
   "metadata": {},
   "outputs": [
    {
     "name": "stdout",
     "output_type": "stream",
     "text": [
      "Query started at 10:28:52 AM UTC; Query executed in 0.41 m"
     ]
    }
   ],
   "source": [
    "%%read_sql query_1_df -d -c QS_CONNECTION\n",
    "\n",
    "select placeContext.geo._schema.latitude,\n",
    "_experience.analytics.customDimensions.props.prop1,\n",
    "_experience.analytics.customDimensions.props.prop3,\n",
    "environment.browserDetails.javaEnabled,\n",
    "placeContext.geo._schema.longitude,\n",
    "web.webPageDetails.server,\n",
    "environment.browserDetails.viewportWidth,\n",
    "endUserIDs._experience.mcid.namespace.code,\n",
    "device.colorDepth,\n",
    "userActivityRegion.dataCenterLocation,\n",
    "web.webReferrer.type,\n",
    "_experience.analytics.customDimensions.props.prop5,\n",
    "_experience.analytics.customDimensions.props.prop4,\n",
    "environment.browserDetails.viewportHeight,\n",
    "_experience.analytics.customDimensions.props.prop7,\n",
    "endUserIDs._experience.aaid.id,\n",
    "endUserIDs._experience.mcid.id,\n",
    "_experience.analytics.event601to700.event621.value,\n",
    "_experience.analytics.event501to600.event507.value,\n",
    "_experience.target.supplementalDataID,\n",
    "web.webPageDetails.URL,\n",
    "endUserIDs._experience.aaid.namespace.code,\n",
    "_experience.analytics.environment.browserID,\n",
    "environment.browserDetails.acceptLanguage,\n",
    "placeContext.geo.stateProvince,\n",
    "environment.ipV4,\n",
    "environment.domain,\n",
    "device.screenWidth,\n",
    "environment.browserDetails.cookiesEnabled,\n",
    "web.webPageDetails.name,\n",
    "_id,\n",
    "device.screenHeight,\n",
    "_experience.analytics.event501to600.event501.value,\n",
    "environment.browserDetails.userAgent,\n",
    "_experience.analytics.customDimensions.eVars.eVar1,\n",
    "_experience.analytics.event501to600.event508.value,\n",
    "_experience.analytics.event501to600.event518.value,\n",
    "endUserIDs._experience.aaid.primary,\n",
    "web.webPageDetails.pageViews.value,\n",
    "placeContext.geo.postalCode,\n",
    "_experience.analytics.customDimensions.eVars.eVar67,\n",
    "placeContext.geo.countryCode,\n",
    "_experience.analytics.event501to600.event504.value,\n",
    "_experience.analytics.customDimensions.eVars.eVar5,\n",
    "_experience.analytics.customDimensions.eVars.eVar4,\n",
    "_experience.analytics.customDimensions.eVars.eVar7,\n",
    "_experience.analytics.event501to600.event567.value,\n",
    "dataSource._id,\n",
    "_experience.analytics.customDimensions.eVars.eVar8,\n",
    "timestamp,\n",
    "placeContext.localTimezoneOffset,\n",
    "_experience.analytics.customDimensions.props.prop12,\n",
    "receivedTimestamp,\n",
    "_experience.analytics.customDimensions.eVars.eVar18,\n",
    "_experience.analytics.customDimensions.props.prop19,\n",
    "_experience.analytics.environment.operatingSystemID,\n",
    "_experience.analytics.event501to600.event505.value,\n",
    "endUserIDs._experience.mcid.primary,\n",
    "environment.browserDetails.javaScriptVersion,\n",
    "placeContext.geo.city,\n",
    "environment.browserDetails.javaScriptEnabled,\n",
    "web.webPageDetails.isHomePage\n",
    "From global_development_midvalues LIMIT 1000"
   ]
  },
  {
   "cell_type": "markdown",
   "metadata": {},
   "source": [
    "Alternatively, query results can be saved in a pandas dataframe by supplying a name (e.g. query_1_df) during query as follows:"
   ]
  },
  {
   "cell_type": "code",
   "execution_count": 13,
   "metadata": {},
   "outputs": [],
   "source": [
    "import pandas as pd\n",
    "query_1_df.to_csv(\"ExperianceEvents.csv\")"
   ]
  },
  {
   "cell_type": "markdown",
   "metadata": {},
   "source": [
    "And we can view the results of the query by outputting the dataframe:"
   ]
  },
  {
   "cell_type": "code",
   "execution_count": 18,
   "metadata": {},
   "outputs": [
    {
     "name": "stdout",
     "output_type": "stream",
     "text": [
      "<class 'pandas.core.frame.DataFrame'>\n",
      "RangeIndex: 1000 entries, 0 to 999\n",
      "Data columns (total 62 columns):\n",
      "latitude               1000 non-null float64\n",
      "prop1                  965 non-null object\n",
      "prop3                  1000 non-null object\n",
      "javaenabled            1000 non-null bool\n",
      "longitude              1000 non-null float64\n",
      "server                 940 non-null object\n",
      "viewportwidth          998 non-null float64\n",
      "code                   1000 non-null object\n",
      "colordepth             1000 non-null int64\n",
      "datacenterlocation     1000 non-null object\n",
      "type                   1000 non-null object\n",
      "prop5                  965 non-null object\n",
      "prop4                  965 non-null object\n",
      "viewportheight         998 non-null float64\n",
      "prop7                  944 non-null object\n",
      "id                     1000 non-null object\n",
      "id                     1000 non-null object\n",
      "value                  944 non-null float64\n",
      "value                  1000 non-null float64\n",
      "supplementaldataid     1000 non-null object\n",
      "url                    1000 non-null object\n",
      "code                   1000 non-null object\n",
      "browserid              1000 non-null int64\n",
      "acceptlanguage         1000 non-null object\n",
      "stateprovince          1000 non-null object\n",
      "ipv4                   1000 non-null object\n",
      "domain                 1000 non-null object\n",
      "screenwidth            1000 non-null int64\n",
      "cookiesenabled         1000 non-null bool\n",
      "name                   493 non-null object\n",
      "_id                    1000 non-null object\n",
      "screenheight           1000 non-null int64\n",
      "value                  965 non-null float64\n",
      "useragent              1000 non-null object\n",
      "evar1                  965 non-null object\n",
      "value                  944 non-null float64\n",
      "value                  1000 non-null float64\n",
      "primary                1000 non-null bool\n",
      "value                  493 non-null float64\n",
      "postalcode             1000 non-null object\n",
      "evar67                 907 non-null object\n",
      "countrycode            1000 non-null object\n",
      "value                  965 non-null float64\n",
      "evar5                  965 non-null object\n",
      "evar4                  965 non-null object\n",
      "evar7                  1000 non-null object\n",
      "value                  907 non-null float64\n",
      "_id                    1000 non-null object\n",
      "evar8                  944 non-null object\n",
      "timestamp              1000 non-null datetime64[ns]\n",
      "localtimezoneoffset    1000 non-null int64\n",
      "prop12                 907 non-null object\n",
      "receivedTimestamp      1000 non-null datetime64[ns]\n",
      "evar18                 1000 non-null object\n",
      "prop19                 944 non-null object\n",
      "operatingsystemid      1000 non-null int64\n",
      "value                  965 non-null float64\n",
      "primary                1000 non-null bool\n",
      "javascriptversion      1000 non-null object\n",
      "city                   1000 non-null object\n",
      "javascriptenabled      1000 non-null bool\n",
      "ishomepage             1000 non-null bool\n",
      "dtypes: bool(6), datetime64[ns](2), float64(13), int64(6), object(35)\n",
      "memory usage: 443.4+ KB\n"
     ]
    }
   ],
   "source": [
    "query_1_df.info()"
   ]
  },
  {
   "cell_type": "code",
   "execution_count": 19,
   "metadata": {},
   "outputs": [
    {
     "name": "stdout",
     "output_type": "stream",
     "text": [
      "<class 'pandas.core.frame.DataFrame'>\n",
      "RangeIndex: 1000 entries, 0 to 999\n",
      "Data columns (total 62 columns):\n",
      "latitude               1000 non-null float64\n",
      "prop1                  965 non-null object\n",
      "prop3                  1000 non-null object\n",
      "javaenabled            1000 non-null bool\n",
      "longitude              1000 non-null float64\n",
      "server                 940 non-null object\n",
      "viewportwidth          998 non-null float64\n",
      "code                   1000 non-null object\n",
      "colordepth             1000 non-null int64\n",
      "datacenterlocation     1000 non-null object\n",
      "type                   1000 non-null object\n",
      "prop5                  965 non-null object\n",
      "prop4                  965 non-null object\n",
      "viewportheight         998 non-null float64\n",
      "prop7                  944 non-null object\n",
      "id                     1000 non-null object\n",
      "id                     1000 non-null object\n",
      "value                  944 non-null float64\n",
      "value                  1000 non-null float64\n",
      "supplementaldataid     1000 non-null object\n",
      "url                    1000 non-null object\n",
      "code                   1000 non-null object\n",
      "browserid              1000 non-null int64\n",
      "acceptlanguage         1000 non-null object\n",
      "stateprovince          1000 non-null object\n",
      "ipv4                   1000 non-null object\n",
      "domain                 1000 non-null object\n",
      "screenwidth            1000 non-null int64\n",
      "cookiesenabled         1000 non-null bool\n",
      "name                   493 non-null object\n",
      "_id                    1000 non-null object\n",
      "screenheight           1000 non-null int64\n",
      "value                  965 non-null float64\n",
      "useragent              1000 non-null object\n",
      "evar1                  965 non-null object\n",
      "value                  944 non-null float64\n",
      "value                  1000 non-null float64\n",
      "primary                1000 non-null bool\n",
      "value                  493 non-null float64\n",
      "postalcode             1000 non-null object\n",
      "evar67                 907 non-null object\n",
      "countrycode            1000 non-null object\n",
      "value                  965 non-null float64\n",
      "evar5                  965 non-null object\n",
      "evar4                  965 non-null object\n",
      "evar7                  1000 non-null object\n",
      "value                  907 non-null float64\n",
      "_id                    1000 non-null object\n",
      "evar8                  944 non-null object\n",
      "timestamp              1000 non-null datetime64[ns]\n",
      "localtimezoneoffset    1000 non-null int64\n",
      "prop12                 907 non-null object\n",
      "receivedTimestamp      1000 non-null datetime64[ns]\n",
      "evar18                 1000 non-null object\n",
      "prop19                 944 non-null object\n",
      "operatingsystemid      1000 non-null int64\n",
      "value                  965 non-null float64\n",
      "primary                1000 non-null bool\n",
      "javascriptversion      1000 non-null object\n",
      "city                   1000 non-null object\n",
      "javascriptenabled      1000 non-null bool\n",
      "ishomepage             1000 non-null bool\n",
      "dtypes: bool(6), datetime64[ns](2), float64(13), int64(6), object(35)\n",
      "memory usage: 443.4+ KB\n"
     ]
    }
   ],
   "source": [
    "query_1_df.info()"
   ]
  },
  {
   "cell_type": "code",
   "execution_count": null,
   "metadata": {},
   "outputs": [],
   "source": []
  }
 ],
 "metadata": {
  "kernelspec": {
   "display_name": "Python 3",
   "language": "python",
   "name": "python3"
  },
  "language_info": {
   "codemirror_mode": {
    "name": "ipython",
    "version": 3
   },
   "file_extension": ".py",
   "mimetype": "text/x-python",
   "name": "python",
   "nbconvert_exporter": "python",
   "pygments_lexer": "ipython3",
   "version": "3.7.6"
  }
 },
 "nbformat": 4,
 "nbformat_minor": 4
}

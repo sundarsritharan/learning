{
 "cells": [
  {
   "cell_type": "markdown",
   "metadata": {},
   "source": [
    "# Configuration\n",
    "---"
   ]
  },
  {
   "cell_type": "code",
   "execution_count": null,
   "metadata": {},
   "outputs": [],
   "source": []
  },
  {
   "cell_type": "code",
   "execution_count": 19,
   "metadata": {},
   "outputs": [],
   "source": [
    "import chart_studio.plotly as py\n",
    "import plotly.graph_objs as go\n",
    "from plotly.offline import iplot"
   ]
  },
  {
   "cell_type": "code",
   "execution_count": 12,
   "metadata": {},
   "outputs": [],
   "source": [
    "qs_connect()"
   ]
  },
  {
   "cell_type": "markdown",
   "metadata": {},
   "source": [
    "# Query 1: Eloqua Contact List "
   ]
  },
  {
   "cell_type": "code",
   "execution_count": 20,
   "metadata": {},
   "outputs": [
    {
     "name": "stdout",
     "output_type": "stream",
     "text": [
      "Query started at 10:59:06 AM UTC; Query executed in 0.09 m"
     ]
    }
   ],
   "source": [
    "%%read_sql query_1_df -d -c QS_CONNECTION\n",
    "select _mmm.cntcItrlId,\n",
    "_mmm.person.lastName,\n",
    "_mmm.emailOptinTx,\n",
    "_mmm.person.firstName,\n",
    "_mmm.audit.crteTs,\n",
    "_mmm.emailAd.address,\n",
    "_mmm.address.country,\n",
    "_mmm.busPhonNo.number,\n",
    "_mmm.emailOptInTs,\n",
    "_mmm.audit.mdfdTs,\n",
    "_mmm.person.fullName,\n",
    "_mmm.cntcExtId\n",
    " from eloqua_contacts_20200227_184417_644 LIMIT 1000\n"
   ]
  },
  {
   "cell_type": "markdown",
   "metadata": {},
   "source": [
    "Alternatively, query results can be saved in a pandas dataframe by supplying a name (e.g. query_1_df) during query as follows:"
   ]
  },
  {
   "cell_type": "code",
   "execution_count": 18,
   "metadata": {},
   "outputs": [],
   "source": [
    "import pandas as pd\n",
    "query_1_df.to_csv(\"eloqua.csv\")"
   ]
  },
  {
   "cell_type": "markdown",
   "metadata": {},
   "source": [
    "And we can view the results of the query by outputting the dataframe:"
   ]
  },
  {
   "cell_type": "code",
   "execution_count": 21,
   "metadata": {},
   "outputs": [
    {
     "name": "stdout",
     "output_type": "stream",
     "text": [
      "<class 'pandas.core.frame.DataFrame'>\n",
      "RangeIndex: 1000 entries, 0 to 999\n",
      "Data columns (total 12 columns):\n",
      "cntcitrlid      1000 non-null object\n",
      "lastname        854 non-null object\n",
      "emailoptintx    1000 non-null object\n",
      "firstname       868 non-null object\n",
      "crtets          1000 non-null datetime64[ns]\n",
      "address         1000 non-null object\n",
      "country         929 non-null object\n",
      "number          564 non-null object\n",
      "emailoptints    830 non-null datetime64[ns]\n",
      "mdfdts          1000 non-null datetime64[ns]\n",
      "fullname        869 non-null object\n",
      "cntcextid       1000 non-null object\n",
      "dtypes: datetime64[ns](3), object(9)\n",
      "memory usage: 93.8+ KB\n"
     ]
    }
   ],
   "source": [
    "query_1_df.info()"
   ]
  },
  {
   "cell_type": "code",
   "execution_count": null,
   "metadata": {},
   "outputs": [],
   "source": [
    "Select placeContext.geo._schema.latitude,_experience.analytics.customDimensions.props.prop1,_experience.analytics.customDimensions.props.prop3,environment.browserDetails.javaEnabled,\tplaceContext.geo._schema.longitude,\tweb.webPageDetails.server,\tenvironment.browserDetails.viewportWidth,\tendUserIDs._experience.mcid.namespace.code,\tdevice.colorDepth,\tuserActivityRegion.dataCenterLocation,\tweb.webReferrer.type,\t_experience.analytics.customDimensions.props.prop5,\t_experience.analytics.customDimensions.props.prop4,\tenvironment.browserDetails.viewportHeight,\t_experience.analytics.customDimensions.props.prop7,\tendUserIDs._experience.aaid.id,\tendUserIDs._experience.mcid.id,\tcommerce.order.currencyCode,\t_experience.analytics.event601to700.event621.value,\t_experience.analytics.event501to600.event507.value,\t_experience.target.supplementalDataID,\tweb.webPageDetails.URL,\tendUserIDs._experience.aaid.namespace.code,\t_experience.analytics.environment.browserID,\tenvironment.browserDetails.acceptLanguage,\tplaceContext.geo.stateProvince,environment.ipV4,environment.domain,device.screenWidth,environment.browserDetails.cookiesEnabled,web.webPageDetails.name,_id,\tdevice.screenHeight,_experience.analytics.event501to600.event501.value,\tenvironment.browserDetails.userAgent,\t_experience.analytics.customDimensions.eVars.eVar1,\t_experience.analytics.event501to600.event508.value,\t_experience.analytics.event501to600.event518.value,\tendUserIDs._experience.aaid.primary,\tweb.webPageDetails.pageViews.value,\tplaceContext.geo.postalCode,\t_experience.analytics.customDimensions.eVars.eVar67,\tplaceContext.geo.countryCode,\t_experience.analytics.event501to600.event504.value,\t_experience.analytics.customDimensions.eVars.eVar5,\t_experience.analytics.customDimensions.eVars.eVar4,\t_experience.analytics.customDimensions.eVars.eVar7,\t_experience.analytics.event501to600.event567.value,\tdataSource._id,\t_experience.analytics.customDimensions.eVars.eVar8,\ttimestamp,\tplaceContext.localTimezoneOffset,\t_experience.analytics.customDimensions.props.prop12,\treceivedTimestamp,\t_experience.analytics.customDimensions.eVars.eVar18,_experience.analytics.customDimensions.props.prop19,_experience.analytics.environment.operatingSystemID,\t_experience.analytics.event501to600.event505.value,\tendUserIDs._experience.mcid.primary,\tenvironment.browserDetails.javaScriptVersion,\tplaceContext.geo.city,\tenvironment.browserDetails.javaScriptEnabled,\tweb.webPageDetails.isHomePage,\n",
    "From global_development_midvalues LIMIT 1000"
   ]
  }
 ],
 "metadata": {
  "kernelspec": {
   "display_name": "Python 3",
   "language": "python",
   "name": "python3"
  },
  "language_info": {
   "codemirror_mode": {
    "name": "ipython",
    "version": 3
   },
   "file_extension": ".py",
   "mimetype": "text/x-python",
   "name": "python",
   "nbconvert_exporter": "python",
   "pygments_lexer": "ipython3",
   "version": "3.7.6"
  }
 },
 "nbformat": 4,
 "nbformat_minor": 4
}

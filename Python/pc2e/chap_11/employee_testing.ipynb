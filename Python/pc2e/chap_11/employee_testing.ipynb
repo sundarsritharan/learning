{
 "cells": [
  {
   "cell_type": "code",
   "execution_count": 6,
   "metadata": {},
   "outputs": [
    {
     "name": "stdout",
     "output_type": "stream",
     "text": [
      "65000\n",
      "70000\n",
      "82000\n"
     ]
    }
   ],
   "source": [
    "class Employee:\n",
    "    \"\"\" simple model to blueprint an employee\"\"\"\n",
    "\n",
    "    def __init__(self,fname,lname,salary):\n",
    "        \"\"\" set employee name and salary\"\"\"\n",
    "        self.first_name = fname\n",
    "        self.last_name = lname\n",
    "        self.salary = salary\n",
    "\n",
    "    def give_raise(self,amount=5000):\n",
    "        \"\"\" give $5000 raise as default or raise as per inout \"\"\"\n",
    "        self.salary +=  amount"
   ]
  },
  {
   "cell_type": "code",
   "execution_count": 11,
   "metadata": {},
   "outputs": [
    {
     "name": "stderr",
     "output_type": "stream",
     "text": [
      "..\n",
      "----------------------------------------------------------------------\n",
      "Ran 2 tests in 0.013s\n",
      "\n",
      "OK\n"
     ]
    }
   ],
   "source": [
    "#testing employee class\n",
    "import unittest\n",
    "from employee import Employee\n",
    "\n",
    "class TestEmployee(unittest.TestCase):\n",
    "    \"\"\" test all aspects of Employee class \"\"\"\n",
    "\n",
    "    def setUp(self):\n",
    "        \"\"\"Make an employee to use in tests.\"\"\"\n",
    "        self.eric = Employee('eric', 'matthes', 65_000)\n",
    "\n",
    "    def test_give_default_raise(self):\n",
    "        \"\"\"Test that a default raise works correctly.\"\"\"\n",
    "        self.eric.give_raise()\n",
    "        self.assertEqual(self.eric.salary, 70000)\n",
    "\n",
    "    def test_give_custom_raise(self):\n",
    "        \"\"\"Test that a custom raise works correctly.\"\"\"\n",
    "        self.eric.give_raise(10000)\n",
    "        self.assertEqual(self.eric.salary, 75000)\n",
    "\n",
    "if __name__ == '__main__':\n",
    "    unittest.main(argv=['first-arg-is-ignored'], exit=False)"
   ]
  },
  {
   "cell_type": "code",
   "execution_count": null,
   "metadata": {},
   "outputs": [],
   "source": []
  }
 ],
 "metadata": {
  "kernelspec": {
   "display_name": "Python 3",
   "language": "python",
   "name": "python3"
  },
  "language_info": {
   "codemirror_mode": {
    "name": "ipython",
    "version": 3
   },
   "file_extension": ".py",
   "mimetype": "text/x-python",
   "name": "python",
   "nbconvert_exporter": "python",
   "pygments_lexer": "ipython3",
   "version": "3.7.6"
  }
 },
 "nbformat": 4,
 "nbformat_minor": 4
}

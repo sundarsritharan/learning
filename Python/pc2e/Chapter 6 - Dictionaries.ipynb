{
 "cells": [
  {
   "cell_type": "code",
   "execution_count": 2,
   "metadata": {},
   "outputs": [
    {
     "name": "stdout",
     "output_type": "stream",
     "text": [
      "green\n",
      "5\n"
     ]
    }
   ],
   "source": [
    "alien_0 = {'color':'green','points': 5}\n",
    "\n",
    "print(alien_0['color'])\n",
    "print(alien_0['points'])"
   ]
  },
  {
   "cell_type": "code",
   "execution_count": 3,
   "metadata": {},
   "outputs": [
    {
     "name": "stdout",
     "output_type": "stream",
     "text": [
      "bmw\n",
      "blue\n",
      "x328i\n",
      "2015\n"
     ]
    }
   ],
   "source": [
    "car_2 = {'make':'bmw','color':'blue','model': 'x328i','year':2015}\n",
    "\n",
    "print(car_2['make'])\n",
    "print(car_2['color'])\n",
    "print(car_2['model'])\n",
    "print(car_2['year'])"
   ]
  },
  {
   "cell_type": "code",
   "execution_count": 5,
   "metadata": {},
   "outputs": [
    {
     "name": "stdout",
     "output_type": "stream",
     "text": [
      "You just earned 5 points!\n"
     ]
    }
   ],
   "source": [
    "alien_0 = {'color':'green','points': 5}\n",
    "new_points = alien_0['points']\n",
    "\n",
    "print(f\"You just earned {new_points} points!\")"
   ]
  },
  {
   "cell_type": "code",
   "execution_count": 7,
   "metadata": {},
   "outputs": [
    {
     "name": "stdout",
     "output_type": "stream",
     "text": [
      "{'color': 'green', 'points': 5}\n",
      "{'color': 'green', 'points': 5, 'x-position': 0, 'y-position': 25}\n"
     ]
    }
   ],
   "source": [
    "alien_0 = {'color':'green','points': 5}\n",
    "print(alien_0)\n",
    "\n",
    "alien_0['x-position'] = 0\n",
    "alien_0['y-position'] = 25\n",
    "\n",
    "print(alien_0)"
   ]
  },
  {
   "cell_type": "code",
   "execution_count": 8,
   "metadata": {},
   "outputs": [
    {
     "name": "stdout",
     "output_type": "stream",
     "text": [
      "{'color': 'green', 'points': 5}\n"
     ]
    }
   ],
   "source": [
    "alien_0 = {}\n",
    "\n",
    "alien_0['color'] = 'green'\n",
    "alien_0['points'] = 5\n",
    "\n",
    "print(alien_0)"
   ]
  },
  {
   "cell_type": "code",
   "execution_count": 10,
   "metadata": {},
   "outputs": [
    {
     "name": "stdout",
     "output_type": "stream",
     "text": [
      "The alien is green.\n",
      "The alien is yellow.\n"
     ]
    }
   ],
   "source": [
    "# modifying values in dictionary \n",
    "\n",
    "alien_0 = {'color':'green','points':5}\n",
    "\n",
    "print(f\"The alien is {alien_0['color']}.\")\n",
    "\n",
    "alien_0['color'] = 'yellow'\n",
    "\n",
    "print(f\"The alien is {alien_0['color']}.\")"
   ]
  },
  {
   "cell_type": "code",
   "execution_count": 14,
   "metadata": {},
   "outputs": [
    {
     "name": "stdout",
     "output_type": "stream",
     "text": [
      "Original Position: 0\n",
      "New Position: 2\n"
     ]
    }
   ],
   "source": [
    "# example change the dictionary value\n",
    "\n",
    "alien_0 = {'x-position':0,'y-position':25,'speed':'medium'}\n",
    "print(f\"Original Position: {alien_0['x-position']}\")\n",
    "\n",
    "#move the alien to right based on the speed\n",
    "#detemine how far we need to move \n",
    "if alien_0['speed'] == 'slow':\n",
    "    x_increment = 1 \n",
    "elif alien_0['speed'] == 'medium':\n",
    "     x_increment = 2\n",
    "else:\n",
    "    # This must be a fast alien\n",
    "    x_increment = 3\n",
    "\n",
    "\n",
    "#The new position is current position + new value \n",
    "alien_0['x-position'] = alien_0['x-position'] + x_increment\n",
    "\n",
    "print(f\"New Position: {alien_0['x-position']}\")"
   ]
  },
  {
   "cell_type": "code",
   "execution_count": 15,
   "metadata": {},
   "outputs": [
    {
     "name": "stdout",
     "output_type": "stream",
     "text": [
      "{'color': 'green', 'points': 5}\n",
      "{'color': 'green'}\n"
     ]
    }
   ],
   "source": [
    "# delete values in dictionary \n",
    "\n",
    "alien_0 = {'color':'green','points':5}\n",
    "print(alien_0)\n",
    "\n",
    "del alien_0['points']\n",
    "print(alien_0)\n"
   ]
  },
  {
   "cell_type": "code",
   "execution_count": 18,
   "metadata": {},
   "outputs": [
    {
     "name": "stdout",
     "output_type": "stream",
     "text": [
      "Sarah's favorite language is C\n"
     ]
    }
   ],
   "source": [
    "favorite_language = {\n",
    "    'jen':'python',\n",
    "    'sarah':'c',\n",
    "    'edward':'ruby',\n",
    "    'phil':'python'\n",
    "}\n",
    "\n",
    "language = favorite_language['sarah'].title()\n",
    "\n",
    "print(f\"Sarah's favorite language is {language}\")"
   ]
  },
  {
   "cell_type": "code",
   "execution_count": 20,
   "metadata": {},
   "outputs": [
    {
     "ename": "KeyError",
     "evalue": "'points'",
     "output_type": "error",
     "traceback": [
      "\u001b[0;31m---------------------------------------------------------------------------\u001b[0m",
      "\u001b[0;31mKeyError\u001b[0m                                  Traceback (most recent call last)",
      "\u001b[0;32m<ipython-input-20-8773b89776a4>\u001b[0m in \u001b[0;36m<module>\u001b[0;34m\u001b[0m\n\u001b[1;32m      3\u001b[0m \u001b[0malien_0\u001b[0m \u001b[0;34m=\u001b[0m \u001b[0;34m{\u001b[0m\u001b[0;34m'color'\u001b[0m\u001b[0;34m:\u001b[0m\u001b[0;34m'green'\u001b[0m\u001b[0;34m,\u001b[0m\u001b[0;34m'speed'\u001b[0m\u001b[0;34m:\u001b[0m\u001b[0;34m'slow'\u001b[0m\u001b[0;34m}\u001b[0m\u001b[0;34m\u001b[0m\u001b[0;34m\u001b[0m\u001b[0m\n\u001b[1;32m      4\u001b[0m \u001b[0;34m\u001b[0m\u001b[0m\n\u001b[0;32m----> 5\u001b[0;31m \u001b[0mprint\u001b[0m\u001b[0;34m(\u001b[0m\u001b[0malien_0\u001b[0m\u001b[0;34m[\u001b[0m\u001b[0;34m'points'\u001b[0m\u001b[0;34m]\u001b[0m\u001b[0;34m)\u001b[0m\u001b[0;34m\u001b[0m\u001b[0;34m\u001b[0m\u001b[0m\n\u001b[0m",
      "\u001b[0;31mKeyError\u001b[0m: 'points'"
     ]
    }
   ],
   "source": [
    "#using get() method to retrieve key value \n",
    "\n",
    "alien_0 = {'color':'green','speed':'slow'}\n",
    "\n",
    "print(alien_0['points'])"
   ]
  },
  {
   "cell_type": "code",
   "execution_count": 21,
   "metadata": {},
   "outputs": [
    {
     "name": "stdout",
     "output_type": "stream",
     "text": [
      "No point value assigned\n"
     ]
    }
   ],
   "source": [
    "#using get() method to retrieve key value \n",
    "\n",
    "alien_0 = {'color':'green','speed':'slow'}\n",
    "\n",
    "points_value = alien_0.get('points','No point value assigned')\n",
    "\n",
    "print(points_value)"
   ]
  },
  {
   "cell_type": "code",
   "execution_count": 22,
   "metadata": {},
   "outputs": [
    {
     "name": "stdout",
     "output_type": "stream",
     "text": [
      "None\n"
     ]
    }
   ],
   "source": [
    "#using get() method to retrieve key value \n",
    "\n",
    "alien_0 = {'color':'green','speed':'slow'}\n",
    "\n",
    "points_value = alien_0.get('points')\n",
    "\n",
    "print(points_value)"
   ]
  },
  {
   "cell_type": "code",
   "execution_count": 75,
   "metadata": {},
   "outputs": [
    {
     "name": "stdout",
     "output_type": "stream",
     "text": [
      "Diya\n",
      "Sundar\n",
      "9\n",
      "Monroe TWP\n"
     ]
    }
   ],
   "source": [
    "# practise person information \n",
    "\n",
    "child_profile = {\n",
    "    'first_name':'Diya',\n",
    "    'last_name':'Sundar',\n",
    "    'age' : 9,\n",
    "    'city' :'Monroe TWP'\n",
    "}\n",
    "\n",
    "for prop in child_profile:\n",
    "    print(child_profile.get(prop,'no info'))"
   ]
  },
  {
   "cell_type": "code",
   "execution_count": 31,
   "metadata": {},
   "outputs": [
    {
     "name": "stdout",
     "output_type": "stream",
     "text": [
      "Sundar likes Blue.\n",
      "Priya likes Green.\n",
      "Diya likes Purple.\n",
      "Nidhi likes Pink.\n",
      "Manoj likes Yellow.\n"
     ]
    }
   ],
   "source": [
    "# practise 2\n",
    "\n",
    "fav_colors = {\n",
    "    'Sundar':'Blue',\n",
    "    'Priya':'Green',\n",
    "    'Diya':'Purple',\n",
    "    'Nidhi':'Pink',\n",
    "    'Manoj':'Yellow',\n",
    "}\n",
    "\n",
    "name = ''\n",
    "color = ''\n",
    "\n",
    "for prop in fav_colors:\n",
    "    name = prop\n",
    "    color = fav_colors.get(prop,'None')\n",
    "    print(f\"{name.title()} likes {color.title()}.\")"
   ]
  },
  {
   "cell_type": "code",
   "execution_count": 37,
   "metadata": {},
   "outputs": [
    {
     "name": "stdout",
     "output_type": "stream",
     "text": [
      "Boolen:\n",
      "Value that is true or flase.\n",
      "\n",
      "Lists:\n",
      "Ordered collection of objects.\n",
      "\n",
      "Dictionary:\n",
      "Unordered collection of key/value pairs.\n",
      "\n",
      "Tuples:\n",
      "Ordered collection of immutable objects.\n",
      "\n",
      "Sets:\n",
      "Unordered collection of unique objects.\n",
      "\n"
     ]
    }
   ],
   "source": [
    "# # practise 2\n",
    "\n",
    "python_glossary = {\n",
    "    'Boolen' : 'Value that is true or flase',\n",
    "    'lists' : 'Ordered collection of objects',\n",
    "    'dictionary' : 'Unordered collection of key/value pairs',\n",
    "    'tuples' : 'Ordered collection of immutable objects',\n",
    "    'sets' : 'Unordered collection of unique objects'\n",
    "}\n",
    "\n",
    "for item in python_glossary:\n",
    "    word = item\n",
    "    meaning = python_glossary.get(item,'No meaning exsists')\n",
    "    print(f\"{item.title()}:\")\n",
    "    print(f\"{meaning}.\\n\")"
   ]
  },
  {
   "cell_type": "code",
   "execution_count": 44,
   "metadata": {},
   "outputs": [
    {
     "name": "stdout",
     "output_type": "stream",
     "text": [
      "\n",
      "key: username\n",
      "value: sundars\n",
      "\n",
      "key: fname\n",
      "value: Sundar\n",
      "\n",
      "key: lname\n",
      "value: Sritharan\n"
     ]
    }
   ],
   "source": [
    "# looping \n",
    "\n",
    "user_0 = {\n",
    "    'username':'sundars',\n",
    "    'fname': 'Sundar',\n",
    "    'lname' : 'Sritharan'\n",
    "}\n",
    "\n",
    "for key,value in user_0.items():\n",
    "    print(f\"\\nkey: {key}\")\n",
    "    print(f\"value: {value}\")"
   ]
  },
  {
   "cell_type": "code",
   "execution_count": 49,
   "metadata": {},
   "outputs": [
    {
     "name": "stdout",
     "output_type": "stream",
     "text": [
      "Jen's favorite programming language is Python.\n",
      "Sarah's favorite programming language is C.\n",
      "Edward's favorite programming language is Ruby.\n",
      "Phil's favorite programming language is Python.\n"
     ]
    }
   ],
   "source": [
    "#looping \n",
    "\n",
    "favorite_language = {\n",
    "    'jen':'python',\n",
    "    'sarah':'c',\n",
    "    'edward':'ruby',\n",
    "    'phil':'python'\n",
    "}\n",
    "\n",
    "for name,language in favorite_language.items():\n",
    "    print(f\"{name.title()}'s favorite programming language is {language.title()}.\")"
   ]
  },
  {
   "cell_type": "code",
   "execution_count": 63,
   "metadata": {},
   "outputs": [
    {
     "name": "stdout",
     "output_type": "stream",
     "text": [
      "Jen\n",
      "Sarah\n",
      "Edward\n",
      "Phil\n",
      "\n",
      "\n",
      "Jen\n",
      "Sarah\n",
      "Edward\n",
      "Phil\n"
     ]
    }
   ],
   "source": [
    "#looping \n",
    "\n",
    "favorite_language = {\n",
    "    'jen':'python',\n",
    "    'sarah':'c',\n",
    "    'edward':'ruby',\n",
    "    'phil':'python'\n",
    "}\n",
    "\n",
    "for name in favorite_language.keys():\n",
    "    print(name.title())\n",
    "    \n",
    "print(\"\\n\")\n",
    "    \n",
    "# looping through key is the default method\n",
    "for name in favorite_language:\n",
    "    print(name.title())"
   ]
  },
  {
   "cell_type": "code",
   "execution_count": 69,
   "metadata": {},
   "outputs": [
    {
     "name": "stdout",
     "output_type": "stream",
     "text": [
      "Hi Jen\n",
      "Hi Sarah\n",
      "\tSarah, I see you love C!\n",
      "Hi Edward\n",
      "Hi Phil\n",
      "\tPhil, I see you love Python!\n"
     ]
    }
   ],
   "source": [
    "#accessing values using a key inside the loop \n",
    "\n",
    "favorite_language = {\n",
    "    'jen':'python',\n",
    "    'sarah':'c',\n",
    "    'edward':'ruby',\n",
    "    'phil':'python'\n",
    "}\n",
    "\n",
    "friends = ['phil','sarah']\n",
    "\n",
    "for name in favorite_language.keys():\n",
    "    print(f\"Hi {name.title()}\")\n",
    "    \n",
    "    if name in friends:\n",
    "        language = favorite_language[name].title()\n",
    "        print(f\"\\t{name.title()}, I see you love {language.title()}!\")"
   ]
  },
  {
   "cell_type": "code",
   "execution_count": 71,
   "metadata": {},
   "outputs": [
    {
     "name": "stdout",
     "output_type": "stream",
     "text": [
      "Erin, please take our favorite language poll\n"
     ]
    }
   ],
   "source": [
    "# check if a person is polled\n",
    "favorite_language = {\n",
    "    'jen':'python',\n",
    "    'sarah':'c',\n",
    "    'edward':'ruby',\n",
    "    'phil':'python'\n",
    "}\n",
    "\n",
    "if 'erin' not in favorite_language.keys():\n",
    "    print(\"Erin, please take our favorite language poll\")"
   ]
  },
  {
   "cell_type": "code",
   "execution_count": 74,
   "metadata": {},
   "outputs": [
    {
     "name": "stdout",
     "output_type": "stream",
     "text": [
      "Edward, thank you for taking the poll.\n",
      "Jen, thank you for taking the poll.\n",
      "Phil, thank you for taking the poll.\n",
      "Sarah, thank you for taking the poll.\n"
     ]
    }
   ],
   "source": [
    "# sorting dictionary \n",
    "\n",
    "favorite_language = {\n",
    "    'jen':'python',\n",
    "    'sarah':'c',\n",
    "    'edward':'ruby',\n",
    "    'phil':'python'\n",
    "}\n",
    "\n",
    "for name in sorted(favorite_language.keys()):\n",
    "    print(f\"{name.title()}, thank you for taking the poll.\")"
   ]
  },
  {
   "cell_type": "code",
   "execution_count": 78,
   "metadata": {},
   "outputs": [
    {
     "name": "stdout",
     "output_type": "stream",
     "text": [
      "The following languages has been mentioned.\n",
      "Python\n",
      "C\n",
      "Ruby\n",
      "Python\n"
     ]
    }
   ],
   "source": [
    "# looping through the values \n",
    "\n",
    "favorite_language = {\n",
    "    'jen':'python',\n",
    "    'sarah':'c',\n",
    "    'edward':'ruby',\n",
    "    'phil':'python'\n",
    "}\n",
    "\n",
    "print(\"The following languages has been mentioned:\")\n",
    "for language in favorite_language.values():\n",
    "    print(language.title())"
   ]
  },
  {
   "cell_type": "code",
   "execution_count": 79,
   "metadata": {},
   "outputs": [
    {
     "name": "stdout",
     "output_type": "stream",
     "text": [
      "The following languages has been mentioned:\n",
      "Python\n",
      "C\n",
      "Ruby\n"
     ]
    }
   ],
   "source": [
    "# wrapping a dict in set \n",
    "favorite_language = {\n",
    "    'jen':'python',\n",
    "    'sarah':'c',\n",
    "    'edward':'ruby',\n",
    "    'phil':'python'\n",
    "}\n",
    "\n",
    "print(\"The following languages has been mentioned:\")\n",
    "for language in set(favorite_language.values()):\n",
    "    print(language.title())"
   ]
  },
  {
   "cell_type": "code",
   "execution_count": 80,
   "metadata": {},
   "outputs": [
    {
     "name": "stdout",
     "output_type": "stream",
     "text": [
      "{'python', 'c', 'ruby'}\n"
     ]
    }
   ],
   "source": [
    "#set example \n",
    "\n",
    "languages = {'python','ruby','c','python'}\n",
    "print(languages)"
   ]
  },
  {
   "cell_type": "code",
   "execution_count": 84,
   "metadata": {},
   "outputs": [
    {
     "name": "stdout",
     "output_type": "stream",
     "text": [
      "Boolen : Value that is true or flase.\n",
      "Lists : Ordered collection of objects.\n",
      "Dictionary : Unordered collection of key/value pairs.\n",
      "Tuples : Ordered collection of immutable objects.\n",
      "Set : Unordered collection of unique objects.\n",
      "Print : print the values in the output.\n",
      "None : represents a null value.\n",
      "Raise : raise an exception.\n",
      "Return : returns a value and exit the function.\n",
      "While : create a while loop.\n"
     ]
    }
   ],
   "source": [
    "# # practise 4\n",
    "\n",
    "python_glossary = {\n",
    "    'Boolen' : 'Value that is true or flase',\n",
    "    'lists' : 'Ordered collection of objects',\n",
    "    'dictionary' : 'Unordered collection of key/value pairs',\n",
    "    'tuples' : 'Ordered collection of immutable objects',\n",
    "    'set' : 'Unordered collection of unique objects',\n",
    "    'print' : 'print the values in the output',\n",
    "    'None': 'represents a null value',\n",
    "    'raise' : 'raise an exception',\n",
    "    'return' : 'returns a value and exit the function',\n",
    "    'while' : 'create a while loop'\n",
    "}\n",
    "\n",
    "for word,meaning in python_glossary.items():\n",
    "    print(f\"{word.title()} : {meaning}.\")"
   ]
  },
  {
   "cell_type": "code",
   "execution_count": 86,
   "metadata": {},
   "outputs": [
    {
     "name": "stdout",
     "output_type": "stream",
     "text": [
      "The Nile runs through Egypt.\n",
      "The Niagara runs through Usa.\n",
      "The Gange runs through India.\n"
     ]
    }
   ],
   "source": [
    "# excercise 4\n",
    "\n",
    "rivers = {\n",
    "    'nile' : 'egypt',\n",
    "    'niagara' : 'usa',\n",
    "    'gange' : 'india'\n",
    "}\n",
    "\n",
    "for river_name,country in rivers.items():\n",
    "    print(f\"The {river_name.title()} runs through {country.title()}.\")"
   ]
  },
  {
   "cell_type": "code",
   "execution_count": 89,
   "metadata": {},
   "outputs": [
    {
     "name": "stdout",
     "output_type": "stream",
     "text": [
      "Hello Jen, thanks for taking the poll.\n",
      "Hello Phil, thanks for taking the poll.\n",
      "Hello Sam, kindly take the poll.\n",
      "Hello Kate, kindly take the poll.\n",
      "Hello Sarah, thanks for taking the poll.\n",
      "Hello Edward, thanks for taking the poll.\n"
     ]
    }
   ],
   "source": [
    "# excercise 5\n",
    "favorite_language = {\n",
    "    'jen':'python',\n",
    "    'phil':'python',\n",
    "    'sam' : None,\n",
    "    'kate' : None,\n",
    "    'sarah':'c',\n",
    "    'edward':'ruby'\n",
    "}\n",
    "\n",
    "for people,language in favorite_language.items():\n",
    "    if language == None:\n",
    "        print(f\"Hello {people.title()}, kindly take the poll.\")\n",
    "    else:\n",
    "        print(f\"Hello {people.title()}, thanks for taking the poll.\")"
   ]
  },
  {
   "cell_type": "code",
   "execution_count": 90,
   "metadata": {},
   "outputs": [
    {
     "name": "stdout",
     "output_type": "stream",
     "text": [
      "{'color': 'green', 'points': 5}\n",
      "{'color': 'yellow', 'points': 10}\n",
      "{'color': 'red', 'points': 15}\n"
     ]
    }
   ],
   "source": [
    "# list of dictonaries \n",
    "\n",
    "alien_0 = {'color':'green','points':5}\n",
    "alien_1 = {'color':'yellow','points':10}\n",
    "alien_2 = {'color':'red','points':15}\n",
    "\n",
    "aliens = [alien_0,alien_1,alien_2]\n",
    "\n",
    "for alien in aliens:\n",
    "    print(alien)"
   ]
  },
  {
   "cell_type": "code",
   "execution_count": 96,
   "metadata": {},
   "outputs": [
    {
     "name": "stdout",
     "output_type": "stream",
     "text": [
      "{'color': 'green', 'points': 5, 'speed': 'slow'}\n",
      "{'color': 'green', 'points': 5, 'speed': 'slow'}\n",
      "{'color': 'green', 'points': 5, 'speed': 'slow'}\n",
      "{'color': 'green', 'points': 5, 'speed': 'slow'}\n",
      "{'color': 'green', 'points': 5, 'speed': 'slow'}\n",
      "*******\n",
      "The total number of aliens: 30\n"
     ]
    }
   ],
   "source": [
    "#make a empty list of alients \n",
    "aliens = []\n",
    "\n",
    "for alien_num in range(30):\n",
    "    new_alien = {'color':'green','points':5, 'speed':'slow'}\n",
    "    aliens.append(new_alien)\n",
    "    \n",
    "#print 5 aliens \n",
    "for alien in aliens[:5]:\n",
    "    print(alien)\n",
    "\n",
    "print(\"*******\")\n",
    "\n",
    "print(f\"The total number of aliens: {len(aliens)}\")"
   ]
  },
  {
   "cell_type": "code",
   "execution_count": 100,
   "metadata": {},
   "outputs": [
    {
     "name": "stdout",
     "output_type": "stream",
     "text": [
      "{'color': 'yellow', 'points': 10, 'speed': 'medium'}\n",
      "{'color': 'yellow', 'points': 10, 'speed': 'medium'}\n",
      "{'color': 'yellow', 'points': 10, 'speed': 'medium'}\n",
      "{'color': 'green', 'points': 5, 'speed': 'slow'}\n",
      "{'color': 'green', 'points': 5, 'speed': 'slow'}\n",
      "*******\n",
      "The total number of aliens: 30\n"
     ]
    }
   ],
   "source": [
    "#change aliens colors \n",
    "aliens = []\n",
    "\n",
    "for alien_num in range(30):\n",
    "    new_alien = {'color':'green','points':5, 'speed':'slow'}\n",
    "    aliens.append(new_alien)\n",
    "    \n",
    "    \n",
    "#change alien colors \n",
    "for alien in aliens[:3]:\n",
    "    if alien['color'] == 'green':\n",
    "        alien['color'] = 'yellow'\n",
    "        alien['points'] = 10\n",
    "        alien['speed'] = 'medium'\n",
    "\n",
    "#print 5 aliens \n",
    "for alien in aliens[:5]:\n",
    "    print(alien)\n",
    "\n",
    "print(\"*******\")\n",
    "\n",
    "print(f\"The total number of aliens: {len(aliens)}\")"
   ]
  },
  {
   "cell_type": "code",
   "execution_count": 102,
   "metadata": {},
   "outputs": [
    {
     "name": "stdout",
     "output_type": "stream",
     "text": [
      "{'color': 'red', 'points': 15, 'speed': 'fast'}\n",
      "{'color': 'red', 'points': 15, 'speed': 'fast'}\n",
      "{'color': 'red', 'points': 15, 'speed': 'fast'}\n",
      "{'color': 'green', 'points': 5, 'speed': 'slow'}\n",
      "{'color': 'green', 'points': 5, 'speed': 'slow'}\n",
      "*******\n",
      "The total number of aliens: 30\n"
     ]
    }
   ],
   "source": [
    "#change alien colors \n",
    "for alien in aliens[:3]:\n",
    "    if alien['color'] == 'green':\n",
    "        alien['color'] = 'yellow'\n",
    "        alien['points'] = 10\n",
    "        alien['speed'] = 'medium'\n",
    "    elif alien['color'] == 'yellow':\n",
    "        alien['color'] = 'red'\n",
    "        alien['points'] = 15\n",
    "        alien['speed'] = 'fast'\n",
    "    \n",
    "    \n",
    "#print 5 aliens \n",
    "for alien in aliens[:5]:\n",
    "    print(alien)\n",
    "\n",
    "print(\"*******\")\n",
    "\n",
    "print(f\"The total number of aliens: {len(aliens)}\")"
   ]
  },
  {
   "cell_type": "code",
   "execution_count": 105,
   "metadata": {},
   "outputs": [
    {
     "name": "stdout",
     "output_type": "stream",
     "text": [
      "You ordered a thick-crust pizza with the following topics:\n",
      "\t Mushrooms\n",
      "\t Extra Cheese\n"
     ]
    }
   ],
   "source": [
    "#store information about pizza being ordered\n",
    "\n",
    "pizza = {\n",
    "    'curst' : 'thick',\n",
    "    'toppings' : ['mushrooms','extra cheese']\n",
    "}\n",
    "\n",
    "# print order summary \n",
    "\n",
    "print (f\"You ordered a {pizza['curst']}-crust pizza with the \"\n",
    "          \"following topics:\")\n",
    "\n",
    "for topping in pizza['toppings']:\n",
    "    print(f\"\\t {topping.title()}\")"
   ]
  },
  {
   "cell_type": "code",
   "execution_count": 110,
   "metadata": {},
   "outputs": [
    {
     "name": "stdout",
     "output_type": "stream",
     "text": [
      "\n",
      "Jen's favorite languages are:'\n",
      "\tPython\n",
      "\tRuby\n",
      "\n",
      "Sarah's favorite language is:'\n",
      "\tC\n",
      "\n",
      "Edward's favorite languages are:'\n",
      "\tRuby\n",
      "\tGo\n",
      "\n",
      "Phil's favorite languages are:'\n",
      "\tPython\n",
      "\tHaskell\n"
     ]
    }
   ],
   "source": [
    "# favorite languages \n",
    "\n",
    "favorite_languages = {\n",
    "    'jen':['python','ruby'],\n",
    "    'sarah':['c'],\n",
    "    'edward':['ruby','go'],\n",
    "    'phil':['python','haskell']\n",
    "}\n",
    "\n",
    "for name,languages in favorite_languages.items():\n",
    "    \n",
    "    if len(languages) > 1:\n",
    "        print(f\"\\n{name.title()}'s favorite languages are:'\")\n",
    "    else:\n",
    "        print(f\"\\n{name.title()}'s favorite language is:'\")\n",
    "    \n",
    "    for language in languages:\n",
    "        print(f\"\\t{language.title()}\")"
   ]
  },
  {
   "cell_type": "code",
   "execution_count": 118,
   "metadata": {},
   "outputs": [
    {
     "name": "stdout",
     "output_type": "stream",
     "text": [
      "\n",
      "Username: aeinstien\n",
      "\t Full Name: Albert  Einstien\n",
      "\t Location: Princeton\n",
      "\n",
      "Username: mcurie\n",
      "\t Full Name: Mary  Curie\n",
      "\t Location: Paris\n"
     ]
    }
   ],
   "source": [
    "# dictionary inside the dictionary \n",
    "\n",
    "users = {\n",
    "    'aeinstien' : {\n",
    "        'first' : 'albert',\n",
    "        'last' : 'einstien',\n",
    "        'location' : 'princeton'\n",
    "    },\n",
    "    'mcurie' : {\n",
    "        'first' : 'mary',\n",
    "        'last' : 'curie',\n",
    "        'location' : 'paris'\n",
    "    },\n",
    "}\n",
    "\n",
    "for username,user_info in users.items():\n",
    "    print(f\"\\nUsername: {username}\")\n",
    "    \n",
    "    print(f\"\\t Full Name: {user_info['first'].title()}  {user_info['last'].title()}\")\n",
    "    print(f\"\\t Location: {user_info['location'].title()}\")"
   ]
  },
  {
   "cell_type": "code",
   "execution_count": 130,
   "metadata": {},
   "outputs": [
    {
     "name": "stdout",
     "output_type": "stream",
     "text": [
      "Member1:\n",
      "\tFull Name: Diya Sundar \n",
      "\tAge: 9\n",
      "\tCity: New Brunswick\n",
      "Member2:\n",
      "\tFull Name: Priya Sundar \n",
      "\tAge: 37\n",
      "\tCity: Virudhunagar\n"
     ]
    }
   ],
   "source": [
    "# try it yourself \n",
    "# people \n",
    "people = {\n",
    "    'member1':{\n",
    "        'first_name':'diya',\n",
    "        'last_name':'sundar',\n",
    "        'age' : 9,\n",
    "        'city' :'new brunswick'\n",
    "    },\n",
    "    'member2':{\n",
    "        'first_name':'nidhi',\n",
    "        'last_name':'sundar',\n",
    "        'age' : 5,\n",
    "        'city' :'edison'\n",
    "    },\n",
    "    'member2':{\n",
    "        'first_name':'priya',\n",
    "        'last_name':'sundar',\n",
    "        'age' : 37,\n",
    "        'city' :'virudhunagar'\n",
    "    },\n",
    "}\n",
    "\n",
    "#loop and print members\n",
    "\n",
    "for member,info in people.items():\n",
    "    print(f\"{member.title()}:\")\n",
    "    \n",
    "    print(f\"\\tFull Name: {info['first_name'].title()} {info['last_name'].title()} \")\n",
    "    print(f\"\\tAge: {info['age']}\")\n",
    "    print(f\"\\tCity: {info['city'].title()}\")\n"
   ]
  },
  {
   "cell_type": "code",
   "execution_count": 153,
   "metadata": {},
   "outputs": [
    {
     "name": "stdout",
     "output_type": "stream",
     "text": [
      "Pet Id: pet_0\n",
      "\t Kind : Dog\n",
      "\t Name : Leo\n",
      "\t Owner : Madala\n",
      "Pet Id: pet_1\n",
      "\t Kind : Horse\n",
      "\t Name : Tipu\n",
      "\t Owner : Sundar\n",
      "Pet Id: pet_2\n",
      "\t Kind : Cat\n",
      "\t Name : Meow\n",
      "\t Owner : Salman\n"
     ]
    }
   ],
   "source": [
    "#pets \n",
    "\n",
    "pets = {\n",
    "    'pet_0' : {\n",
    "        'kind' : 'dog',\n",
    "        'name' : 'leo',\n",
    "        'owner' : 'madala'\n",
    "    },\n",
    "    'pet_1' : {\n",
    "        'kind' : 'horse',\n",
    "        'name' : 'tipu',\n",
    "        'owner' : 'sundar'\n",
    "    },\n",
    "    'pet_2' : {\n",
    "        'kind' : 'cat',\n",
    "        'name' : 'meow',\n",
    "        'owner' : 'salman'\n",
    "    }\n",
    "}\n",
    "\n",
    "\n",
    "for pet_id,infos in pets.items():\n",
    "    print (f\"Pet Id: {pet_id}\")\n",
    "    \n",
    "    for x,y in infos.items():\n",
    "        print(f\"\\t {x.title()} : {y.title()}\")"
   ]
  },
  {
   "cell_type": "code",
   "execution_count": 157,
   "metadata": {},
   "outputs": [
    {
     "name": "stdout",
     "output_type": "stream",
     "text": [
      "Priya's favorite places are:'\n",
      "\tIndia\n",
      "\tSwizerland\n",
      "\tSingapore\n",
      "Sam's favorite places are:'\n",
      "\tThailand\n",
      "\tMalaysia\n",
      "\tDubai\n",
      "Natts's favorite places are:'\n",
      "\tGermany\n",
      "\tOregon\n",
      "\tIndia\n",
      "Diya's only favorite places is:'\n",
      "\tUsa\n"
     ]
    }
   ],
   "source": [
    "# favorite places\n",
    "\n",
    "favorite_places = {\n",
    "    'priya':['india','swizerland','singapore'],\n",
    "    'sam':['thailand','malaysia','dubai'],\n",
    "    'natts': ['germany','oregon','india'],\n",
    "    'diya': ['usa']\n",
    "}\n",
    "\n",
    "for person,places in favorite_places.items():\n",
    "    \n",
    "    if len(places) > 1:\n",
    "        print(f\"{person.title()}'s favorite places are:'\")\n",
    "    else:\n",
    "        print(f\"{person.title()}'s only favorite places is:'\")\n",
    "    \n",
    "    \n",
    "    for place in places:\n",
    "        print(f\"\\t{place.title()}\")"
   ]
  },
  {
   "cell_type": "code",
   "execution_count": 182,
   "metadata": {},
   "outputs": [
    {
     "name": "stdout",
     "output_type": "stream",
     "text": [
      "Jen's favorite numbers are:'\n",
      "8,8,12,86\n",
      "Leo's only favorite numbers is:'\n",
      "99\n",
      "Edward's favorite numbers are:'\n",
      "3,6,989,12\n",
      "Phil's favorite numbers are:'\n",
      "6,8,12\n"
     ]
    }
   ],
   "source": [
    "# fav numbers \n",
    "favorite_numbers = {\n",
    "    'jen':[8,8,12,86],\n",
    "    'leo':[99],\n",
    "    'edward':[3,6,989,12],\n",
    "    'phil':[6,8,12]\n",
    "}\n",
    "\n",
    "for person,fav_nums in favorite_numbers.items():\n",
    "    if len(fav_nums) > 1:\n",
    "        print(f\"{person.title()}'s favorite numbers are:'\")\n",
    "    else:\n",
    "        print(f\"{person.title()}'s only favorite numbers is:'\")\n",
    "    \n",
    "    s = ','.join([str(n) for n in fav_nums])\n",
    "    print(s)"
   ]
  },
  {
   "cell_type": "code",
   "execution_count": 173,
   "metadata": {},
   "outputs": [
    {
     "name": "stdout",
     "output_type": "stream",
     "text": [
      "0-1-2\n"
     ]
    }
   ],
   "source": [
    "l = [0, 1, 2]\n",
    "s = '-'.join([str(n) for n in l])\n",
    "print(s)"
   ]
  },
  {
   "cell_type": "code",
   "execution_count": 194,
   "metadata": {},
   "outputs": [
    {
     "name": "stdout",
     "output_type": "stream",
     "text": [
      "All you need to know about major cities:\n",
      "City: Dubai\n",
      "\tCountry : USA\n",
      "\tPopulation : 8.7 Millions\n",
      "\tFact : Originally Called Longacre Square\n",
      "City: Dubai\n",
      "\tCountry : UK\n",
      "\tPopulation : 9.3 Millions\n",
      "\tFact : Smallest City In England\n",
      "City: Dubai\n",
      "\tCountry : France\n",
      "\tPopulation : 2.1 Millions\n",
      "\tFact : Eiffle Tower Was Temp.\n",
      "City: Dubai\n",
      "\tCountry : UAE\n",
      "\tPopulation : 2.8 Millions\n",
      "\tFact : 50 Years Ago Little Town.\n"
     ]
    }
   ],
   "source": [
    "#cities\n",
    "\n",
    "cities = {\n",
    "    'new york':{\n",
    "        'country' : 'usa',\n",
    "        'population' :8.7,\n",
    "        'fact':'originally called longacre square'\n",
    "    },\n",
    "    'london' : {\n",
    "        'country' : 'uk',\n",
    "        'population' :9.3,\n",
    "        'fact':'smallest city in england'\n",
    "    },\n",
    "    'paris' : {\n",
    "        'country' : 'france',\n",
    "        'population' :2.1,\n",
    "        'fact':'Eiffle tower was temp.' \n",
    "    },\n",
    "    'dubai' : {\n",
    "        'country' : 'uae',\n",
    "        'population' :2.8,\n",
    "        'fact':'50 years ago little town.'\n",
    "    }\n",
    "}\n",
    "\n",
    "# print the cities and their facts\n",
    "print(\"All you need to know about major cities:\")\n",
    "\n",
    "for name,details in cities.items():\n",
    "    print(f\"City: {city.title()}\")\n",
    "    \n",
    "    for key,info in details.items():\n",
    "        if info in ['usa','uk','uae']:\n",
    "            print(f\"\\t{key.title()} : {info.upper()}\")\n",
    "        elif key == 'population':\n",
    "            print(f\"\\t{key.title()} : {info} Millions\")\n",
    "        else:\n",
    "            print(f\"\\t{key.title()} : {info.title()}\")"
   ]
  },
  {
   "cell_type": "code",
   "execution_count": 223,
   "metadata": {},
   "outputs": [
    {
     "name": "stdout",
     "output_type": "stream",
     "text": [
      "My first car, was a black Hyundai Elantra bought in 2008.\n",
      "My second car, was a granite Acura MDX bought in 2015.\n",
      "My thrid car, was a blue Bmw x328i bought in 2015.\n"
     ]
    }
   ],
   "source": [
    "#extension\n",
    "\n",
    "cars = {\n",
    "    'first' : {\n",
    "        'make':'hyundai',\n",
    "        'color':'black',\n",
    "        'model': 'Elantra',\n",
    "        'year':2008\n",
    "    },\n",
    "    'second' : {\n",
    "        'make':'acura',\n",
    "        'color':'granite',\n",
    "        'model': 'MDX',\n",
    "        'year':2015\n",
    "    },\n",
    "    'thrid' : {\n",
    "        'make':'bmw',\n",
    "        'color':'blue',\n",
    "        'model': 'x328i',\n",
    "        'year':2015\n",
    "    }\n",
    "}\n",
    "\n",
    "#print cars \n",
    "\n",
    "for num,info in cars.items():\n",
    "    print(f\"My {num} car, was a {info['color']} {info['make'].title()} {info['model']} bought in {info['year']}.\")"
   ]
  },
  {
   "cell_type": "code",
   "execution_count": null,
   "metadata": {},
   "outputs": [],
   "source": []
  }
 ],
 "metadata": {
  "kernelspec": {
   "display_name": "Python 3",
   "language": "python",
   "name": "python3"
  },
  "language_info": {
   "codemirror_mode": {
    "name": "ipython",
    "version": 3
   },
   "file_extension": ".py",
   "mimetype": "text/x-python",
   "name": "python",
   "nbconvert_exporter": "python",
   "pygments_lexer": "ipython3",
   "version": "3.7.6"
  }
 },
 "nbformat": 4,
 "nbformat_minor": 4
}

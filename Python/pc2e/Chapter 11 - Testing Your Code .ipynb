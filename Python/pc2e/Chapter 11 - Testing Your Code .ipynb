{
 "cells": [
  {
   "cell_type": "code",
   "execution_count": null,
   "metadata": {},
   "outputs": [],
   "source": [
    "# name_function.py - this function is in a separate file\n",
    "def get_formatted_name(first,last):\n",
    "    \"\"\"Generate a neatly formatted full name\"\"\"\n",
    "    full_name = f\"{first} {last}\"\n",
    "    return full_name.title()"
   ]
  },
  {
   "cell_type": "code",
   "execution_count": null,
   "metadata": {},
   "outputs": [],
   "source": [
    "# call the get formatted name function\n",
    "\n",
    "from name_function import get_formatted_name\n",
    "\n",
    "print(f\"Enter 'q' at any time to quit.\")\n",
    "\n",
    "while True:\n",
    "    first = input(\"Please give me a first name: \")\n",
    "    if first == 'q':\n",
    "        break \n",
    "    last = input(\"Please give me a last name: \")\n",
    "    if last == 'q':\n",
    "        break \n",
    "    full_name = get_formatted_name(first,last)\n",
    "    print(f\"\\n The neatly formatted name is {full_name}\")"
   ]
  },
  {
   "cell_type": "code",
   "execution_count": 4,
   "metadata": {},
   "outputs": [
    {
     "name": "stderr",
     "output_type": "stream",
     "text": [
      "E\n",
      "======================================================================\n",
      "ERROR: /Users/sundarsritharan/Library/Jupyter/runtime/kernel-e1e5c195-67c3-4131-808c-2b5b9e53b063 (unittest.loader._FailedTest)\n",
      "----------------------------------------------------------------------\n",
      "AttributeError: module '__main__' has no attribute '/Users/sundarsritharan/Library/Jupyter/runtime/kernel-e1e5c195-67c3-4131-808c-2b5b9e53b063'\n",
      "\n",
      "----------------------------------------------------------------------\n",
      "Ran 1 test in 0.007s\n",
      "\n",
      "FAILED (errors=1)\n"
     ]
    },
    {
     "ename": "SystemExit",
     "evalue": "True",
     "output_type": "error",
     "traceback": [
      "An exception has occurred, use %tb to see the full traceback.\n",
      "\u001b[0;31mSystemExit\u001b[0m\u001b[0;31m:\u001b[0m True\n"
     ]
    },
    {
     "name": "stderr",
     "output_type": "stream",
     "text": [
      "/Users/sundarsritharan/opt/anaconda3/lib/python3.7/site-packages/IPython/core/interactiveshell.py:3339: UserWarning: To exit: use 'exit', 'quit', or Ctrl-D.\n",
      "  warn(\"To exit: use 'exit', 'quit', or Ctrl-D.\", stacklevel=1)\n"
     ]
    }
   ],
   "source": [
    "import unittest \n",
    "from name_function import get_formatted_name\n",
    "\n",
    "class NamesTestCase(unittest.TestCase):\n",
    "    \"\"\"test for the name_function.py\"\"\"\n",
    "    \n",
    "    def test_first_last_names(self):\n",
    "        \"\"\"do names like 'janes jolpin' work?\"\"\"\n",
    "        formatted_name = get_formatted_name('janis','joplin')\n",
    "        self.assertEqual(formatted_name,'Janis Joplin' )\n",
    "        \n",
    "if __name__ == '__main__':\n",
    "    unittest.main()"
   ]
  },
  {
   "cell_type": "code",
   "execution_count": null,
   "metadata": {},
   "outputs": [],
   "source": []
  }
 ],
 "metadata": {
  "kernelspec": {
   "display_name": "Python 3",
   "language": "python",
   "name": "python3"
  },
  "language_info": {
   "codemirror_mode": {
    "name": "ipython",
    "version": 3
   },
   "file_extension": ".py",
   "mimetype": "text/x-python",
   "name": "python",
   "nbconvert_exporter": "python",
   "pygments_lexer": "ipython3",
   "version": "3.7.6"
  }
 },
 "nbformat": 4,
 "nbformat_minor": 4
}

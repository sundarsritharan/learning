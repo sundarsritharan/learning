{
 "cells": [
  {
   "cell_type": "code",
   "execution_count": 1,
   "metadata": {},
   "outputs": [
    {
     "name": "stdout",
     "output_type": "stream",
     "text": [
      "Tell me something, I will repeat it: Sai Ram\n",
      "Sai Ram\n"
     ]
    }
   ],
   "source": [
    "message = input(\"Tell me something, I will repeat it: \")\n",
    "print(message)"
   ]
  },
  {
   "cell_type": "code",
   "execution_count": 3,
   "metadata": {},
   "outputs": [
    {
     "name": "stdout",
     "output_type": "stream",
     "text": [
      "Please enter your name: Sundar\n",
      "\n",
      " Hello, Sundar!\n"
     ]
    }
   ],
   "source": [
    "name = input(\"Please enter your name: \")\n",
    "print(f\"\\n Hello, {name}!\")"
   ]
  },
  {
   "cell_type": "code",
   "execution_count": 3,
   "metadata": {},
   "outputs": [
    {
     "name": "stdout",
     "output_type": "stream",
     "text": [
      "If you tell us who you are. We can personalize our message for you.\n",
      "What is your first name?sundar\n",
      "\n",
      "Hello, sundar !\n"
     ]
    }
   ],
   "source": [
    "# multiple line prompt \n",
    "prompt = \"If you tell us who you are. We can personalize our message for you.\"\n",
    "prompt += \"\\nWhat is your first name? \"\n",
    "\n",
    "\n",
    "name = input(prompt)\n",
    "print(f\"\\nHello, {name} !\")"
   ]
  },
  {
   "cell_type": "code",
   "execution_count": null,
   "metadata": {},
   "outputs": [],
   "source": [
    "# getting integer numbers\n",
    "\n",
    "age = input(\"How old are you? \")\n",
    "age = int(age)\n",
    "age >= 18 "
   ]
  },
  {
   "cell_type": "code",
   "execution_count": 2,
   "metadata": {},
   "outputs": [
    {
     "name": "stdout",
     "output_type": "stream",
     "text": [
      "How tall are you, in inches? 12\n",
      "\n",
      "You need to grow little more taller to ride the coster\n"
     ]
    }
   ],
   "source": [
    "# check roller coster ride height \n",
    "\n",
    "height = input(\"How tall are you, in inches? \")\n",
    "height = int(height)\n",
    "\n",
    "if height >= 48:\n",
    "    print(\"\\nYou are good to ride the coster.\")\n",
    "else:\n",
    "    print(\"\\nYou need to grow little more taller to ride the coster.\")"
   ]
  },
  {
   "cell_type": "code",
   "execution_count": 3,
   "metadata": {},
   "outputs": [
    {
     "data": {
      "text/plain": [
       "1"
      ]
     },
     "execution_count": 3,
     "metadata": {},
     "output_type": "execute_result"
    }
   ],
   "source": [
    "4%3"
   ]
  },
  {
   "cell_type": "code",
   "execution_count": 8,
   "metadata": {},
   "outputs": [
    {
     "name": "stdout",
     "output_type": "stream",
     "text": [
      "Enter a number, I will tell you it's odd or even: 21\n",
      "\n",
      "The number 21 is an odd number.\n"
     ]
    }
   ],
   "source": [
    "# find a number even or odd\n",
    "\n",
    "num = input(\"Enter a number, I will tell you it's odd or even: \")\n",
    "num = int(num)\n",
    "\n",
    "if num % 2 == 0:\n",
    "    print(f\"\\nThe number {num} is an even number.\")\n",
    "else:\n",
    "    print(f\"\\nThe number {num} is an odd number.\")"
   ]
  },
  {
   "cell_type": "code",
   "execution_count": 9,
   "metadata": {},
   "outputs": [
    {
     "name": "stdout",
     "output_type": "stream",
     "text": [
      "what kind of car you would like to rent ? suburu\n",
      "Let me find if I can find a suburu.\n"
     ]
    }
   ],
   "source": [
    "# rental car \n",
    "\n",
    "car = input(\"what kind of car you would like to rent ? \")\n",
    "print(f\"Let me find if I can find a {car}.\")"
   ]
  },
  {
   "cell_type": "code",
   "execution_count": 11,
   "metadata": {},
   "outputs": [
    {
     "name": "stdout",
     "output_type": "stream",
     "text": [
      "How many members are in your party? 12\n",
      "\n",
      "Kindly wait for your table.\n"
     ]
    }
   ],
   "source": [
    "# restraunt seating \n",
    "\n",
    "seating = input(\"How many members are in your party? \")\n",
    "seating = int(seating)\n",
    "\n",
    "if seating >= 8:\n",
    "    print(\"\\nKindly wait for your table.\")\n",
    "else:\n",
    "    print(\"\\nYour table is ready.\")"
   ]
  },
  {
   "cell_type": "code",
   "execution_count": 14,
   "metadata": {},
   "outputs": [
    {
     "name": "stdout",
     "output_type": "stream",
     "text": [
      "Enter a number, I will tell you it's multiple of 10: 1200\n",
      "\n",
      "The number 1200 is a multiple of 10.\n"
     ]
    }
   ],
   "source": [
    "# multiples of 10 \n",
    "num = input(\"Enter a number, I will tell you it's multiple of 10: \")\n",
    "num = int(num)\n",
    "\n",
    "if num % 10 == 0:\n",
    "    print(f\"\\nThe number {num} is a multiple of 10.\")\n",
    "else:\n",
    "    print(f\"\\nThe number {num} is not a multiple of 10.\")"
   ]
  },
  {
   "cell_type": "code",
   "execution_count": 15,
   "metadata": {},
   "outputs": [
    {
     "name": "stdout",
     "output_type": "stream",
     "text": [
      "1\n",
      "2\n",
      "3\n",
      "4\n",
      "5\n"
     ]
    }
   ],
   "source": [
    "# simple while loop \n",
    "\n",
    "current_num = 1 \n",
    "\n",
    "while current_num <= 5:\n",
    "    print(current_num)\n",
    "    current_num += 1"
   ]
  },
  {
   "cell_type": "code",
   "execution_count": 18,
   "metadata": {},
   "outputs": [
    {
     "name": "stdout",
     "output_type": "stream",
     "text": [
      "\n",
      "Tell me something. I will repeat it back to you.\n",
      "Enter quit to end the program.hellow\n",
      "hellow\n",
      "\n",
      "Tell me something. I will repeat it back to you.\n",
      "Enter quit to end the program.boss\n",
      "boss\n",
      "\n",
      "Tell me something. I will repeat it back to you.\n",
      "Enter quit to end the program.quit\n"
     ]
    }
   ],
   "source": [
    "# enhanced parrot program\n",
    "prompt = \"\\nTell me something. I will repeat it back to you.\"\n",
    "prompt += \"\\nEnter quit to end the program.\"\n",
    "\n",
    "message = \"\"\n",
    "\n",
    "while message != \"quit\":\n",
    "    message = input(prompt)\n",
    "    \n",
    "    if message != \"quit\":\n",
    "        print(message)"
   ]
  },
  {
   "cell_type": "code",
   "execution_count": 20,
   "metadata": {},
   "outputs": [
    {
     "name": "stdout",
     "output_type": "stream",
     "text": [
      "\n",
      "Tell me something. I will repeat it back to you.\n",
      "Enter quit to end the program.gsgsgs\n",
      "gsgsgs\n",
      "\n",
      "Tell me something. I will repeat it back to you.\n",
      "Enter quit to end the program.jsjsjss\n",
      "jsjsjss\n",
      "\n",
      "Tell me something. I will repeat it back to you.\n",
      "Enter quit to end the program.quit\n"
     ]
    }
   ],
   "source": [
    "# using flag to stop program \n",
    "\n",
    "prompt = \"\\nTell me something. I will repeat it back to you.\"\n",
    "prompt += \"\\nEnter quit to end the program.\"\n",
    "\n",
    "active = True\n",
    "\n",
    "while active:\n",
    "    message = input(prompt)\n",
    "    \n",
    "    if message == \"quit\":\n",
    "        active = False \n",
    "    else:\n",
    "        print(message)"
   ]
  },
  {
   "cell_type": "code",
   "execution_count": 23,
   "metadata": {},
   "outputs": [
    {
     "name": "stdout",
     "output_type": "stream",
     "text": [
      "\n",
      "Enter quit to exit the program.san fransico\n",
      "\n",
      "I would love to visit San Fransico!\n",
      "\n",
      "Enter quit to exit the program.quit\n"
     ]
    }
   ],
   "source": [
    "# cities visted break statement \n",
    "\n",
    "prompt = \"\\nEnter the city that you would like to visit: \"\n",
    "prompt = \"\\nEnter quit to exit the program.\"\n",
    "\n",
    "while True:\n",
    "    message = input(prompt)\n",
    "    \n",
    "    if message == 'quit':\n",
    "        break\n",
    "    else:\n",
    "        print(f\"\\nI would love to visit {message.title()}!\")"
   ]
  },
  {
   "cell_type": "code",
   "execution_count": 25,
   "metadata": {},
   "outputs": [
    {
     "name": "stdout",
     "output_type": "stream",
     "text": [
      "1\n",
      "3\n",
      "5\n",
      "7\n",
      "9\n"
     ]
    }
   ],
   "source": [
    "# continue statement take the program to the begining of the loop \n",
    "\n",
    "num = 0 \n",
    "\n",
    "while num < 10:\n",
    "    num += 1\n",
    "    if num % 2 == 0:\n",
    "        continue \n",
    "    \n",
    "    print(num)"
   ]
  },
  {
   "cell_type": "code",
   "execution_count": 27,
   "metadata": {},
   "outputs": [
    {
     "name": "stdout",
     "output_type": "stream",
     "text": [
      "1\n",
      "2\n",
      "3\n",
      "4\n",
      "5\n"
     ]
    }
   ],
   "source": [
    "num = 1\n",
    "\n",
    "while num <= 5:\n",
    "    print(num)\n",
    "    num += 1"
   ]
  },
  {
   "cell_type": "code",
   "execution_count": 50,
   "metadata": {},
   "outputs": [
    {
     "name": "stdout",
     "output_type": "stream",
     "text": [
      "\n",
      "Please enter the pizza topping you would like to add: \n",
      "(Enter 'quit' to finish entering.)nush\n",
      "\n",
      "Your toppings nush has been added to your pizza.\n",
      "\n",
      "Please enter the pizza topping you would like to add: \n",
      "(Enter 'quit' to finish entering.)test\n",
      "\n",
      "Your toppings test has been added to your pizza.\n",
      "\n",
      "Please enter the pizza topping you would like to add: \n",
      "(Enter 'quit' to finish entering.)quit\n"
     ]
    }
   ],
   "source": [
    "# pizza topping \n",
    "\n",
    "prompt = (\"\\nPlease enter the pizza topping you would like to add: \")\n",
    "prompt += (\"\\n(Enter 'quit' to finish entering.)\")\n",
    "\n",
    "active = True\n",
    "\n",
    "while active:\n",
    "    topping = input(prompt)\n",
    "    if topping == 'quit':\n",
    "        break\n",
    "    else:\n",
    "        print(f\"\\nYour toppings {topping} has been added to your pizza.\")"
   ]
  },
  {
   "cell_type": "code",
   "execution_count": 49,
   "metadata": {},
   "outputs": [
    {
     "name": "stdout",
     "output_type": "stream",
     "text": [
      "\n",
      "Please enter your age to find the movie ticket price: -45\n"
     ]
    }
   ],
   "source": [
    "#movie ticket price\n",
    "prompt = (\"\\nPlease enter your age to find the movie ticket price: \")\n",
    "\n",
    "age = input(prompt)\n",
    "age = int(age)\n",
    "\n",
    "while age >= 0:\n",
    "    if age < 3:\n",
    "        print('free')\n",
    "        break\n",
    "    elif age >= 3 and age <= 12:\n",
    "        print(\"$10\")\n",
    "        break\n",
    "    elif age >= 12:\n",
    "        print(\"$15\")\n",
    "        break"
   ]
  },
  {
   "cell_type": "code",
   "execution_count": 58,
   "metadata": {},
   "outputs": [
    {
     "name": "stdout",
     "output_type": "stream",
     "text": [
      "Verifying user: Candance\n",
      "Verifying user: Brian\n",
      "Verifying user: Alice\n",
      "\n",
      "The following users have been confirmed:\n",
      "Candance\n",
      "Brian\n",
      "Alice\n"
     ]
    }
   ],
   "source": [
    "# using while loops and lists\n",
    "\n",
    "unconfirmed_users = ['Alice','Brian','Candance']\n",
    "confirmed_users = []\n",
    "\n",
    "while unconfirmed_users:\n",
    "    current_user = unconfirmed_users.pop()\n",
    "    \n",
    "    print(f\"Verifying user: {current_user.title()}\")\n",
    "    confirmed_users.append(current_user)\n",
    "    \n",
    "#display all confirmed users \n",
    "print(\"\\nThe following users have been confirmed:\")\n",
    "for confirmed_user in confirmed_users:\n",
    "    print(confirmed_user.title())"
   ]
  },
  {
   "cell_type": "code",
   "execution_count": 62,
   "metadata": {},
   "outputs": [
    {
     "name": "stdout",
     "output_type": "stream",
     "text": [
      "['dog', 'cat', 'dog', 'goldfish', 'cat', 'rabbit', 'cat']\n",
      "['dog', 'dog', 'goldfish', 'cat', 'rabbit', 'cat']\n",
      "['dog', 'dog', 'goldfish', 'rabbit', 'cat']\n",
      "['dog', 'dog', 'goldfish', 'rabbit']\n"
     ]
    }
   ],
   "source": [
    "# remove instances from list \n",
    "\n",
    "pets = ['dog','cat','dog','goldfish','cat','rabbit','cat']\n",
    "\n",
    "print(pets)\n",
    "\n",
    "while 'cat' in pets:\n",
    "    pets.remove('cat')\n",
    "\n",
    "print(pets)"
   ]
  },
  {
   "cell_type": "code",
   "execution_count": 67,
   "metadata": {},
   "outputs": [
    {
     "name": "stdout",
     "output_type": "stream",
     "text": [
      "\n",
      "What is your name? Sundar\n",
      "\n",
      "Which mountain would you like to climb someday? Everesty\n",
      "\n",
      "Do you like someone else to continue: answer 'yes' or 'no'yes\n",
      "\n",
      "What is your name? priya\n",
      "\n",
      "Which mountain would you like to climb someday? kilimanjaro\n",
      "\n",
      "Do you like someone else to continue: answer 'yes' or 'no'no\n",
      "\n",
      "--- Poll Results ----\n",
      "Sundar would like to climb Everesty.\n",
      "Priya would like to climb Kilimanjaro.\n"
     ]
    }
   ],
   "source": [
    "# filling dictionary using while loops \n",
    "\n",
    "responses = {}\n",
    "\n",
    "#set a flag to make the poll active \n",
    "poll_active = True \n",
    "\n",
    "while poll_active:\n",
    "    \n",
    "    name = input(\"\\nWhat is your name? \")\n",
    "    response = input(\"\\nWhich mountain would you like to climb someday? \")\n",
    "    \n",
    "    #store the response in a dictionary\n",
    "    responses[name] = response\n",
    "    \n",
    "    #find out if anyone else is going to take the poll\n",
    "    repeat = input(\"\\nDo you like someone else to continue: answer 'yes' or 'no'\")\n",
    "    \n",
    "    if repeat == 'no':\n",
    "        poll_active = False\n",
    "    \n",
    "print(\"\\n--- Poll Results ----\")\n",
    "for name,response in responses.items():\n",
    "    print(f\"{name.title()} would like to climb {response.title()}.\")"
   ]
  },
  {
   "cell_type": "code",
   "execution_count": 75,
   "metadata": {},
   "outputs": [
    {
     "name": "stdout",
     "output_type": "stream",
     "text": [
      "I made your Meat Balls sandwich.\n",
      "I made your Avacoda sandwich.\n",
      "I made your Turkey sandwich.\n",
      "I made your Chicken sandwich.\n",
      "I made your Tuna sandwich.\n",
      "\n",
      "Here is the list of all sandwiches that were made today:\n",
      "Meat Balls.\n",
      "Avacoda.\n",
      "Turkey.\n",
      "Chicken.\n",
      "Tuna.\n"
     ]
    }
   ],
   "source": [
    "#deli sandwiches \n",
    "\n",
    "sandwich_orders = ['Tuna','chicken','turkey','avacoda','meat balls']\n",
    "finished_sandwiches = []\n",
    "\n",
    "while sandwich_orders:\n",
    "    sandwich = sandwich_orders.pop()\n",
    "    finished_sandwiches.append(sandwich)\n",
    "    print(f\"I made your {sandwich.title()} sandwich.\")\n",
    "\n",
    "\n",
    "print(\"\\nHere is the list of all sandwiches that were made today:\")\n",
    "for sandwich in finished_sandwiches:\n",
    "    print(f\"{sandwich.title()}.\")"
   ]
  },
  {
   "cell_type": "code",
   "execution_count": 84,
   "metadata": {},
   "outputs": [
    {
     "name": "stdout",
     "output_type": "stream",
     "text": [
      "\n",
      "The Deli has run out of pastrami. So, no pastrami sandwiches today.\n",
      "\n",
      " --- Order in process----\n",
      "I made your Veggie Patties sandwich.\n",
      "I made your Meat Balls sandwich.\n",
      "I made your Avacoda sandwich.\n",
      "I made your Turkey sandwich.\n",
      "I made your Chicken sandwich.\n",
      "I made your Tuna sandwich.\n",
      "\n",
      "Here is the list of all sandwiches that were made today:\n",
      "Veggie Patties.\n",
      "Meat Balls.\n",
      "Avacoda.\n",
      "Turkey.\n",
      "Chicken.\n",
      "Tuna.\n"
     ]
    }
   ],
   "source": [
    "#deli sandwiches no pastrami\n",
    "\n",
    "sandwich_orders = ['Tuna','pastrami','chicken','turkey','pastrami','avacoda','meat balls','veggie patties','pastrami']\n",
    "finished_sandwiches = []\n",
    "\n",
    "print(\"\\nThe Deli has run out of pastrami. So, no pastrami sandwiches today.\")\n",
    "\n",
    "while 'pastrami' in sandwich_orders:\n",
    "    sandwich_orders.remove('pastrami')\n",
    "\n",
    "print(\"\\n --- Order in process----\")\n",
    "while sandwich_orders:\n",
    "    sandwich = sandwich_orders.pop()\n",
    "    finished_sandwiches.append(sandwich)\n",
    "    print(f\"I made your {sandwich.title()} sandwich.\")\n",
    "\n",
    "\n",
    "print(\"\\nHere is the list of all sandwiches that were made today:\")\n",
    "for sandwich in finished_sandwiches:\n",
    "    print(f\"{sandwich.title()}.\")"
   ]
  },
  {
   "cell_type": "code",
   "execution_count": 88,
   "metadata": {},
   "outputs": [
    {
     "name": "stdout",
     "output_type": "stream",
     "text": [
      "\n",
      "What is your name? Sundar\n",
      "\n",
      "If you could visit one place in the world, where would you go ? Iceland\n",
      "\n",
      "Do you like to continue with the poll ? Say 'yes' or 'no'yes\n",
      "\n",
      "What is your name? Priya\n",
      "\n",
      "If you could visit one place in the world, where would you go ? India\n",
      "\n",
      "Do you like to continue with the poll ? Say 'yes' or 'no'no\n",
      "\n",
      "--- Poll Results ----\n",
      "Sundar would like to visit Iceland.\n",
      "Priya would like to visit India.\n"
     ]
    }
   ],
   "source": [
    "# vaction poll results \n",
    "\n",
    "responses = {}\n",
    "poll_active = True\n",
    "\n",
    "while poll_active:\n",
    "    name = input(\"\\nWhat is your name? \")\n",
    "    response = input (\"\\nIf you could visit one place in the world, where would you go ? \")\n",
    "    \n",
    "    responses[name] = response\n",
    "    \n",
    "    #repeat to other users \n",
    "    repeat = input(\"\\nDo you like to continue with the poll ? Say 'yes' or 'no'\")\n",
    "    \n",
    "    if repeat == 'no':\n",
    "        poll_active = False \n",
    "\n",
    "#print poll results \n",
    "print(\"\\n--- Poll Results ----\")\n",
    "\n",
    "for name,response in responses.items():\n",
    "     print(f\"{name.title()} would like to visit {response.title()}.\")"
   ]
  },
  {
   "cell_type": "code",
   "execution_count": null,
   "metadata": {},
   "outputs": [],
   "source": []
  }
 ],
 "metadata": {
  "kernelspec": {
   "display_name": "Python 3",
   "language": "python",
   "name": "python3"
  },
  "language_info": {
   "codemirror_mode": {
    "name": "ipython",
    "version": 3
   },
   "file_extension": ".py",
   "mimetype": "text/x-python",
   "name": "python",
   "nbconvert_exporter": "python",
   "pygments_lexer": "ipython3",
   "version": "3.7.6"
  }
 },
 "nbformat": 4,
 "nbformat_minor": 4
}

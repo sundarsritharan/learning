{
 "cells": [
  {
   "cell_type": "code",
   "execution_count": 3,
   "metadata": {},
   "outputs": [
    {
     "name": "stdout",
     "output_type": "stream",
     "text": [
      "Trek\n"
     ]
    }
   ],
   "source": [
    "bicycles = ['trek','cannondale','redline','specialized']\n",
    "print(bicycles[0].title())"
   ]
  },
  {
   "cell_type": "code",
   "execution_count": 5,
   "metadata": {},
   "outputs": [
    {
     "name": "stdout",
     "output_type": "stream",
     "text": [
      "cannondale\n",
      "specialized\n"
     ]
    }
   ],
   "source": [
    "print(bicycles[1])\n",
    "print(bicycles[3])"
   ]
  },
  {
   "cell_type": "code",
   "execution_count": 7,
   "metadata": {},
   "outputs": [
    {
     "name": "stdout",
     "output_type": "stream",
     "text": [
      "cannondale\n"
     ]
    }
   ],
   "source": [
    "print(bicycles[-3])"
   ]
  },
  {
   "cell_type": "code",
   "execution_count": 11,
   "metadata": {},
   "outputs": [
    {
     "name": "stdout",
     "output_type": "stream",
     "text": [
      "My first bicycles was a Trek.\n"
     ]
    }
   ],
   "source": [
    "message = f\"My first bicycles was a {bicycles[0].title()}.\"\n",
    "print(message)"
   ]
  },
  {
   "cell_type": "code",
   "execution_count": 16,
   "metadata": {},
   "outputs": [
    {
     "name": "stdout",
     "output_type": "stream",
     "text": [
      "Hello Samuel, I Hope you are having a great summer. \n"
     ]
    }
   ],
   "source": [
    "friends = [\"Samuel\",\"Natts\",\"Bhoopathi\"]\n",
    "message = f\"Hello {friends[0]}, I Hope you are having a great summer. \"\n",
    "\n",
    "print(message)"
   ]
  },
  {
   "cell_type": "code",
   "execution_count": 22,
   "metadata": {},
   "outputs": [
    {
     "name": "stdout",
     "output_type": "stream",
     "text": [
      "I would like to have a trek road Bicycle.\n",
      "I would like to have a Ducati Scrambler Motorbike.\n",
      "I would like to have a Telsa Model Y electric SUV.\n"
     ]
    }
   ],
   "source": [
    "vehicles = [\"Bicycle\", \"Motorbike\", \"Car\", \"SUV\"]\n",
    "print(f\"I would like to have a trek road {vehicles[0]}.\")\n",
    "print(f\"I would like to have a Ducati Scrambler {vehicles[1]}.\")\n",
    "print(f\"I would like to have a Telsa Model Y electric {vehicles[-1]}.\")"
   ]
  },
  {
   "cell_type": "code",
   "execution_count": 25,
   "metadata": {},
   "outputs": [
    {
     "name": "stdout",
     "output_type": "stream",
     "text": [
      "['honda', 'yamaha', 'suzuki']\n",
      "['honda', 'yamaha', 'suzuki', 'ducati']\n"
     ]
    }
   ],
   "source": [
    "motorcycles = [\"honda\",\"yamaha\",\"suzuki\"]\n",
    "print(motorcycles)\n",
    "\n",
    "motorcycles.append('ducati')\n",
    "print(motorcycles)"
   ]
  },
  {
   "cell_type": "code",
   "execution_count": 27,
   "metadata": {},
   "outputs": [
    {
     "name": "stdout",
     "output_type": "stream",
     "text": [
      "['honds', 'yamaha', 'suzuki']\n"
     ]
    }
   ],
   "source": [
    "motorcycles = []\n",
    "motorcycles.append('honds')\n",
    "motorcycles.append('yamaha')\n",
    "motorcycles.append('suzuki')\n",
    "print(motorcycles)"
   ]
  },
  {
   "cell_type": "code",
   "execution_count": 30,
   "metadata": {},
   "outputs": [
    {
     "name": "stdout",
     "output_type": "stream",
     "text": [
      "['honda', 'suzuki']\n"
     ]
    }
   ],
   "source": [
    "motorcycles = [\"honda\",\"yamaha\",\"suzuki\"]\n",
    "\n",
    "del motorcycles[1]\n",
    "print(motorcycles)"
   ]
  },
  {
   "cell_type": "code",
   "execution_count": 32,
   "metadata": {},
   "outputs": [
    {
     "name": "stdout",
     "output_type": "stream",
     "text": [
      "['honda', 'yamaha', 'suzuki']\n",
      "['honda', 'yamaha']\n",
      "suzuki\n"
     ]
    }
   ],
   "source": [
    "motorcycles = [\"honda\",\"yamaha\",\"suzuki\"]\n",
    "print(motorcycles)\n",
    "popped_motorcycle = motorcycles.pop()\n",
    "print(motorcycles)\n",
    "print(popped_motorcycle)"
   ]
  },
  {
   "cell_type": "code",
   "execution_count": 36,
   "metadata": {},
   "outputs": [
    {
     "name": "stdout",
     "output_type": "stream",
     "text": [
      "My first motorcycle was Baja Pulsar.\n"
     ]
    }
   ],
   "source": [
    "motorcycles = [\"tvs50\",\"suzuki samurai\",\"baja pulsar\"]\n",
    "first_owned_motorcycle = motorcycles.pop(0)\n",
    "print(f\"My first motorcycle was {last_owned_motorcycle.title()}.\")"
   ]
  },
  {
   "cell_type": "code",
   "execution_count": 39,
   "metadata": {},
   "outputs": [
    {
     "name": "stdout",
     "output_type": "stream",
     "text": [
      "['Honda', 'Yamaha', 'Suzuki']\n"
     ]
    }
   ],
   "source": [
    "motorcycles = [\"Honda\",\"Yamaha\",\"Suzuki\",\"Ducati\"]\n",
    "motorcycles.remove(\"Ducati\")\n",
    "print(motorcycles)"
   ]
  },
  {
   "cell_type": "code",
   "execution_count": 40,
   "metadata": {},
   "outputs": [
    {
     "name": "stdout",
     "output_type": "stream",
     "text": [
      "['Honda', 'Yamaha', 'Suzuki']\n",
      "\n",
      " A Ducati is too expensive for me.\n"
     ]
    }
   ],
   "source": [
    "motorcycles = [\"Honda\",\"Yamaha\",\"Suzuki\",\"Ducati\"]\n",
    "too_expensive_motorcycle = \"Ducati\"\n",
    "motorcycles.remove(too_expensive_motorcycle)\n",
    "print(motorcycles)\n",
    "print(f\"\\n A {too_expensive_motorcycle.title()} is too expensive for me.\")"
   ]
  },
  {
   "cell_type": "code",
   "execution_count": 137,
   "metadata": {},
   "outputs": [
    {
     "name": "stdout",
     "output_type": "stream",
     "text": [
      "Hello Samuel, you are invited for dinner at my home.\n",
      "\n",
      "Hello Natts, you are invited for dinner at my home.\n",
      "\n",
      "Hello Bharath, you are invited for dinner at my home.\n",
      "['Samuel', 'Natts', 'Bharath']\n"
     ]
    }
   ],
   "source": [
    "dinner_names = [\"Samuel\",\"Natts\",\"Bharath\"]\n",
    "print(f\"Hello {dinner_names[0]}, you are invited for dinner at my home.\")\n",
    "print(f\"\\nHello {dinner_names[1]}, you are invited for dinner at my home.\")\n",
    "print(f\"\\nHello {dinner_names[2]}, you are invited for dinner at my home.\")\n",
    "print(dinner_names)"
   ]
  },
  {
   "cell_type": "code",
   "execution_count": 138,
   "metadata": {},
   "outputs": [
    {
     "name": "stdout",
     "output_type": "stream",
     "text": [
      "\n",
      "Hey all looks like Bharath can't make to the dinner.\n",
      "\n",
      "Hello Samuel, you are invited for dinner at my home.\n",
      "\n",
      "Hello Natts, you are invited for dinner at my home.\n",
      "\n",
      "Hello Mani, you are invited for dinner at my home.\n",
      "\n",
      "Hey all I found a new dinner table\n",
      "['Bala', 'Samuel', 'Aravind', 'Natts', 'Mani', 'Ashok']\n"
     ]
    }
   ],
   "source": [
    "\n",
    "guest_removed = dinner_names.pop(2)\n",
    "print(f\"\\nHey all looks like {guest_removed.title()} can't make to the dinner.\")\n",
    "dinner_names.append(\"Mani\")\n",
    "print(f\"\\nHello {dinner_names[0]}, you are invited for dinner at my home.\")\n",
    "print(f\"\\nHello {dinner_names[1]}, you are invited for dinner at my home.\")\n",
    "print(f\"\\nHello {dinner_names[2]}, you are invited for dinner at my home.\")\n",
    "\n",
    "print(\"\\nHey all I found a new dinner table\")\n",
    "\n",
    "dinner_names.insert(0, \"Bala\" )\n",
    "dinner_names.insert(int(len(dinner_names)/2), \"Aravind\" )\n",
    "dinner_names.append(\"Ashok\")\n",
    "print(dinner_names)"
   ]
  },
  {
   "cell_type": "code",
   "execution_count": 139,
   "metadata": {},
   "outputs": [
    {
     "name": "stdout",
     "output_type": "stream",
     "text": [
      "Only 2 people are allowed for dinner\n",
      "Sorry Ashok, we don't have enough seats available for the dinner\n",
      "Sorry Bala, we don't have enough seats available for the dinner\n",
      "Sorry Aravind, we don't have enough seats available for the dinner\n",
      "Sorry Mani, we don't have enough seats available for the dinner\n",
      "['Samuel', 'Natts']\n",
      "Samuel you are still in dinner\n",
      "Natts you are still in dinner\n",
      "['Samuel', 'Natts']\n",
      "[]\n",
      "0\n"
     ]
    }
   ],
   "source": [
    "print(f\"Only 2 people are allowed for dinner\")\n",
    "print(f\"Sorry {dinner_names.pop(-1)}, we don't have enough seats available for the dinner\")\n",
    "print(f\"Sorry {dinner_names.pop(0)}, we don't have enough seats available for the dinner\")\n",
    "print(f\"Sorry {dinner_names.pop(1)}, we don't have enough seats available for the dinner\")\n",
    "print(f\"Sorry {dinner_names.pop(2)}, we don't have enough seats available for the dinner\")\n",
    "print(dinner_names)\n",
    "print(f\"{dinner_names[0]} you are still in dinner\")\n",
    "print(f\"{dinner_names[1]} you are still in dinner\")\n",
    "print(dinner_names)\n",
    "del dinner_names[0]\n",
    "del dinner_names[0]\n",
    "print(dinner_names)\n",
    "guests = len(dinner_names)\n",
    "print(guests)"
   ]
  },
  {
   "cell_type": "code",
   "execution_count": 105,
   "metadata": {},
   "outputs": [
    {
     "name": "stdout",
     "output_type": "stream",
     "text": [
      "['audi', 'bmw', 'subaru', 'toyota']\n"
     ]
    }
   ],
   "source": [
    "cars = ['bmw','audi','toyota','subaru']\n",
    "cars.sort(reverse=False)\n",
    "print(cars)"
   ]
  },
  {
   "cell_type": "code",
   "execution_count": 110,
   "metadata": {},
   "outputs": [
    {
     "name": "stdout",
     "output_type": "stream",
     "text": [
      "Here is the original list\n",
      "['bmw', 'audi', 'toyota', 'subaru']\n",
      "\n",
      "Here is the sorted list\n",
      "['audi', 'bmw', 'subaru', 'toyota']\n",
      "\n",
      "Here is the original list\n",
      "['bmw', 'audi', 'toyota', 'subaru']\n"
     ]
    }
   ],
   "source": [
    "cars = ['bmw','audi','toyota','subaru']\n",
    "print(\"Here is the original list\")\n",
    "print(cars)\n",
    "\n",
    "print(\"\\nHere is the sorted list\")\n",
    "print(sorted(cars))\n",
    "\n",
    "print(\"\\nHere is the original list\")\n",
    "print(cars)"
   ]
  },
  {
   "cell_type": "code",
   "execution_count": 113,
   "metadata": {},
   "outputs": [
    {
     "name": "stdout",
     "output_type": "stream",
     "text": [
      "[2011, 2017, 2014, 2013]\n"
     ]
    }
   ],
   "source": [
    "years_boughtcar = [2011,2017,2014,2013]\n",
    "years_boughtcar.reverse()\n",
    "years_boughtcar.reverse()\n",
    "print(years_boughtcar)"
   ]
  },
  {
   "cell_type": "code",
   "execution_count": 114,
   "metadata": {},
   "outputs": [
    {
     "data": {
      "text/plain": [
       "4"
      ]
     },
     "execution_count": 114,
     "metadata": {},
     "output_type": "execute_result"
    }
   ],
   "source": [
    "cars = ['bmw','audi','toyota','subaru']\n",
    "len(cars)"
   ]
  },
  {
   "cell_type": "code",
   "execution_count": 129,
   "metadata": {},
   "outputs": [
    {
     "name": "stdout",
     "output_type": "stream",
     "text": [
      "['atlanta', 'california', 'delware', 'florida']\n",
      "['california', 'florida', 'delware', 'atlanta']\n",
      "['atlanta', 'delware', 'florida', 'california']\n",
      "['atlanta', 'california', 'delware', 'florida']\n",
      "['florida', 'delware', 'california', 'atlanta']\n"
     ]
    }
   ],
   "source": [
    "world_locations = ['california','florida','delware','atlanta']\n",
    "print(sorted(world_locations))\n",
    "print(world_locations)\n",
    "world_locations.reverse()\n",
    "print(world_locations)\n",
    "world_locations.sort()\n",
    "print(world_locations)\n",
    "world_locations.reverse()\n",
    "print(world_locations)"
   ]
  },
  {
   "cell_type": "code",
   "execution_count": 157,
   "metadata": {},
   "outputs": [
    {
     "name": "stdout",
     "output_type": "stream",
     "text": [
      "There are total of 10 technologies we will use.\n",
      "\n",
      "These are the technologies ['^%jhgej', 'delta_lake', 'javascript', 'junk', 'ml', 'nodejs', 'python', 'react', 'spark', 'sql'].\n",
      "react\n",
      "['python', 'sql', 'spark', 'delta_lake', 'ml', 'javascript', 'nodejs']\n",
      "['python', 'sql', 'spark', 'delta_lake', 'ml', 'javascript', 'nodejs', 'mlflow']\n",
      "['delta_lake', 'javascript', 'ml', 'mlflow', 'nodejs', 'python', 'spark', 'sql'].\n",
      "['python', 'sql', 'spark', 'pytorch', 'delta_lake', 'ml', 'javascript', 'nodejs', 'mlflow'].\n",
      "['sql', 'spark', 'pytorch', 'python', 'nodejs', 'mlflow', 'ml', 'javascript', 'delta_lake'].\n"
     ]
    }
   ],
   "source": [
    "main_technologies = ['python','sql','^%jhgej','spark','delta_lake','ml','javascript','nodejs','react','junk']\n",
    "total = len(main_technologies)\n",
    "print(f\"There are total of {total} technologies we will use.\")\n",
    "print(f\"\\nThese are the technologies {sorted(main_technologies)}.\")\n",
    "main_technologies.remove('junk')\n",
    "last_technology = main_technologies.pop()\n",
    "print(last_technology)\n",
    "del main_technologies[2]\n",
    "print(main_technologies)\n",
    "main_technologies.append('mlflow')\n",
    "print(main_technologies)\n",
    "print(f\"{sorted(main_technologies)}.\")\n",
    "main_technologies.insert(3,'pytorch')\n",
    "print(f\"{main_technologies}.\")\n",
    "main_technologies.sort(reverse=True)\n",
    "print(f\"{main_technologies}.\")"
   ]
  },
  {
   "cell_type": "code",
   "execution_count": 169,
   "metadata": {},
   "outputs": [
    {
     "name": "stdout",
     "output_type": "stream",
     "text": [
      "bajaj\n",
      "sundar\n",
      "priya\n",
      "diya\n",
      "nidhi\n"
     ]
    }
   ],
   "source": [
    "# list index out of range error \n",
    "motorcycles = ['yamaha','suzuki','bajaj']\n",
    "print(motorcycles[-1])\n",
    "\n",
    "family_member_names = ['sundar','priya','diya','nidhi']\n",
    "\n",
    "for member in family_member_names:\n",
    "    print(member)\n",
    "\n"
   ]
  },
  {
   "cell_type": "code",
   "execution_count": 173,
   "metadata": {},
   "outputs": [
    {
     "name": "stdout",
     "output_type": "stream",
     "text": [
      "Alice, that was a great trick!\n",
      "I can't wait to see your next trick, Alice \n",
      "\n",
      "David, that was a great trick!\n",
      "I can't wait to see your next trick, David \n",
      "\n",
      "Carolina, that was a great trick!\n",
      "I can't wait to see your next trick, Carolina \n",
      "\n",
      "Thank you, everyone. That was a great magic show\n"
     ]
    }
   ],
   "source": [
    "magicians = ['alice', 'david','carolina']\n",
    "for magician in magicians:\n",
    "    print(f\"{magician.title()}, that was a great trick!\")\n",
    "    print(f\"I can't wait to see your next trick, {magician.title()} \\n\")\n",
    "print(\"Thank you, everyone. That was a great magic show\")"
   ]
  },
  {
   "cell_type": "code",
   "execution_count": 177,
   "metadata": {},
   "outputs": [
    {
     "name": "stdout",
     "output_type": "stream",
     "text": [
      "sundar\n",
      "priya\n",
      "diya\n",
      "nidhi\n"
     ]
    }
   ],
   "source": [
    "family_member_names = ['sundar','priya','diya','nidhi']\n",
    "\n",
    "for member in family_member_names:\n",
    "    print(f\"{member}\")"
   ]
  },
  {
   "cell_type": "code",
   "execution_count": 178,
   "metadata": {},
   "outputs": [
    {
     "name": "stdout",
     "output_type": "stream",
     "text": [
      "Alice, that was a great trick!\n",
      "David, that was a great trick!\n",
      "Carolina, that was a great trick!\n",
      "I can't wait to see your next trick, Carolina \n",
      "\n"
     ]
    }
   ],
   "source": [
    "magicians = ['alice', 'david','carolina']\n",
    "for magician in magicians:\n",
    "    print(f\"{magician.title()}, that was a great trick!\")\n",
    "print(f\"I can't wait to see your next trick, {magician.title()} \\n\")"
   ]
  },
  {
   "cell_type": "code",
   "execution_count": 180,
   "metadata": {},
   "outputs": [
    {
     "name": "stdout",
     "output_type": "stream",
     "text": [
      "Hello World Of Python\n"
     ]
    }
   ],
   "source": [
    "message = \"Hello World Of Python\"\n",
    "print(message)"
   ]
  },
  {
   "cell_type": "code",
   "execution_count": 181,
   "metadata": {},
   "outputs": [
    {
     "name": "stdout",
     "output_type": "stream",
     "text": [
      "Alice, that was a great trick!\n",
      "I can't wait to see your next trick, Alice \n",
      "\n",
      "Thank you, everyone. That was a great magic show\n",
      "David, that was a great trick!\n",
      "I can't wait to see your next trick, David \n",
      "\n",
      "Thank you, everyone. That was a great magic show\n",
      "Carolina, that was a great trick!\n",
      "I can't wait to see your next trick, Carolina \n",
      "\n",
      "Thank you, everyone. That was a great magic show\n"
     ]
    }
   ],
   "source": [
    "magicians = ['alice', 'david','carolina']\n",
    "for magician in magicians:\n",
    "    print(f\"{magician.title()}, that was a great trick!\")\n",
    "    print(f\"I can't wait to see your next trick, {magician.title()} \\n\")\n",
    "    print(\"Thank you, everyone. That was a great magic show\")"
   ]
  },
  {
   "cell_type": "code",
   "execution_count": 183,
   "metadata": {},
   "outputs": [
    {
     "name": "stdout",
     "output_type": "stream",
     "text": [
      "Alice, that was a great trick!\n",
      "David, that was a great trick!\n",
      "Carolina, that was a great trick!\n"
     ]
    }
   ],
   "source": [
    "magicians = ['alice', 'david','carolina']\n",
    "for magician in magicians:\n",
    "    print(f\"{magician.title()}, that was a great trick!\")"
   ]
  },
  {
   "cell_type": "code",
   "execution_count": 187,
   "metadata": {},
   "outputs": [
    {
     "name": "stdout",
     "output_type": "stream",
     "text": [
      "I like cheese pizza!\n",
      "I like veggie pizza!\n",
      "I like mushroom pizza!\n",
      "I like chicken pizza!\n",
      "I love Pizza a lot\n"
     ]
    }
   ],
   "source": [
    "liked_pizzas = ['cheese','veggie','mushroom','chicken']\n",
    "for pizza in liked_pizzas:\n",
    "    print(f\"I like {pizza} pizza!\")\n",
    "\n",
    "print (\"I love Pizza a lot\")"
   ]
  },
  {
   "cell_type": "code",
   "execution_count": 191,
   "metadata": {},
   "outputs": [
    {
     "name": "stdout",
     "output_type": "stream",
     "text": [
      "Tiger is very dangerous.\n",
      "Lion is very dangerous.\n",
      "Cheeta is very dangerous.\n",
      "Puma is very dangerous.\n",
      "Cougar is very dangerous.\n",
      "All of these animals eat meat and can run very fast.\n"
     ]
    }
   ],
   "source": [
    "common_animals = ['tiger','lion','cheeta','puma','cougar']\n",
    "for animal in common_animals:\n",
    "    print(f\"{animal.title()} is very dangerous.\")\n",
    "\n",
    "print(\"All of these animals eat meat and can run very fast.\")"
   ]
  },
  {
   "cell_type": "code",
   "execution_count": 193,
   "metadata": {},
   "outputs": [
    {
     "name": "stdout",
     "output_type": "stream",
     "text": [
      "1\n",
      "2\n",
      "3\n",
      "4\n",
      "5\n"
     ]
    }
   ],
   "source": [
    "for value in range(1,6):\n",
    "    print(value)"
   ]
  },
  {
   "cell_type": "code",
   "execution_count": 196,
   "metadata": {},
   "outputs": [
    {
     "name": "stdout",
     "output_type": "stream",
     "text": [
      "0\n",
      "1\n",
      "2\n",
      "3\n",
      "4\n",
      "5\n"
     ]
    }
   ],
   "source": [
    "for value in range(6):\n",
    "    print(value)"
   ]
  },
  {
   "cell_type": "code",
   "execution_count": 197,
   "metadata": {},
   "outputs": [
    {
     "name": "stdout",
     "output_type": "stream",
     "text": [
      "[1, 2, 3, 4, 5]\n"
     ]
    }
   ],
   "source": [
    "numbers = list(range(1,6))\n",
    "print(numbers)"
   ]
  },
  {
   "cell_type": "code",
   "execution_count": 199,
   "metadata": {},
   "outputs": [
    {
     "name": "stdout",
     "output_type": "stream",
     "text": [
      "[2, 4, 6, 8, 10, 12, 14, 16, 18, 20, 22, 24, 26, 28, 30, 32, 34, 36, 38, 40, 42, 44, 46, 48, 50, 52, 54, 56, 58, 60, 62, 64, 66, 68, 70, 72, 74, 76, 78, 80, 82, 84, 86, 88, 90, 92, 94, 96, 98, 100]\n"
     ]
    }
   ],
   "source": [
    "even_numbers = list(range(2,101,2))\n",
    "print(even_numbers)"
   ]
  },
  {
   "cell_type": "code",
   "execution_count": 202,
   "metadata": {},
   "outputs": [
    {
     "name": "stdout",
     "output_type": "stream",
     "text": [
      "[1, 4, 9, 16, 25, 36, 49, 64, 81, 100]\n"
     ]
    }
   ],
   "source": [
    "squares = []\n",
    "for value in range(1,11):\n",
    "    squares.append(value ** 2)\n",
    "\n",
    "print(squares)"
   ]
  },
  {
   "cell_type": "code",
   "execution_count": 2,
   "metadata": {},
   "outputs": [
    {
     "name": "stdout",
     "output_type": "stream",
     "text": [
      "[1, 2, 3, 4, 5, 6, 7, 8, 9]\n",
      "1\n",
      "9\n"
     ]
    },
    {
     "data": {
      "text/plain": [
       "45"
      ]
     },
     "execution_count": 2,
     "metadata": {},
     "output_type": "execute_result"
    }
   ],
   "source": [
    "digits = []\n",
    "\n",
    "for value in range(1,10):\n",
    "    digits.append(value)\n",
    "\n",
    "print(digits)\n",
    "\n",
    "print(min(digits))\n",
    "\n",
    "print(max(digits))\n",
    "\n",
    "sum(digits)"
   ]
  },
  {
   "cell_type": "code",
   "execution_count": 4,
   "metadata": {},
   "outputs": [
    {
     "name": "stdout",
     "output_type": "stream",
     "text": [
      "[1, 4, 9, 16]\n"
     ]
    }
   ],
   "source": [
    "squares = []\n",
    "\n",
    "for value in range(1,5):\n",
    "    squares.append(value ** 2)\n",
    "\n",
    "print(squares)"
   ]
  },
  {
   "cell_type": "code",
   "execution_count": 5,
   "metadata": {},
   "outputs": [
    {
     "name": "stdout",
     "output_type": "stream",
     "text": [
      "[1, 4, 9, 16, 25, 36, 49, 64, 81, 100]\n"
     ]
    }
   ],
   "source": [
    "sqaures_comp = [value ** 2 for value in range(1,11)]\n",
    "print(sqaures_comp)"
   ]
  },
  {
   "cell_type": "code",
   "execution_count": 7,
   "metadata": {},
   "outputs": [
    {
     "name": "stdout",
     "output_type": "stream",
     "text": [
      "[1, 2, 3, 4, 5, 6, 7, 8, 9, 10, 11, 12, 13, 14, 15, 16, 17, 18, 19, 20]\n"
     ]
    }
   ],
   "source": [
    "count_twenty = []\n",
    "for value in range(1,21):\n",
    "    count_twenty.append(value)\n",
    "print(count_twenty)"
   ]
  },
  {
   "cell_type": "code",
   "execution_count": 5,
   "metadata": {},
   "outputs": [
    {
     "name": "stdout",
     "output_type": "stream",
     "text": [
      "1\n",
      "1000000\n",
      "500000500000\n"
     ]
    }
   ],
   "source": [
    "count_million = []\n",
    "for value in range(1,1000001):\n",
    "    count_million.append(value)\n",
    "\n",
    "print(min(count_million))\n",
    "print(max(count_million))\n",
    "print(sum(count_million))"
   ]
  },
  {
   "cell_type": "code",
   "execution_count": 8,
   "metadata": {},
   "outputs": [
    {
     "name": "stdout",
     "output_type": "stream",
     "text": [
      "[1, 3, 5, 7, 9, 11, 13, 15, 17, 19]\n"
     ]
    }
   ],
   "source": [
    "odd_num = []\n",
    "for value in range (1,21,2):\n",
    "    odd_num.append(value)\n",
    "\n",
    "print(odd_num)"
   ]
  },
  {
   "cell_type": "code",
   "execution_count": 12,
   "metadata": {},
   "outputs": [
    {
     "name": "stdout",
     "output_type": "stream",
     "text": [
      "[9, 12, 15, 18, 21, 24, 27, 30, 33, 36, 39, 42, 45, 48, 51, 54, 57, 60, 63, 66, 69, 72, 75, 78, 81, 84, 87, 90]\n"
     ]
    }
   ],
   "source": [
    "three_pow = [value *3 for value in range(3,31)]\n",
    "print(three_pow)"
   ]
  },
  {
   "cell_type": "code",
   "execution_count": 13,
   "metadata": {},
   "outputs": [
    {
     "name": "stdout",
     "output_type": "stream",
     "text": [
      "[1, 8, 27, 64, 125, 216, 343, 512, 729, 1000]\n"
     ]
    }
   ],
   "source": [
    "cubes = [value ** 3 for value in range(1,11)]\n",
    "print(cubes)"
   ]
  },
  {
   "cell_type": "code",
   "execution_count": 14,
   "metadata": {},
   "outputs": [
    {
     "name": "stdout",
     "output_type": "stream",
     "text": [
      "['charles', 'martina', 'michael']\n"
     ]
    }
   ],
   "source": [
    "players = ['charles','martina','michael','florence','eli']\n",
    "print(players[0:3])"
   ]
  },
  {
   "cell_type": "code",
   "execution_count": 15,
   "metadata": {},
   "outputs": [
    {
     "name": "stdout",
     "output_type": "stream",
     "text": [
      "['martina', 'michael', 'florence']\n"
     ]
    }
   ],
   "source": [
    "print(players[1:4])"
   ]
  },
  {
   "cell_type": "code",
   "execution_count": 16,
   "metadata": {},
   "outputs": [
    {
     "name": "stdout",
     "output_type": "stream",
     "text": [
      "['charles', 'martina', 'michael', 'florence']\n"
     ]
    }
   ],
   "source": [
    "print(players[:4])"
   ]
  },
  {
   "cell_type": "code",
   "execution_count": 18,
   "metadata": {},
   "outputs": [
    {
     "name": "stdout",
     "output_type": "stream",
     "text": [
      "['michael', 'florence', 'eli']\n"
     ]
    }
   ],
   "source": [
    "print(players[2:])"
   ]
  },
  {
   "cell_type": "code",
   "execution_count": 20,
   "metadata": {},
   "outputs": [
    {
     "name": "stdout",
     "output_type": "stream",
     "text": [
      "['florence', 'eli', 'sundar']\n"
     ]
    }
   ],
   "source": [
    "new_players = ['charles','martina','michael','florence','eli','sundar']\n",
    "print(new_players[-3:])"
   ]
  },
  {
   "cell_type": "code",
   "execution_count": 25,
   "metadata": {},
   "outputs": [
    {
     "name": "stdout",
     "output_type": "stream",
     "text": [
      "[1, 3, 5, 7, 9]\n"
     ]
    }
   ],
   "source": [
    "numbers = [value + 0 for value in range(1,11)]\n",
    "print(numbers[::2])"
   ]
  },
  {
   "cell_type": "code",
   "execution_count": 30,
   "metadata": {},
   "outputs": [
    {
     "name": "stdout",
     "output_type": "stream",
     "text": [
      "Here are the first three players in the team :\n",
      "Charles\n",
      "Martina\n",
      "Michael\n"
     ]
    }
   ],
   "source": [
    "new_players = ['charles','martina','michael','florence','eli','sundar']\n",
    "print('Here are the first three players in the team :')\n",
    "for player in new_players[:3]:\n",
    "    print(player.title())"
   ]
  },
  {
   "cell_type": "code",
   "execution_count": 38,
   "metadata": {},
   "outputs": [
    {
     "name": "stdout",
     "output_type": "stream",
     "text": [
      "1998\n",
      "1999\n",
      "2000\n"
     ]
    }
   ],
   "source": [
    "player_score = []\n",
    "\n",
    "for score in range (10,2001):\n",
    "    player_score.append(score)\n",
    "\n",
    "for score in player_score[-3:]:\n",
    "    print(score)"
   ]
  },
  {
   "cell_type": "code",
   "execution_count": 45,
   "metadata": {},
   "outputs": [
    {
     "name": "stdout",
     "output_type": "stream",
     "text": [
      "My favorite food are:\n",
      "['pizza', 'falafel', 'carrot cake', 'cannoli', 'ice cream'] \n",
      "\n",
      "My friend's favorite food are:\n",
      "['pizza', 'falafel', 'carrot cake', 'cannoli', 'ice cream']\n"
     ]
    }
   ],
   "source": [
    "my_food = ['pizza','falafel','carrot cake']\n",
    "friend_food = my_food\n",
    "\n",
    "my_food.append('cannoli')\n",
    "friend_food.append('ice cream')\n",
    "\n",
    "print(\"My favorite food are:\")\n",
    "print(f\"{my_food} \\n\")\n",
    "\n",
    "print(\"My friend's favorite food are:\")\n",
    "print(friend_food)"
   ]
  },
  {
   "cell_type": "code",
   "execution_count": 52,
   "metadata": {},
   "outputs": [
    {
     "name": "stdout",
     "output_type": "stream",
     "text": [
      "The first three items in the list are: \n",
      "Shreedhar\n",
      "Kesava\n",
      "Bhoopathi\n",
      "\n",
      "\n",
      "The three items in the middle of list are: \n",
      "Kesava\n",
      "Bhoopathi\n",
      "Relvan\n",
      "\n",
      "\n",
      "The last three items in the list are: \n",
      "Bhoopathi\n",
      "Relvan\n",
      "Kishore\n"
     ]
    }
   ],
   "source": [
    "my_team = ['shreedhar','kesava','bhoopathi','relvan','kishore']\n",
    "print('The first three items in the list are: ')\n",
    "for member in my_team[:3]:\n",
    "    print(member.title())\n",
    "    \n",
    "print('\\n')\n",
    "\n",
    "print('The three items in the middle of list are: ')\n",
    "for member in my_team[1:4]:\n",
    "    print(member.title())\n",
    "\n",
    "print('\\n')\n",
    "\n",
    "print('The last three items in the list are: ')\n",
    "for member in my_team[-3:]:\n",
    "    print(member.title())"
   ]
  },
  {
   "cell_type": "code",
   "execution_count": 56,
   "metadata": {},
   "outputs": [
    {
     "name": "stdout",
     "output_type": "stream",
     "text": [
      "My favorite pizzas are:\n",
      "cheese\n",
      "veggie\n",
      "mushroom\n",
      "chicken\n",
      "penne pasta\n",
      "\n",
      "\n",
      "My friend's favorite pizzas are:\n",
      "cheese\n",
      "veggie\n",
      "mushroom\n",
      "chicken\n",
      "peperoni\n"
     ]
    }
   ],
   "source": [
    "my_pizzas = ['cheese','veggie','mushroom','chicken']\n",
    "friend_pizzas = my_pizzas[:]\n",
    "\n",
    "my_pizzas.append('penne pasta')\n",
    "friend_pizzas.append('peperoni')\n",
    "\n",
    "print(\"My favorite pizzas are:\")\n",
    "for pizza in my_pizzas[:]:\n",
    "    print(pizza)\n",
    "    \n",
    "print('\\n')\n",
    "\n",
    "print(\"My friend's favorite pizzas are:\")\n",
    "for pizza in friend_pizzas[:]:\n",
    "    print(pizza)"
   ]
  },
  {
   "cell_type": "code",
   "execution_count": 58,
   "metadata": {},
   "outputs": [
    {
     "ename": "TypeError",
     "evalue": "'tuple' object does not support item assignment",
     "output_type": "error",
     "traceback": [
      "\u001b[0;31m---------------------------------------------------------------------------\u001b[0m",
      "\u001b[0;31mTypeError\u001b[0m                                 Traceback (most recent call last)",
      "\u001b[0;32m<ipython-input-58-b1dce3a2095c>\u001b[0m in \u001b[0;36m<module>\u001b[0;34m\u001b[0m\n\u001b[1;32m      1\u001b[0m \u001b[0mdimensions\u001b[0m \u001b[0;34m=\u001b[0m \u001b[0;34m(\u001b[0m\u001b[0;36m200\u001b[0m\u001b[0;34m,\u001b[0m\u001b[0;36m50\u001b[0m\u001b[0;34m)\u001b[0m\u001b[0;34m\u001b[0m\u001b[0;34m\u001b[0m\u001b[0m\n\u001b[0;32m----> 2\u001b[0;31m \u001b[0mdimensions\u001b[0m\u001b[0;34m[\u001b[0m\u001b[0;36m0\u001b[0m\u001b[0;34m]\u001b[0m \u001b[0;34m=\u001b[0m \u001b[0;36m250\u001b[0m\u001b[0;34m\u001b[0m\u001b[0;34m\u001b[0m\u001b[0m\n\u001b[0m\u001b[1;32m      3\u001b[0m \u001b[0mprint\u001b[0m\u001b[0;34m(\u001b[0m\u001b[0mdimensions\u001b[0m\u001b[0;34m[\u001b[0m\u001b[0;36m0\u001b[0m\u001b[0;34m]\u001b[0m\u001b[0;34m)\u001b[0m\u001b[0;34m\u001b[0m\u001b[0;34m\u001b[0m\u001b[0m\n\u001b[1;32m      4\u001b[0m \u001b[0mprint\u001b[0m\u001b[0;34m(\u001b[0m\u001b[0mdimensions\u001b[0m\u001b[0;34m[\u001b[0m\u001b[0;36m1\u001b[0m\u001b[0;34m]\u001b[0m\u001b[0;34m)\u001b[0m\u001b[0;34m\u001b[0m\u001b[0;34m\u001b[0m\u001b[0m\n",
      "\u001b[0;31mTypeError\u001b[0m: 'tuple' object does not support item assignment"
     ]
    }
   ],
   "source": [
    "dimensions = (200,50)\n",
    "dimensions[0] = 250 \n",
    "print(dimensions[0])\n",
    "print(dimensions[1])"
   ]
  },
  {
   "cell_type": "code",
   "execution_count": 59,
   "metadata": {},
   "outputs": [
    {
     "name": "stdout",
     "output_type": "stream",
     "text": [
      "(3,)\n"
     ]
    }
   ],
   "source": [
    "# one item tuple. leave an element with trialing comma\n",
    "\n",
    "my_t = (3,)\n",
    "print(my_t)"
   ]
  },
  {
   "cell_type": "code",
   "execution_count": 61,
   "metadata": {},
   "outputs": [
    {
     "name": "stdout",
     "output_type": "stream",
     "text": [
      "200\n",
      "50\n"
     ]
    }
   ],
   "source": [
    "dimensions = (200,50)\n",
    "for dimension in dimensions:\n",
    "    print(dimension)"
   ]
  },
  {
   "cell_type": "code",
   "execution_count": 63,
   "metadata": {},
   "outputs": [
    {
     "name": "stdout",
     "output_type": "stream",
     "text": [
      "original dimensions\n",
      "200\n",
      "50\n",
      "\n",
      "\n",
      "modified dimensions\n",
      "400\n",
      "100\n"
     ]
    }
   ],
   "source": [
    "dimensions = (200,50)\n",
    "print(\"original dimensions\")\n",
    "for dimension in dimensions:\n",
    "    print(dimension)\n",
    "\n",
    "print('\\n')\n",
    "\n",
    "dimensions = (400,100)\n",
    "print(\"modified dimensions\")\n",
    "for dimension in dimensions:\n",
    "    print(dimension)"
   ]
  },
  {
   "cell_type": "code",
   "execution_count": 69,
   "metadata": {},
   "outputs": [
    {
     "name": "stdout",
     "output_type": "stream",
     "text": [
      "Our original south indian buffet items:\n",
      "Rice\n",
      "Sambar\n",
      "Rasam\n",
      "Poorial\n",
      "Kuttu\n",
      "\n",
      "\n",
      "Our newly added south indian buffet items:\n",
      "Rice\n",
      "Sambar\n",
      "Rasam\n",
      "Poorial\n",
      "Kuttu\n",
      "Appalam\n"
     ]
    }
   ],
   "source": [
    "buffet_menu = ('rice','sambar','rasam','poorial','kuttu')\n",
    "print(\"Our original south indian buffet items:\")\n",
    "for item in buffet_menu:\n",
    "    print(item.title())\n",
    "\n",
    "    \n",
    "print('\\n')\n",
    "\n",
    "buffet_menu = ('rice','sambar','rasam','poorial','kuttu','appalam')\n",
    "print(\"Our newly added south indian buffet items:\")\n",
    "for item in buffet_menu:\n",
    "    print(item.title())"
   ]
  },
  {
   "cell_type": "code",
   "execution_count": null,
   "metadata": {},
   "outputs": [],
   "source": []
  }
 ],
 "metadata": {
  "kernelspec": {
   "display_name": "Python 3",
   "language": "python",
   "name": "python3"
  },
  "language_info": {
   "codemirror_mode": {
    "name": "ipython",
    "version": 3
   },
   "file_extension": ".py",
   "mimetype": "text/x-python",
   "name": "python",
   "nbconvert_exporter": "python",
   "pygments_lexer": "ipython3",
   "version": "3.7.6"
  }
 },
 "nbformat": 4,
 "nbformat_minor": 4
}

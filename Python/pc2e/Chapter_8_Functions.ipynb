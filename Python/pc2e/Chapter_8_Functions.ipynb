{
 "cells": [
  {
   "cell_type": "code",
   "execution_count": null,
   "metadata": {},
   "outputs": [],
   "source": [
    "def greet_user():\n",
    "    \"\"\"Display a simple greeting.\"\"\"\n",
    "    print(\"Hello!\")\n",
    "\n",
    "greet_user()"
   ]
  },
  {
   "cell_type": "code",
   "execution_count": null,
   "metadata": {},
   "outputs": [],
   "source": [
    "def greet_user(username):\n",
    "    \"\"\"Display a simple greeting.\"\"\"\n",
    "    print(f\"{username.title()}!\")\n",
    "\n",
    "greet_user(\"sundar\")\n",
    "greet_user(\"priya\")"
   ]
  },
  {
   "cell_type": "code",
   "execution_count": null,
   "metadata": {},
   "outputs": [],
   "source": [
    "#Try it yourself\n",
    "\n",
    "def display_message():\n",
    "    print(\"Learning About Python Functions.\")\n",
    "\n",
    "display_message()"
   ]
  },
  {
   "cell_type": "code",
   "execution_count": null,
   "metadata": {},
   "outputs": [],
   "source": [
    "#Try it yourself\n",
    "\n",
    "def favorite_book(title):\n",
    "    print(f\"my favorite book is {title}\")\n",
    "\n",
    "favorite_book(\"Alice In The Wonderland.\")"
   ]
  },
  {
   "cell_type": "code",
   "execution_count": null,
   "metadata": {},
   "outputs": [],
   "source": [
    "def describe_pet(animal_type,name):\n",
    "    \n",
    "    \"\"\"Display information about the pet\"\"\"\n",
    "    print(f\"\\nI have a {animal_type}.\")\n",
    "    print(f\"My {animal_type}'s name is {name.title()}.\")\n",
    "\n",
    "describe_pet(\"hamster\",\"harry\")"
   ]
  },
  {
   "cell_type": "code",
   "execution_count": null,
   "metadata": {},
   "outputs": [],
   "source": [
    "def describe_pet(animal_type,pet_name):\n",
    "    \n",
    "    \"\"\"Display information about the pet\"\"\"\n",
    "    print(f\"\\nI have a {animal_type}.\")\n",
    "    print(f\"My {animal_type}'s name is {pet_name.title()}.\")\n",
    "\n",
    "describe_pet(\"hamster\",\"harry\")\n",
    "describe_pet(\"dog\",\"willie\")"
   ]
  },
  {
   "cell_type": "code",
   "execution_count": null,
   "metadata": {},
   "outputs": [],
   "source": [
    "#keyword argument \n",
    "def describe_pet(animal_type,pet_name):\n",
    "    \n",
    "    \"\"\"Display information about the pet\"\"\"\n",
    "    print(f\"\\nI have a {animal_type}.\")\n",
    "    print(f\"My {animal_type}'s name is {pet_name.title()}.\")\n",
    "\n",
    "describe_pet(animal_type =\"hamster\",pet_name=\"harry\")\n",
    "describe_pet(pet_name = \"harry\",animal_type =\"hamster\")"
   ]
  },
  {
   "cell_type": "code",
   "execution_count": null,
   "metadata": {},
   "outputs": [],
   "source": [
    "#default arugument \n",
    "def describe_pet(pet_name,animal_type=\"dog\"):\n",
    "    \n",
    "    \"\"\"Display information about the pet\"\"\"\n",
    "    print(f\"\\nI have a {animal_type}.\")\n",
    "    print(f\"My {animal_type}'s name is {pet_name.title()}.\")\n",
    "\n",
    "describe_pet(\"willie\")\n"
   ]
  },
  {
   "cell_type": "code",
   "execution_count": null,
   "metadata": {},
   "outputs": [],
   "source": [
    "#equivalent function calls\n",
    "def describe_pet(pet_name,animal_type=\"dog\"):\n",
    "    \n",
    "    \"\"\"Display information about the pet\"\"\"\n",
    "    print(f\"\\nI have a {animal_type}.\")\n",
    "    print(f\"My {animal_type}'s name is {pet_name.title()}.\")\n",
    "\n",
    "# A dog named willie \n",
    "describe_pet(\"willie\")\n",
    "describe_pet(pet_name=\"willie\")\n",
    "\n",
    "# hamster named harry \n",
    "describe_pet(animal_type=\"hamster\",pet_name=\"harry\")\n",
    "describe_pet(\"harry\",\"hamster\")\n",
    "describe_pet(\"harry\",\"hamster\")\n",
    "describe_pet(\"harry\")"
   ]
  },
  {
   "cell_type": "code",
   "execution_count": null,
   "metadata": {},
   "outputs": [],
   "source": [
    "#argument errors \n",
    "def describe_pet(pet_name,animal_type):\n",
    "    \n",
    "    \"\"\"Display information about the pet\"\"\"\n",
    "    print(f\"\\nI have a {animal_type}.\")\n",
    "    print(f\"My {animal_type}'s name is {pet_name.title()}.\")\n",
    "\n",
    "describe_pet(\"hamster\",\"harry\",26)"
   ]
  },
  {
   "cell_type": "code",
   "execution_count": null,
   "metadata": {},
   "outputs": [],
   "source": [
    "# try it yourself\n",
    "\n",
    "def make_shirt(size,msg):\n",
    "    print(f\"\\nThe size of the shirt is {size} inches.\")\n",
    "    print(f\"The {size} inches shirt has a printed message \\\"{msg}\\\"\")\n",
    "\n",
    "make_shirt(42,\"KEEP CALM AND STUDY\")\n",
    "make_shirt(msg=\"I LOVE NYC\",size=36)"
   ]
  },
  {
   "cell_type": "code",
   "execution_count": null,
   "metadata": {},
   "outputs": [],
   "source": [
    "# try it yourself\n",
    "\n",
    "def make_shirt(msg=\"i love python\",size=\"large\"):\n",
    "    print(f\"\\nThe size of the shirt is {size.title()}.\")\n",
    "    print(f\"The {size} shirt has a printed message \\\"{msg.title()}\\\"\")\n",
    "\n",
    "make_shirt()\n",
    "make_shirt(size=\"medium\")\n",
    "make_shirt(size=\"small\",msg=\"i love machine learning\")"
   ]
  },
  {
   "cell_type": "code",
   "execution_count": null,
   "metadata": {},
   "outputs": [],
   "source": [
    "# try it yourself\n",
    "\n",
    "def describe_city(city_name,country=\"India\"):\n",
    "    print(f\"The city of {city_name.title()} is in {country.title()}.\")\n",
    "\n",
    "describe_city(\"chennai\")\n",
    "describe_city(city_name=\"Delhi\")\n",
    "describe_city(\"rejavik\",\"iceland\")"
   ]
  },
  {
   "cell_type": "code",
   "execution_count": null,
   "metadata": {},
   "outputs": [],
   "source": [
    "# simple return value \n",
    "\n",
    "def get_formatted_name(first_name,last_name):\n",
    "    \"\"\"Return full name, neatly formatted.\"\"\"\n",
    "    full_name = f\"{first_name} {last_name}\"\n",
    "    return full_name.title()\n",
    "\n",
    "musician = get_formatted_name(\"jimi\",\"hendrix\")\n",
    "print(musician)"
   ]
  },
  {
   "cell_type": "code",
   "execution_count": null,
   "metadata": {},
   "outputs": [],
   "source": [
    "# simple return value \n",
    "def get_formatted_name(first_name,middle_name,last_name):\n",
    "    full_name = f\"{first_name} {middle_name} {last_name}\"\n",
    "    return full_name.title()\n",
    "\n",
    "musician = get_formatted_name(\"john\",\"lee\",\"hooker\")\n",
    "print(musician)"
   ]
  },
  {
   "cell_type": "code",
   "execution_count": null,
   "metadata": {},
   "outputs": [],
   "source": [
    "# simple return value \n",
    "def get_formatted_name(first_name,last_name,middle_name=\"\"):\n",
    "    \n",
    "    if middle_name:\n",
    "        full_name = f\"{first_name} {middle_name} {last_name}\"\n",
    "    else:\n",
    "        full_name = f\"{first_name} {last_name}\"\n",
    "        \n",
    "    return full_name.title()\n",
    "\n",
    "musician = get_formatted_name(\"john\",\"lee\",\"hooker\")\n",
    "print(musician)\n",
    "\n",
    "musician_1 = get_formatted_name(\"jimi\",\"hendrix\")\n",
    "print(musician_1)"
   ]
  },
  {
   "cell_type": "code",
   "execution_count": null,
   "metadata": {},
   "outputs": [],
   "source": [
    "#return a dictionary \n",
    "\n",
    "def build_a_person(first_name,last_name,age=None):\n",
    "    \n",
    "    \"\"\"Return a dictionary of information about a person\"\"\"\n",
    "    \n",
    "    person = {'first':first_name,'last':last_name}\n",
    "    \n",
    "    if age:\n",
    "        person['age'] = age\n",
    "    \n",
    "    return person\n",
    "\n",
    "musician = build_a_person(\"jimi\",\"hendrix\",age=27)\n",
    "print(musician)\n",
    "\n",
    "musician_1 = build_a_person(\"john\",\"lee\")\n",
    "print(musician_1)"
   ]
  },
  {
   "cell_type": "code",
   "execution_count": null,
   "metadata": {},
   "outputs": [],
   "source": [
    "# using while loop \n",
    "\n",
    "def get_formatted_name(first_name,last_name):\n",
    "    \"\"\"Return full name, neatly formatted.\"\"\"\n",
    "    full_name = f\"{first_name} {last_name}\"\n",
    "    return full_name.title()\n",
    "\n",
    "# this is an infinite loop \n",
    "\n",
    "while True:\n",
    "    print(\"\\nPlease tell your name.\")\n",
    "    print(\"(enter 'q' to quit the program)\")\n",
    "    \n",
    "    f_name = input(\"First Name: \")\n",
    "    if f_name == \"q\":\n",
    "        break \n",
    "        \n",
    "    l_name = input(\"Last Name: \")\n",
    "    if l_name == \"q\":\n",
    "        break \n",
    "    \n",
    "    formatted_name = get_formatted_name(f_name,l_name)\n",
    "    print(f\"\\n Hello {formatted_name}!\")"
   ]
  },
  {
   "cell_type": "code",
   "execution_count": null,
   "metadata": {},
   "outputs": [],
   "source": [
    "# try it out yourself\n",
    "\n",
    "def city_country(city,country):\n",
    "    \n",
    "    full_city_name = f\"{city} , {country}\"\n",
    "    return full_city_name.title()\n",
    "\n",
    "\n",
    "city_country(\"santiago\",\"chile\")\n",
    "city_country(\"chennai\",\"india\")\n",
    "city_country(\"reykjavík\",\"iceland\")"
   ]
  },
  {
   "cell_type": "code",
   "execution_count": null,
   "metadata": {},
   "outputs": [],
   "source": [
    "# try it out yourself\n",
    "\n",
    "def make_album(artist,title,no_of_song=None):\n",
    "    \n",
    "    music_album = {\"artist\":artist,\"title\":title}\n",
    "\n",
    "    if no_of_song:\n",
    "        music_album[\"no. of songs\"] = no_of_song\n",
    "    \n",
    "    return music_album\n",
    "\n",
    "print(make_album(\"hacksack sisters\",\"girl power\"))\n",
    "print(make_album(\"Adele\",\"california\",3))"
   ]
  },
  {
   "cell_type": "code",
   "execution_count": null,
   "metadata": {},
   "outputs": [],
   "source": [
    "# try it out yourself\n",
    "def make_album(artist,title,no_of_song=None):\n",
    "    \n",
    "    music_album = {\"artist\":artist,\"title\":title}\n",
    "\n",
    "    if no_of_song:\n",
    "        music_album[\"no. of songs\"] = no_of_song\n",
    "    \n",
    "    return music_album\n",
    "\n",
    "\n",
    "# get user inputs\n",
    "while True:\n",
    "    print(\"\\nEnter the artist and album information.\")\n",
    "    print(\"(enter q to 'quit any time')\")\n",
    "\n",
    "    artist_name = input(\"Artist Name: \")\n",
    "    if artist_name == 'q':\n",
    "        break\n",
    "    \n",
    "    album_title = input(\"Album Title: \")\n",
    "    if album_title == 'q':\n",
    "        break \n",
    "    \n",
    "    music_album_details = make_album(artist_name,album_title)\n",
    "    print(f\"{music_album_details}\")"
   ]
  },
  {
   "cell_type": "code",
   "execution_count": null,
   "metadata": {},
   "outputs": [],
   "source": [
    "# passing list into functions \n",
    "def greet_users(names):\n",
    "    \"\"\"Print a message to each user in the list\"\"\"\n",
    "    \n",
    "    for name in names:\n",
    "        msg = f\"Hello {name.title()}!\"\n",
    "        print(msg)\n",
    "\n",
    "user_names = [\"sundar\",\"priya\",\"diya\"]\n",
    "greet_users(user_names)"
   ]
  },
  {
   "cell_type": "code",
   "execution_count": null,
   "metadata": {},
   "outputs": [],
   "source": [
    "# printing designs without using a function\n",
    "\n",
    "unprinted_designs = [\"iphone case\",\"elena toy\",\"barbie doll\"]\n",
    "completed_models = []\n",
    "\n",
    "#simulate each design until none are left \n",
    "#move each design to completed models list \n",
    "while unprinted_designs:\n",
    "    current_design = unprinted_designs.pop()\n",
    "    \n",
    "    print(f\"Printing model: {current_design}\")\n",
    "    completed_models.append(current_design)\n",
    "    \n",
    "#display all completed models\n",
    "print(\"\\nThe following models have been printed.\")\n",
    "for completed_model in completed_models:    \n",
    "    print(completed_model)"
   ]
  },
  {
   "cell_type": "code",
   "execution_count": 8,
   "metadata": {},
   "outputs": [
    {
     "name": "stdout",
     "output_type": "stream",
     "text": [
      "Printing model: barbie doll\n",
      "Printing model: elena toy\n",
      "Printing model: iphone case\n",
      "\n",
      "The following models have been printed.\n",
      "barbie doll\n",
      "elena toy\n",
      "iphone case\n",
      "['iphone case', 'elena toy', 'barbie doll']\n",
      "['barbie doll', 'elena toy', 'iphone case']\n"
     ]
    }
   ],
   "source": [
    "# printing designs using a function in list \n",
    "def print_models(unprinted_designs,completed_models):\n",
    "    \"\"\"\n",
    "    simulate each design until none are left. \n",
    "    move each design to completed models list.\n",
    "    \n",
    "    \"\"\"\n",
    "    while unprinted_designs:\n",
    "        current_design = unprinted_designs.pop()\n",
    "        print(f\"Printing model: {current_design}\")\n",
    "        completed_models.append(current_design)\n",
    "\n",
    "        \n",
    "def show_completed_models(completed_models):\n",
    "    \n",
    "    \"\"\"shows all completed models\"\"\"\n",
    "    \n",
    "    if completed_models:\n",
    "        print(\"\\nThe following models have been printed.\")\n",
    "        for completed_model in completed_models:    \n",
    "            print(completed_model)\n",
    "    else:\n",
    "        print(\"no models printed\")\n",
    "    \n",
    "\n",
    "unprinted_designs = [\"iphone case\",\"elena toy\",\"barbie doll\"]\n",
    "completed_models = []\n",
    "\n",
    "print_models(unprinted_designs[:],completed_models)\n",
    "show_completed_models(completed_models)\n",
    "\n",
    "print(unprinted_designs)\n",
    "print(completed_models)"
   ]
  },
  {
   "cell_type": "code",
   "execution_count": null,
   "metadata": {},
   "outputs": [],
   "source": [
    "# try it out yourself\n",
    "def show_messages(received_messages):\n",
    "    \n",
    "    \"\"\"Print the list of tweet messages from a list\"\"\"\n",
    "    \n",
    "    print(\"Here is the list of messages that was sent.\\n\")\n",
    "    while received_messages:\n",
    "        current_message = received_messages.pop()\n",
    "        print(f\"{current_message}\")\n",
    "\n",
    "tweet1 = \"Light, flexible, machine washable - and powered by recycled water bottles.\"\n",
    "tweet2 = \"We've been telling you all along: drink water, not sugar!\"\n",
    "tweet3 = \"Asana is faster than ever so teams like yours can get more done—without skipping a beat.\"\n",
    "received_messages = [tweet1,tweet2,tweet3]\n",
    "\n",
    "show_messages(received_messages)"
   ]
  },
  {
   "cell_type": "code",
   "execution_count": null,
   "metadata": {},
   "outputs": [],
   "source": [
    "# try it out yourself\n",
    "def send_messages(received_messages,sent_messages):\n",
    "    \n",
    "    \"\"\"Print the list of tweet messages from a list\"\"\"\n",
    "    \n",
    "    print(\"Here is the list of messages being sent.\\n\")\n",
    "    while received_messages:\n",
    "        current_message = received_messages.pop()\n",
    "        print(f\"Sending Message: {current_message}\")\n",
    "        sent_messages.append(current_message)\n",
    "\n",
    "def show_sent_messages(sent_messages):\n",
    "    \n",
    "    \"\"\"Print the list of tweet messages from a list\"\"\"\n",
    "    \n",
    "    print(\"\\nHere is the list of messages that was sent.\\n\")\n",
    "    while sent_messages:\n",
    "        current_message = sent_messages.pop()\n",
    "        print(f\"{current_message}\")\n",
    "\n",
    "        \n",
    "#forming a message list and sending it\n",
    "tweet1 = \"Light, flexible, machine washable - and powered by recycled water bottles.\"\n",
    "tweet2 = \"We've been telling you all along: drink water, not sugar!\"\n",
    "tweet3 = \"Asana is faster than ever so teams like yours can get more done—without skipping a beat.\"\n",
    "received_messages = [tweet1,tweet2,tweet3]\n",
    "sent_messages = []\n",
    "\n",
    "send_messages(received_messages,sent_messages)\n",
    "show_sent_messages(sent_messages)\n",
    "\n",
    "print(received_messages)\n",
    "print(sent_messages)"
   ]
  },
  {
   "cell_type": "code",
   "execution_count": 9,
   "metadata": {},
   "outputs": [
    {
     "name": "stdout",
     "output_type": "stream",
     "text": [
      "Here is the list of messages being sent.\n",
      "\n",
      "Sending Message: Asana is faster than ever so teams like yours can get more done—without skipping a beat.\n",
      "Sending Message: We've been telling you all along: drink water, not sugar!\n",
      "Sending Message: Light, flexible, machine washable - and powered by recycled water bottles.\n",
      "Here is the list of messages that was sent.\n",
      "\n",
      "\n",
      "The following messages have been sent.\n",
      "Asana is faster than ever so teams like yours can get more done—without skipping a beat.\n",
      "We've been telling you all along: drink water, not sugar!\n",
      "Light, flexible, machine washable - and powered by recycled water bottles.\n",
      "\n",
      "\n",
      "['Light, flexible, machine washable - and powered by recycled water bottles.', \"We've been telling you all along: drink water, not sugar!\", 'Asana is faster than ever so teams like yours can get more done—without skipping a beat.']\n",
      "['Asana is faster than ever so teams like yours can get more done—without skipping a beat.', \"We've been telling you all along: drink water, not sugar!\", 'Light, flexible, machine washable - and powered by recycled water bottles.']\n"
     ]
    }
   ],
   "source": [
    "# try it out yourself\n",
    "def send_messages(received_messages,sent_messages):\n",
    "    \n",
    "    \"\"\"Print the list of tweet messages from a list\"\"\"\n",
    "    \n",
    "    print(\"Here is the list of messages being sent.\\n\")\n",
    "    while received_messages:\n",
    "        current_message = received_messages.pop()\n",
    "        print(f\"Sending Message: {current_message}\")\n",
    "        sent_messages.append(current_message)\n",
    "\n",
    "def show_sent_messages(sent_messages):\n",
    "    \n",
    "    \"\"\"Print the list of tweet messages from a list\"\"\"\n",
    "    \n",
    "    print(\"Here is the list of messages that was sent.\\n\")\n",
    "    if sent_messages:\n",
    "        print(\"\\nThe following messages have been sent.\")\n",
    "        for sent_message in sent_messages:    \n",
    "            print(sent_message)\n",
    "    else:\n",
    "        print(\"no models printed\")\n",
    "        \n",
    "\n",
    "        \n",
    "#forming a message list and sending it\n",
    "tweet1 = \"Light, flexible, machine washable - and powered by recycled water bottles.\"\n",
    "tweet2 = \"We've been telling you all along: drink water, not sugar!\"\n",
    "tweet3 = \"Asana is faster than ever so teams like yours can get more done—without skipping a beat.\"\n",
    "received_messages = [tweet1,tweet2,tweet3]\n",
    "sent_messages = []\n",
    "\n",
    "send_messages(received_messages[:],sent_messages)\n",
    "show_sent_messages(sent_messages)\n",
    "\n",
    "print(\"\\n\")\n",
    "print(received_messages)\n",
    "print(sent_messages)"
   ]
  },
  {
   "cell_type": "code",
   "execution_count": 11,
   "metadata": {},
   "outputs": [
    {
     "name": "stdout",
     "output_type": "stream",
     "text": [
      "('pepperoni',)\n",
      "('mushroom', 'olives', 'tomatoes')\n"
     ]
    }
   ],
   "source": [
    "# arbitatory number of arguments \n",
    "\n",
    "def make_pizza(*toppings):\n",
    "    \"\"\"\n",
    "    Print pizza toppings\n",
    "    \"\"\"\n",
    "    print(toppings)\n",
    "\n",
    "make_pizza(\"pepperoni\")\n",
    "make_pizza(\"mushroom\",\"olives\",\"tomatoes\")"
   ]
  },
  {
   "cell_type": "code",
   "execution_count": 15,
   "metadata": {},
   "outputs": [
    {
     "name": "stdout",
     "output_type": "stream",
     "text": [
      "\n",
      "Making a pizza with the following toppings:\n",
      "-pepperoni\n",
      "\n",
      "Making a pizza with the following toppings:\n",
      "-mushroom\n",
      "-olives\n",
      "-tomatoes\n"
     ]
    }
   ],
   "source": [
    "def make_pizza(*toppings):\n",
    "    \"\"\"\n",
    "    Summarizing the pizza we are about to make \n",
    "    \n",
    "    \"\"\"\n",
    "    print(f\"\\nMaking a pizza with the following toppings:\")\n",
    "    for topping in toppings:\n",
    "        print(f\"-{topping}\")\n",
    "\n",
    "make_pizza(\"pepperoni\")\n",
    "make_pizza(\"mushroom\",\"olives\",\"tomatoes\")"
   ]
  },
  {
   "cell_type": "code",
   "execution_count": 16,
   "metadata": {},
   "outputs": [
    {
     "name": "stdout",
     "output_type": "stream",
     "text": [
      "\n",
      "Making a 12-inches pizza with the following toppings:\n",
      "-pepperoni\n",
      "\n",
      "Making a 16-inches pizza with the following toppings:\n",
      "-mushroom\n",
      "-olives\n",
      "-tomatoes\n"
     ]
    }
   ],
   "source": [
    "def make_pizza(size,*toppings):\n",
    "    \"\"\"\n",
    "    Summarizing the pizza we are about to make \n",
    "    \n",
    "    \"\"\"\n",
    "    print(f\"\\nMaking a {size}-inches pizza with the following toppings:\")\n",
    "    for topping in toppings:\n",
    "        print(f\"-{topping}\")\n",
    "\n",
    "make_pizza(12,\"pepperoni\")\n",
    "make_pizza(16,\"mushroom\",\"olives\",\"tomatoes\")"
   ]
  },
  {
   "cell_type": "code",
   "execution_count": 18,
   "metadata": {},
   "outputs": [
    {
     "data": {
      "text/plain": [
       "{'location': 'monroe township',\n",
       " 'job': 'ceo',\n",
       " 'First Name': 'sundar',\n",
       " 'Last Name': 'sritharan'}"
      ]
     },
     "execution_count": 18,
     "metadata": {},
     "output_type": "execute_result"
    }
   ],
   "source": [
    "def build_userprofile(first,last,**user_info):\n",
    "    \"\"\"\n",
    "        Build a dictionary containing everything you know about the user. \n",
    "    \"\"\"\n",
    "    user_info[\"First Name\"] = first\n",
    "    user_info[\"Last Name\"] = last \n",
    "    return user_info \n",
    "\n",
    "build_userprofile(\"sundar\",\"sritharan\",location=\"monroe township\",job=\"ceo\")"
   ]
  },
  {
   "cell_type": "code",
   "execution_count": 22,
   "metadata": {},
   "outputs": [
    {
     "name": "stdout",
     "output_type": "stream",
     "text": [
      "\n",
      "Your sandwich has the following ingredients.\n",
      "-cucumber\n",
      "-avacoad\n",
      "-tomato\n",
      "-swiss cheese\n",
      "\n",
      "Your sandwich has the following ingredients.\n",
      "-chicken\n",
      "-blue cheese\n",
      "-tomato\n",
      "-pickels\n",
      "\n",
      "Your sandwich has the following ingredients.\n",
      "-ham\n",
      "-bacon\n",
      "-meat ball\n",
      "-swiss cheese\n"
     ]
    }
   ],
   "source": [
    "#try it yourself \n",
    "\n",
    "def make_sandwich(*ingredients):\n",
    "    \"\"\"\n",
    "        Print the ingredients in a sandwich.  \n",
    "    \"\"\"\n",
    "    \n",
    "    print(f\"\\nYour sandwich has the following ingredients.\")\n",
    "    for ingredient in ingredients:\n",
    "        print(f\"-{ingredient}\")\n",
    "\n",
    "make_sandwich(\"cucumber\",\"avacoad\",\"tomato\",\"swiss cheese\")\n",
    "make_sandwich(\"chicken\",\"blue cheese\",\"tomato\",\"pickels\")\n",
    "make_sandwich(\"ham\",\"bacon\",\"meat ball\",\"swiss cheese\")"
   ]
  },
  {
   "cell_type": "code",
   "execution_count": 23,
   "metadata": {},
   "outputs": [
    {
     "data": {
      "text/plain": [
       "{'location': 'monroe township',\n",
       " 'job': 'ceo',\n",
       " 'First Name': 'sundar',\n",
       " 'Last Name': 'sritharan'}"
      ]
     },
     "execution_count": 23,
     "metadata": {},
     "output_type": "execute_result"
    }
   ],
   "source": [
    "#try it yourself \n",
    "def build_userprofile(first,last,**user_info):\n",
    "    \"\"\"\n",
    "        Build a dictionary containing everything you know about the user. \n",
    "    \"\"\"\n",
    "    user_info[\"First Name\"] = first\n",
    "    user_info[\"Last Name\"] = last \n",
    "    return user_info \n",
    "\n",
    "build_userprofile(\"sundar\",\"sritharan\",location=\"monroe township\",job=\"ceo\")"
   ]
  },
  {
   "cell_type": "code",
   "execution_count": 33,
   "metadata": {},
   "outputs": [
    {
     "name": "stdout",
     "output_type": "stream",
     "text": [
      "\n",
      "Your car is ready! Here are the information about your car.\n",
      "Color:blue\n",
      "Tow_Package:True\n",
      "Make:subaru\n",
      "Model:outback\n",
      "\n",
      "Your car is ready! Here are the information about your car.\n",
      "Year:1991\n",
      "Color:white\n",
      "Headlights:popup\n",
      "Make:honda\n",
      "Model:accord\n"
     ]
    }
   ],
   "source": [
    "#try it yourself \n",
    "\n",
    "def make_car(make,model,**car_profile):\n",
    "    \n",
    "    \"\"\"\n",
    "        Make a car and display the car profile. \n",
    "    \"\"\"\n",
    "    car_profile[\"make\"] = make\n",
    "    car_profile[\"model\"] = model\n",
    "    print(f\"\\nYour car is ready! Here are the information about your car.\")\n",
    "    \n",
    "    for item,info in car_profile.items():\n",
    "        print(f\"{item.title()}:{info}\")\n",
    "    \n",
    "\n",
    "make_car(\"subaru\",\"outback\",color=\"blue\",tow_package = True)\n",
    "make_car('honda', 'accord', year=1991, color='white', headlights='popup')"
   ]
  },
  {
   "cell_type": "code",
   "execution_count": 36,
   "metadata": {},
   "outputs": [
    {
     "data": {
      "text/plain": [
       "'/Users/sundarsritharan'"
      ]
     },
     "execution_count": 36,
     "metadata": {},
     "output_type": "execute_result"
    }
   ],
   "source": [
    "pwd"
   ]
  },
  {
   "cell_type": "code",
   "execution_count": 35,
   "metadata": {},
   "outputs": [
    {
     "data": {
      "text/plain": [
       "'/Users/sundarsritharan'"
      ]
     },
     "execution_count": 35,
     "metadata": {},
     "output_type": "execute_result"
    }
   ],
   "source": [
    "pwd"
   ]
  },
  {
   "cell_type": "code",
   "execution_count": 40,
   "metadata": {},
   "outputs": [
    {
     "name": "stdout",
     "output_type": "stream",
     "text": [
      "\n",
      "Making a 16-inches pizza with the following toppings:\n",
      "-pepperoni\n",
      "\n",
      "Making a 18-inches pizza with the following toppings:\n",
      "-mushroom\n",
      "-olives\n",
      "-tomatoes\n"
     ]
    }
   ],
   "source": [
    "import pizza\n",
    "\n",
    "pizza.make_pizza(16,\"pepperoni\")\n",
    "pizza.make_pizza(18,\"mushroom\",\"olives\",\"tomatoes\")"
   ]
  },
  {
   "cell_type": "code",
   "execution_count": 41,
   "metadata": {},
   "outputs": [
    {
     "name": "stdout",
     "output_type": "stream",
     "text": [
      "\n",
      "Making a 16-inches pizza with the following toppings:\n",
      "-pepperoni\n",
      "\n",
      "Making a 18-inches pizza with the following toppings:\n",
      "-mushroom\n",
      "-olives\n",
      "-tomatoes\n"
     ]
    }
   ],
   "source": [
    "# import a specific function from a module \n",
    "\n",
    "from pizza import make_pizza\n",
    "\n",
    "make_pizza(16,\"pepperoni\")\n",
    "make_pizza(18,\"mushroom\",\"olives\",\"tomatoes\")"
   ]
  },
  {
   "cell_type": "code",
   "execution_count": 43,
   "metadata": {},
   "outputs": [
    {
     "name": "stdout",
     "output_type": "stream",
     "text": [
      "\n",
      "Making a 16-inches pizza with the following toppings:\n",
      "-pepperoni\n",
      "\n",
      "Making a 18-inches pizza with the following toppings:\n",
      "-mushroom\n",
      "-olives\n",
      "-tomatoes\n"
     ]
    }
   ],
   "source": [
    "#import function as an alias \n",
    "from pizza import make_pizza as mp \n",
    "\n",
    "mp(16,\"pepperoni\")\n",
    "mp(18,\"mushroom\",\"olives\",\"tomatoes\")"
   ]
  },
  {
   "cell_type": "code",
   "execution_count": null,
   "metadata": {},
   "outputs": [],
   "source": []
  }
 ],
 "metadata": {
  "kernelspec": {
   "display_name": "Python 3",
   "language": "python",
   "name": "python3"
  },
  "language_info": {
   "codemirror_mode": {
    "name": "ipython",
    "version": 3
   },
   "file_extension": ".py",
   "mimetype": "text/x-python",
   "name": "python",
   "nbconvert_exporter": "python",
   "pygments_lexer": "ipython3",
   "version": "3.7.6"
  }
 },
 "nbformat": 4,
 "nbformat_minor": 4
}

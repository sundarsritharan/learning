{
 "cells": [
  {
   "cell_type": "code",
   "execution_count": null,
   "metadata": {},
   "outputs": [],
   "source": [
    "# reading contents of a file \n",
    "with open('pi_digits.txt') as file_object:\n",
    "    contents = file_object.read()\n",
    "\n",
    "print(contents)"
   ]
  },
  {
   "cell_type": "code",
   "execution_count": null,
   "metadata": {},
   "outputs": [],
   "source": [
    "# reading contents of a file and removing blank space \n",
    "with open('pi_digits.txt') as file_object:\n",
    "    contents = file_object.read()\n",
    "\n",
    "print(contents.rstrip())"
   ]
  },
  {
   "cell_type": "code",
   "execution_count": null,
   "metadata": {},
   "outputs": [],
   "source": [
    "# reading contents of a file line by line \n",
    "\n",
    "file_name = 'pi_digits.txt'\n",
    "\n",
    "with open(file_name) as file_object:\n",
    "    for line in file_object:\n",
    "        print(line.rstrip())"
   ]
  },
  {
   "cell_type": "code",
   "execution_count": null,
   "metadata": {},
   "outputs": [],
   "source": [
    "# reading list of lines from a file\n",
    "\n",
    "file_name = 'pi_digits.txt'\n",
    "\n",
    "with open(file_name) as file_object:\n",
    "    line = file_object.readlines()\n",
    "\n",
    "for line in line:\n",
    "        print(line.rstrip())"
   ]
  },
  {
   "cell_type": "code",
   "execution_count": null,
   "metadata": {},
   "outputs": [],
   "source": [
    "# working with file's content \n",
    "\n",
    "file_name = 'pi_digits.txt'\n",
    "\n",
    "with open(file_name) as file_object:\n",
    "    lines = file_object.readlines()\n",
    "\n",
    "pi_string = \"\"\n",
    "for line in lines:\n",
    "    pi_string += line.strip()\n",
    "\n",
    "print(pi_string)\n",
    "print(len(pi_string))"
   ]
  },
  {
   "cell_type": "code",
   "execution_count": null,
   "metadata": {},
   "outputs": [],
   "source": [
    "# read a large file 1 million digits \n",
    "file_name = 'pi_million_digits.txt'\n",
    "\n",
    "with open(file_name) as file_object:\n",
    "    lines = file_object.readlines()\n",
    "\n",
    "pi_string = \"\"\n",
    "for line in lines:\n",
    "    pi_string += line.strip()\n",
    "\n",
    "print(f\"{pi_string[:52]}...\")\n",
    "print(len(pi_string))"
   ]
  },
  {
   "cell_type": "code",
   "execution_count": null,
   "metadata": {},
   "outputs": [],
   "source": [
    "# check if my birthday in pi string \n",
    "file_name = 'pi_million_digits.txt'\n",
    "\n",
    "with open(file_name) as file_object:\n",
    "    lines = file_object.readlines()\n",
    "\n",
    "pi_string = \"\"\n",
    "for line in lines:\n",
    "    pi_string += line.strip()\n",
    "\n",
    "#get brithday as input and check if its in pi string\n",
    "\n",
    "birthday = input(\"please enter your birth date in mmddyy: \")\n",
    "if birthday in pi_string:\n",
    "    print(\"Your birthdate appears in the first million digits of pi string\")\n",
    "else:\n",
    "    print(\"Your birthdate doesn't appears in the first million digits of pi string\")"
   ]
  },
  {
   "cell_type": "code",
   "execution_count": null,
   "metadata": {},
   "outputs": [],
   "source": [
    "# try it yourself print the entire content\n",
    "file_name = 'learning_python.txt'\n",
    "\n",
    "with open(file_name) as file_object:\n",
    "    content = file_object.read()\n",
    "\n",
    "print(content)"
   ]
  },
  {
   "cell_type": "code",
   "execution_count": null,
   "metadata": {},
   "outputs": [],
   "source": [
    "# try it yourself loop over the file object\n",
    "file_name = 'learning_python.txt'\n",
    "\n",
    "with open(file_name) as file_object:\n",
    "    for line in file_object:\n",
    "        print(line.rstrip())"
   ]
  },
  {
   "cell_type": "code",
   "execution_count": null,
   "metadata": {},
   "outputs": [],
   "source": [
    "# try it yourself read the content in a list and print\n",
    "file_name = 'learning_python.txt'\n",
    "\n",
    "with open(file_name) as file_object:\n",
    "    lines = file_object.readlines()\n",
    "\n",
    "for line in lines:\n",
    "    print(line.strip())"
   ]
  },
  {
   "cell_type": "code",
   "execution_count": null,
   "metadata": {},
   "outputs": [],
   "source": [
    "#using replace method. \n",
    "\n",
    "file_name = 'learning_python.txt'\n",
    "\n",
    "with open(file_name) as file_object:\n",
    "    lines = file_object.readlines()\n",
    "\n",
    "for line in lines:\n",
    "    msg = line.replace('In Python','In Julia')\n",
    "    print(msg)"
   ]
  },
  {
   "cell_type": "code",
   "execution_count": null,
   "metadata": {},
   "outputs": [],
   "source": [
    "# writing to files \n",
    "file_name = 'programming.txt'\n",
    "\n",
    "with open(file_name,'w') as file_object:\n",
    "    msg = 'I love programming.'\n",
    "    file_object.write(msg)\n",
    "\n",
    "with open(file_name) as file_object:\n",
    "   content = file_object.read()\n",
    "\n",
    "print(content)"
   ]
  },
  {
   "cell_type": "code",
   "execution_count": null,
   "metadata": {},
   "outputs": [],
   "source": [
    "# writing to mulitple lines in file \n",
    "file_name = 'programming.txt'\n",
    "\n",
    "with open(file_name,'w') as file_object:\n",
    "    file_object.write('I love programming.')\n",
    "    file_object.write('I love building games.')\n",
    "\n",
    "with open(file_name) as file_object:\n",
    "    content = file_object.read()\n",
    "\n",
    "print(content)"
   ]
  },
  {
   "cell_type": "code",
   "execution_count": null,
   "metadata": {},
   "outputs": [],
   "source": [
    "# writing to mulitple lines in file \n",
    "file_name = 'programming.txt'\n",
    "\n",
    "with open(file_name,'w') as file_object:\n",
    "    file_object.write('I love programming.\\n')\n",
    "    file_object.write('I love building games.\\n')\n",
    "\n",
    "with open(file_name) as file_object:\n",
    "    content = file_object.read()\n",
    "\n",
    "print(content)"
   ]
  },
  {
   "cell_type": "code",
   "execution_count": null,
   "metadata": {},
   "outputs": [],
   "source": [
    "#writing to a file in append only mode \n",
    "file_name = 'programming.txt'\n",
    "\n",
    "with open(file_name,'a') as file_object:\n",
    "    file_object.write('I also love to find meaning in large datasets. \\n')\n",
    "    file_object.write('I also love to build apps that runs in web browser. \\n')\n",
    "\n",
    "with open(file_name) as file_object:\n",
    "    content = file_object.read()\n",
    "\n",
    "print(content)"
   ]
  },
  {
   "cell_type": "code",
   "execution_count": null,
   "metadata": {},
   "outputs": [],
   "source": [
    "# TIY - write guest name to file \n",
    "\n",
    "file_name = 'guest.txt'\n",
    "guest_name = input('Kindly enter your full name: ')\n",
    "\n",
    "with open(file_name,'w') as file_object:\n",
    "    file_object.write(guest_name)\n",
    "\n",
    "with open(file_name) as file_object:\n",
    "    content = file_object.read()\n",
    "\n",
    "print(content)"
   ]
  },
  {
   "cell_type": "code",
   "execution_count": null,
   "metadata": {},
   "outputs": [],
   "source": [
    "# TIY - write guest name to file\n",
    "\n",
    "file_name = 'guest_book.txt'\n",
    "guest_name = ''\n",
    "\n",
    "while guest_name == '':\n",
    "    guest_name = input('Kindly enter your full name: ')\n",
    "\n",
    "with open(file_name,'w') as file_object:\n",
    "    file_object.write(guest_name)\n",
    "\n",
    "with open(file_name) as file_object:\n",
    "    content = file_object.read()\n",
    "\n",
    "print(content)"
   ]
  },
  {
   "cell_type": "code",
   "execution_count": null,
   "metadata": {},
   "outputs": [],
   "source": [
    "# TIY - ask why people like programming \n",
    "\n",
    "file_name = 'programming_reason.txt'\n",
    "reason = ''\n",
    "\n",
    "while reason == '':\n",
    "    reason = input('kindly tell why you like programming: ')\n",
    "\n",
    "with open(file_name,'a') as file_object:\n",
    "    file_object.write(reason)\n",
    "\n",
    "with open(file_name) as file_object:\n",
    "    content = file_object.read()\n",
    "\n",
    "print(content)"
   ]
  },
  {
   "cell_type": "code",
   "execution_count": null,
   "metadata": {},
   "outputs": [],
   "source": [
    "#  zerodivison exception \n",
    "print(5/0)"
   ]
  },
  {
   "cell_type": "code",
   "execution_count": null,
   "metadata": {},
   "outputs": [],
   "source": [
    "# handling zerodivison exception \n",
    "\n",
    "try:\n",
    "    print(5/0)\n",
    "except ZeroDivisionError:\n",
    "    print(\"You can't divide by zero !\")"
   ]
  },
  {
   "cell_type": "code",
   "execution_count": null,
   "metadata": {},
   "outputs": [],
   "source": [
    "# unable to prevent crashes\n",
    "\n",
    "print(\"Give me two numbers, I'll divide them for you\")\n",
    "print(\"Enter 'q' to quit\")\n",
    "\n",
    "while True:\n",
    "    first_number = input(\"\\nFirst Number: \")\n",
    "    if first_number == 'q':\n",
    "        break\n",
    "    second_number = input(\"Second Number: \")\n",
    "    if second_number == 'q':\n",
    "        break \n",
    "    \n",
    "    result = int(first_number) / int(second_number)\n",
    "    print(f\"Result: {result}\")"
   ]
  },
  {
   "cell_type": "code",
   "execution_count": null,
   "metadata": {},
   "outputs": [],
   "source": [
    "# using exceptions to prevent crashes\n",
    "\n",
    "print(\"Give me two numbers, I'll divide them for you\")\n",
    "print(\"Enter 'q' to quit\")\n",
    "\n",
    "while True:\n",
    "    first_number = input(\"\\nFirst Number: \")\n",
    "    if first_number == 'q':\n",
    "        break\n",
    "    second_number = input(\"Second Number: \")\n",
    "    if second_number == 'q':\n",
    "        break \n",
    "    \n",
    "    # wrapping the division inside try-except-else block \n",
    "    try:\n",
    "        result = int(first_number) / int(second_number)\n",
    "    except:\n",
    "        print(\"You can't divide by 0!\")\n",
    "    else:\n",
    "        print(f\"Result: {result}\")"
   ]
  },
  {
   "cell_type": "code",
   "execution_count": null,
   "metadata": {},
   "outputs": [],
   "source": [
    "# filenotfound exception \n",
    "\n",
    "file_name = 'alice.txt'\n",
    "\n",
    "with open(file_name,encoding='utf-8') as f:\n",
    "    content = f.read()\n",
    "\n",
    "print(content)"
   ]
  },
  {
   "cell_type": "code",
   "execution_count": null,
   "metadata": {},
   "outputs": [],
   "source": [
    "# handling filenotfound exception \n",
    "\n",
    "file_name = 'alice.txt'\n",
    "\n",
    "try:\n",
    "    with open(file_name,encoding='utf-8') as f:\n",
    "        f.read()\n",
    "except FileNotFoundError:\n",
    "    print(f\"Sorry the file '{file_name}' you are trying to open does not exsists.\")"
   ]
  },
  {
   "cell_type": "code",
   "execution_count": null,
   "metadata": {},
   "outputs": [],
   "source": [
    "# split method demo \n",
    "\n",
    "title = 'Alice in the wonderland'\n",
    "print(title.split())"
   ]
  },
  {
   "cell_type": "code",
   "execution_count": null,
   "metadata": {},
   "outputs": [],
   "source": [
    "# counting words in alice in wonderland \n",
    "\n",
    "file_name = 'alice.txt'\n",
    "\n",
    "try:\n",
    "    with open(file_name,encoding='utf-8') as f:\n",
    "        content = f.read()\n",
    "except FileNotFoundError:\n",
    "    print(f\"Sorry the file '{file_name}' you are trying to open does not exsists.\")\n",
    "else:\n",
    "    words = content.split()\n",
    "    num_words = len(words)\n",
    "    print(f\"The file '{file_name}' has about {num_words} words.\")"
   ]
  },
  {
   "cell_type": "code",
   "execution_count": null,
   "metadata": {},
   "outputs": [],
   "source": [
    "# working with multiple files - v1 \n",
    "\n",
    "def count_words(file_name):\n",
    "    \"\"\"count the number of words in a given file\"\"\"\n",
    "    try:\n",
    "        with open(file_name,encoding='utf-8') as f:\n",
    "            content = f.read()\n",
    "    except FileNotFoundError:\n",
    "        print(f\"Sorry the file '{file_name}' you are trying to open does not exsists.\")\n",
    "    else:\n",
    "        words = content.split()\n",
    "        num_words = len(words)\n",
    "        print(f\"The file '{file_name}' has about {num_words} words.\")\n",
    "\n",
    "file_name = 'alice.txt'\n",
    "count_words(file_name)\n"
   ]
  },
  {
   "cell_type": "code",
   "execution_count": null,
   "metadata": {},
   "outputs": [],
   "source": [
    "# working with multiple files - v1 \n",
    "def count_words(file_name):\n",
    "    \"\"\"count the number of words in a given file\"\"\"\n",
    "    try:\n",
    "        with open(file_name,encoding='utf-8') as f:\n",
    "            content = f.read()\n",
    "    except FileNotFoundError:\n",
    "        print(f\"Sorry the file '{file_name}' you are trying to open does not exsists.\")\n",
    "    else:\n",
    "        words = content.split()\n",
    "        num_words = len(words)\n",
    "        print(f\"The file '{file_name}' has about {num_words} words.\")\n",
    "\n",
    "file_names = ['alice.txt','siddhartha.txt','moby_dick.txt','little_women.txt']\n",
    "\n",
    "for file in file_names:\n",
    "    count_words(file)"
   ]
  },
  {
   "cell_type": "code",
   "execution_count": null,
   "metadata": {},
   "outputs": [],
   "source": [
    "# using pass statement and silently handling exceptions \n",
    "def count_words(file_name):\n",
    "    \"\"\"count the number of words in a given file\"\"\"\n",
    "    try:\n",
    "        with open(file_name,encoding='utf-8') as f:\n",
    "            content = f.read()\n",
    "    except FileNotFoundError:\n",
    "        pass\n",
    "    else:\n",
    "        words = content.split()\n",
    "        num_words = len(words)\n",
    "        print(f\"The file '{file_name}' has about {num_words} words.\")\n",
    "\n",
    "file_names = ['alice.txt','siddhartha.txt','moby_dick.txt','little_women.txt']\n",
    "\n",
    "for file in file_names:\n",
    "    count_words(file)"
   ]
  },
  {
   "cell_type": "code",
   "execution_count": null,
   "metadata": {},
   "outputs": [],
   "source": [
    "# TIY 10.6 Addition \n",
    "print(\"Enter two numbers to add them\")\n",
    "print(\"Enter 'q' to quit the program.\")\n",
    "\n",
    "\n",
    "while True:\n",
    "    first_number = input(\"First Number: \")\n",
    "    second_number = input(\"Second Number: \")\n",
    "    if first_number == 'q' or second_number == 'q':\n",
    "        break\n",
    "    \n",
    "    try:\n",
    "        result = int(first_number) + int(second_number)\n",
    "    except ValueError:\n",
    "        print(\"Kindly enter a valid number\")\n",
    "    else:\n",
    "        print(f\"Result: {result}\")"
   ]
  },
  {
   "cell_type": "code",
   "execution_count": null,
   "metadata": {},
   "outputs": [],
   "source": [
    "# TIY 10.6 Addition | Better Version \n",
    "print(\"Enter two numbers to add them\")\n",
    "print(\"Enter 'q' to quit the program.\")\n",
    "\n",
    "\n",
    "while True:\n",
    "    \n",
    "    first_input = input(\"First Number: \")\n",
    "    second_input = input(\"Second Number: \")\n",
    "    if first_input == 'q' or second_input == 'q':\n",
    "        break\n",
    "    \n",
    "    try:\n",
    "        first_number = int(first_input)\n",
    "    except ValueError:\n",
    "        print(\"Kindly enter a valid number\")\n",
    "        first_input = input(\"First Number: \")\n",
    "\n",
    "    try:\n",
    "        second_number = int(second_input)\n",
    "    except ValueError:\n",
    "        print(\"Kindly enter a valid number\")\n",
    "        second_input = input(\"Second Number: \")\n",
    "    \n",
    "    \n",
    "    result = first_number + second_number\n",
    "    print(f\"Result: {result}\")"
   ]
  },
  {
   "cell_type": "code",
   "execution_count": null,
   "metadata": {},
   "outputs": [],
   "source": [
    "# TIY 10.8 Addition | Cat and Dogs\n",
    "pwd"
   ]
  },
  {
   "cell_type": "code",
   "execution_count": null,
   "metadata": {},
   "outputs": [],
   "source": [
    "#TIYS 10.11 \n",
    "import json \n",
    "file_name = '/Users/sundarsritharan/Python/Files/fav_num.json'\n",
    "\n",
    "fav_num = input(\"what is your favorite number? \")\n",
    "\n",
    "with open(file_name,'w') as f:\n",
    "    json.dump(fav_num,f)"
   ]
  },
  {
   "cell_type": "code",
   "execution_count": null,
   "metadata": {},
   "outputs": [],
   "source": [
    "#TIYS 10.11\n",
    "import json \n",
    "file_name = '/Users/sundarsritharan/Python/Files/fav_num.json'\n",
    "\n",
    "with open(file_name) as f:\n",
    "    fav_num = json.load(f)\n",
    "print(f\"I know your favorite number. It's {fav_num}!\")"
   ]
  },
  {
   "cell_type": "code",
   "execution_count": null,
   "metadata": {},
   "outputs": [],
   "source": [
    "#TIYS 10.12\n",
    "import json \n",
    "\n",
    "def get_fav_number():\n",
    "    \"\"\" get favorite number from user\"\"\"\n",
    "    \n",
    "    file_name = '/Users/sundarsritharan/Python/Files/fav_num.json'\n",
    "    fav_num = ''\n",
    "    \n",
    "    try:\n",
    "        with open(file_name) as f:\n",
    "            fav_num = json.load(f)\n",
    "    except FileNotFoundError:\n",
    "        fav_name = input(\"what is your favorite number? \")\n",
    "        with open(file_name,'w') as f:\n",
    "            json.dump(fav_name,f)\n",
    "            print(f\"We will remember your number.\")\n",
    "        return None\n",
    "    else:\n",
    "        return fav_num\n",
    "\n",
    "def show_fav_number():\n",
    "    \"\"\" show favorite number to user\"\"\"\n",
    "    fav_number = get_fav_number()\n",
    "    \n",
    "    if fav_number:\n",
    "        print(f\"I know your favorite number. It's {fav_number}!\")\n",
    "    else:\n",
    "        get_fav_number()\n",
    "\n",
    "show_fav_number()"
   ]
  },
  {
   "cell_type": "code",
   "execution_count": 12,
   "metadata": {},
   "outputs": [
    {
     "name": "stdout",
     "output_type": "stream",
     "text": [
      "Is your name eric? y/n n\n",
      "What is your name? eric\n",
      "We'll remember you when you come back, eric!\n"
     ]
    }
   ],
   "source": [
    "#TIYS 10.13 verify user \n",
    "\n",
    "import json \n",
    "\n",
    "def get_stored_username():\n",
    "    \n",
    "    \"\"\"get the user name stored in the file\"\"\"\n",
    "    \n",
    "    file_name = '/Users/sundarsritharan/Python/Files/users.json'\n",
    "    \n",
    "    try:\n",
    "        with open(file_name) as f:\n",
    "            user_name = json.load(f)\n",
    "    except FileNotFoundError:\n",
    "        return None \n",
    "    else:\n",
    "        return user_name\n",
    "\n",
    "def get_new_username():\n",
    "    \"\"\"ask new user name and store it in a file\"\"\"\n",
    "    \n",
    "    user_name = input (\"What is your name? \")\n",
    "    file_name = '/Users/sundarsritharan/Python/Files/users.json'\n",
    "    \n",
    "    with open(file_name,'w') as f:\n",
    "        json.dump(user_name,f)\n",
    "    \n",
    "    return user_name\n",
    "\n",
    "\n",
    "def greet_user():\n",
    "    \"\"\"Greet user\"\"\"\n",
    "    \n",
    "    username = get_stored_username()\n",
    "    \n",
    "    if username:\n",
    "        user_confirmation = input(f\"Is your name {username}? y/n \")\n",
    "        if user_confirmation == 'y':\n",
    "            print(f\"Welcome back, {username}!\")\n",
    "        else:\n",
    "            username = get_new_username()\n",
    "            print(f\"We'll remember you when you come back, {username}!\")\n",
    "    else:\n",
    "        username = get_new_username()\n",
    "        print(f\"We'll remember you when you come back, {username}!\")\n",
    "\n",
    "greet_user()"
   ]
  },
  {
   "cell_type": "code",
   "execution_count": 13,
   "metadata": {},
   "outputs": [
    {
     "name": "stdout",
     "output_type": "stream",
     "text": [
      "Is your name eric? y/n \n",
      "What is your name? y\n",
      "We'll remember you when you come back, y!\n"
     ]
    }
   ],
   "source": [
    "#TIYS 10.13 verify user better version\n",
    "\n",
    "import json \n",
    "\n",
    "def get_stored_username():\n",
    "    \"\"\"get the user name stored in the file\"\"\"\n",
    "    \n",
    "    file_name = '/Users/sundarsritharan/Python/Files/users.json'\n",
    "    \n",
    "    try:\n",
    "        with open(file_name) as f:\n",
    "            user_name = json.load(f)\n",
    "    except FileNotFoundError:\n",
    "        return None \n",
    "    else:\n",
    "        return user_name\n",
    "\n",
    "def get_new_username():\n",
    "    \"\"\"ask new user name and store it in a file\"\"\"\n",
    "    \n",
    "    user_name = input (\"What is your name? \")\n",
    "    file_name = '/Users/sundarsritharan/Python/Files/users.json'\n",
    "    \n",
    "    with open(file_name,'w') as f:\n",
    "        json.dump(user_name,f)\n",
    "    \n",
    "    return user_name\n",
    "\n",
    "\n",
    "def greet_user():\n",
    "    \"\"\"Greet user if they say who\"\"\"\n",
    "    \n",
    "    username = get_stored_username()\n",
    "    \n",
    "    if username:\n",
    "        correct = input(f\"Is your name {username}? y/n \")\n",
    "        if correct == 'y':\n",
    "            print(f\"Welcome back, {username}!\")\n",
    "            return\n",
    "    \n",
    "    # we got the user_name but it's not correct\n",
    "    # we didn't get user_name let's get new one \n",
    "    username = get_new_username()\n",
    "    print(f\"We'll remember you when you come back, {username}!\")\n",
    "        \n",
    "greet_user()"
   ]
  },
  {
   "cell_type": "code",
   "execution_count": null,
   "metadata": {},
   "outputs": [],
   "source": []
  }
 ],
 "metadata": {
  "kernelspec": {
   "display_name": "Python 3",
   "language": "python",
   "name": "python3"
  },
  "language_info": {
   "codemirror_mode": {
    "name": "ipython",
    "version": 3
   },
   "file_extension": ".py",
   "mimetype": "text/x-python",
   "name": "python",
   "nbconvert_exporter": "python",
   "pygments_lexer": "ipython3",
   "version": "3.7.6"
  }
 },
 "nbformat": 4,
 "nbformat_minor": 4
}

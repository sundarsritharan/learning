{
 "cells": [
  {
   "cell_type": "code",
   "execution_count": null,
   "metadata": {},
   "outputs": [],
   "source": [
    "\"\"\"A class that can be used to represent a car.\"\"\"\n",
    "class Car:\n",
    "    \"\"\"A simple attempt to represent a car\"\"\"\n",
    "    \n",
    "    def __init__(self, make, model, year):\n",
    "        \"\"\"Initialize attributes to describe the car\"\"\"\n",
    "        self.make = make\n",
    "        self.model = model \n",
    "        self.year = year\n",
    "        self.odometer_reading = 0\n",
    "    \n",
    "    def get_descriptive_name(self):\n",
    "        \"\"\" Return a neatly formmated descriptive name\"\"\"\n",
    "        long_name = f\"{self.make} {self.model} {self.year}\"\n",
    "        return long_name.title()\n",
    "    \n",
    "    def read_odometer(self):\n",
    "        \"\"\"Print the statement showing car's mileage\"\"\"\n",
    "        print(f\"This car has {self.odometer_reading} miles on it.\")\n",
    "        \n",
    "    def update_odometer(self,mileage):\n",
    "        \"\"\"\n",
    "        Set the odometer reading to the given value.\n",
    "        Reject the change if it attempts to roll back the value\n",
    "        \"\"\"\n",
    "        if mileage >= self.odometer_reading:\n",
    "            self.odometer_reading = mileage\n",
    "        else:\n",
    "            print(\"You can't roll back an odometer!\")\n",
    "    \n",
    "    def increment_odometer(self,mileage):\n",
    "        \"\"\"\n",
    "        Increment the odometer value. \n",
    "        \"\"\"\n",
    "        self.odometer_reading += mileage\n"
   ]
  }
 ],
 "metadata": {
  "kernelspec": {
   "display_name": "Python 3",
   "language": "python",
   "name": "python3"
  },
  "language_info": {
   "codemirror_mode": {
    "name": "ipython",
    "version": 3
   },
   "file_extension": ".py",
   "mimetype": "text/x-python",
   "name": "python",
   "nbconvert_exporter": "python",
   "pygments_lexer": "ipython3",
   "version": "3.7.6"
  }
 },
 "nbformat": 4,
 "nbformat_minor": 4
}

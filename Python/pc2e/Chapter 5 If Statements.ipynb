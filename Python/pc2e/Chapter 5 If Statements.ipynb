{
 "cells": [
  {
   "cell_type": "code",
   "execution_count": 2,
   "metadata": {},
   "outputs": [
    {
     "name": "stdout",
     "output_type": "stream",
     "text": [
      "Audi\n",
      "BMW\n",
      "Suburu\n",
      "Toyota\n"
     ]
    }
   ],
   "source": [
    "cars = ['audi','bmw','suburu','toyota']\n",
    "\n",
    "for car in cars:\n",
    "    if car == 'bmw':\n",
    "        print(car.upper())\n",
    "    else:\n",
    "        print(car.title())\n"
   ]
  },
  {
   "cell_type": "code",
   "execution_count": 29,
   "metadata": {},
   "outputs": [
    {
     "name": "stdout",
     "output_type": "stream",
     "text": [
      "Audi\n"
     ]
    }
   ],
   "source": [
    "car = 'Audi'\n",
    "car.lower() == 'audi'\n",
    "print(car)"
   ]
  },
  {
   "cell_type": "code",
   "execution_count": 6,
   "metadata": {},
   "outputs": [
    {
     "name": "stdout",
     "output_type": "stream",
     "text": [
      "Hold the anchovies\n"
     ]
    }
   ],
   "source": [
    "requested_topping = 'mushrooms'\n",
    "if requested_topping != 'anchovies':\n",
    "    print('Hold the anchovies.')"
   ]
  },
  {
   "cell_type": "code",
   "execution_count": 7,
   "metadata": {},
   "outputs": [
    {
     "data": {
      "text/plain": [
       "True"
      ]
     },
     "execution_count": 7,
     "metadata": {},
     "output_type": "execute_result"
    }
   ],
   "source": [
    "age = 18\n",
    "age == 18"
   ]
  },
  {
   "cell_type": "code",
   "execution_count": 8,
   "metadata": {},
   "outputs": [
    {
     "name": "stdout",
     "output_type": "stream",
     "text": [
      "The answer is not correct. Try Again\n"
     ]
    }
   ],
   "source": [
    "answer = 17 \n",
    "if answer != 42:\n",
    "    print('The answer is not correct. Try Again')"
   ]
  },
  {
   "cell_type": "code",
   "execution_count": 12,
   "metadata": {},
   "outputs": [
    {
     "data": {
      "text/plain": [
       "True"
      ]
     },
     "execution_count": 12,
     "metadata": {},
     "output_type": "execute_result"
    }
   ],
   "source": [
    "age = 19 \n",
    "age > 18\n",
    "age >= 19\n",
    "age < 21\n",
    "age <= 21"
   ]
  },
  {
   "cell_type": "code",
   "execution_count": 15,
   "metadata": {},
   "outputs": [
    {
     "data": {
      "text/plain": [
       "True"
      ]
     },
     "execution_count": 15,
     "metadata": {},
     "output_type": "execute_result"
    }
   ],
   "source": [
    "age_0 = 22\n",
    "age_1 = 18\n",
    "\n",
    "age_0 >= 21 and age_1 >= 21\n",
    "\n",
    "age_1 = 21\n",
    "(age_0 >= 21) and (age_1 >= 21)"
   ]
  },
  {
   "cell_type": "code",
   "execution_count": 17,
   "metadata": {},
   "outputs": [],
   "source": [
    "age_0 = 22\n",
    "age_1 = 18"
   ]
  },
  {
   "cell_type": "code",
   "execution_count": 1,
   "metadata": {},
   "outputs": [],
   "source": [
    "game_active = False \n",
    "user_comment = True "
   ]
  },
  {
   "cell_type": "code",
   "execution_count": 6,
   "metadata": {},
   "outputs": [
    {
     "name": "stdout",
     "output_type": "stream",
     "text": [
      "Is my mortgage == 15 years ? I predict it's true\n",
      "True\n"
     ]
    }
   ],
   "source": [
    "mortgage = 15\n",
    "print(\"Is my mortgage == 15 years ? I predict it's true\")\n",
    "print(mortgage == 15)"
   ]
  },
  {
   "cell_type": "code",
   "execution_count": 3,
   "metadata": {},
   "outputs": [
    {
     "name": "stdout",
     "output_type": "stream",
     "text": [
      "Is next president Joe Biden? I predict it's true\n",
      "True\n"
     ]
    }
   ],
   "source": [
    "next_president = 'Joe Biden'\n",
    "print(\"Is next president Joe Biden? I predict it's true.\")\n",
    "print(next_president == 'Joe Biden')"
   ]
  },
  {
   "cell_type": "code",
   "execution_count": 7,
   "metadata": {},
   "outputs": [
    {
     "name": "stdout",
     "output_type": "stream",
     "text": [
      "Is corona vaccine succeeded? I predict it's true.\n",
      "True\n"
     ]
    }
   ],
   "source": [
    "corona_vaccine_succeed = True\n",
    "print(\"Is corona vaccine succeeded? I predict it's true.\")\n",
    "print(corona_vaccine_succeed)"
   ]
  },
  {
   "cell_type": "code",
   "execution_count": 5,
   "metadata": {},
   "outputs": [
    {
     "name": "stdout",
     "output_type": "stream",
     "text": [
      "Will remote learning for kids continue? I predict it's false.\n",
      "False\n"
     ]
    }
   ],
   "source": [
    "remote_learning = 'Continue'\n",
    "print(\"Will remote learning for kids continue? I predict it's false.\")\n",
    "print(remote_learning == 'stop')"
   ]
  },
  {
   "cell_type": "code",
   "execution_count": 11,
   "metadata": {},
   "outputs": [
    {
     "name": "stdout",
     "output_type": "stream",
     "text": [
      "Hello Mr.Sundar Sritharan, please turn right.\n"
     ]
    }
   ],
   "source": [
    "# test for equality and inequality with strings\n",
    "\n",
    "name = 'sundar sritharan'\n",
    "isFemale = False \n",
    "\n",
    "if (name != '' and isFemale):\n",
    "    print(f\"Hello Ms.{name.title()}, please turn left.\")\n",
    "else:\n",
    "    print(f\"Hello Mr.{name.title()}, please turn right.\")"
   ]
  },
  {
   "cell_type": "code",
   "execution_count": 12,
   "metadata": {},
   "outputs": [
    {
     "name": "stdout",
     "output_type": "stream",
     "text": [
      "Hello Sundar Sritharan, Welcome to the world of development.\n"
     ]
    }
   ],
   "source": [
    "# test using lower method\n",
    "first_name = \"SUNdar\"\n",
    "last_name = \"SriThaRan\"\n",
    "\n",
    "if (first_name.lower() == 'sundar' and last_name.lower() == \"sritharan\"):\n",
    "    print(f\"Hello {first_name.title()} {last_name.title()}, Welcome to the world of development.\")"
   ]
  },
  {
   "cell_type": "code",
   "execution_count": 22,
   "metadata": {},
   "outputs": [
    {
     "name": "stdout",
     "output_type": "stream",
     "text": [
      "$64.54 is greater than INR23.12 \n"
     ]
    }
   ],
   "source": [
    "# numeric test using equality \n",
    "dollar_rate = 64.54\n",
    "ruppee_rate = 23.12\n",
    "\n",
    "\n",
    "if \n",
    "\n",
    "if dollar_rate == 64.54 and ruppee_rate != 213.12:\n",
    "    print (f\"${dollar_rate} is greater than INR{ruppee_rate} \")"
   ]
  },
  {
   "cell_type": "code",
   "execution_count": 24,
   "metadata": {},
   "outputs": [
    {
     "name": "stdout",
     "output_type": "stream",
     "text": [
      "GBP is greater than USD\n"
     ]
    }
   ],
   "source": [
    "# numeric test greater or lesser \n",
    "dollar_rupee_rate = 24.54\n",
    "pound_ruppee_rate = 33.12\n",
    "\n",
    "if dollar_rupee_rate > pound_ruppee_rate:\n",
    "    print(\"USD is greater than GBP\")\n",
    "else:\n",
    "     print(\"GBP is greater than USD\")"
   ]
  },
  {
   "cell_type": "code",
   "execution_count": 30,
   "metadata": {},
   "outputs": [
    {
     "name": "stdout",
     "output_type": "stream",
     "text": [
      "Weather in NYC is 74, cooler than ATL which is 50 degrees.\n"
     ]
    }
   ],
   "source": [
    "# numeric test greater\n",
    "nyc_temp = 74\n",
    "atl_temp = 50\n",
    "\n",
    "if nyc_temp < atl_temp:\n",
    "    print(f\"Weather in NYC is {nyc_temp}, cooler than ATL which is {atl_temp} degrees.\")\n",
    "else:\n",
    "     print(f\"Weather in NYC is {nyc_temp}, hotter than ATL which is {atl_temp} degrees.\")"
   ]
  },
  {
   "cell_type": "code",
   "execution_count": 32,
   "metadata": {},
   "outputs": [
    {
     "data": {
      "text/plain": [
       "False"
      ]
     },
     "execution_count": 32,
     "metadata": {},
     "output_type": "execute_result"
    }
   ],
   "source": [
    "my_family = ['Diya','Nidhi','Priya','Sundar']\n",
    "'Manoj' in my_family"
   ]
  },
  {
   "cell_type": "code",
   "execution_count": 33,
   "metadata": {},
   "outputs": [
    {
     "data": {
      "text/plain": [
       "True"
      ]
     },
     "execution_count": 33,
     "metadata": {},
     "output_type": "execute_result"
    }
   ],
   "source": [
    "crime_list = ['robbery','fraud','shop-lifting']\n",
    "'bankctruptyc' not in crime_list"
   ]
  },
  {
   "cell_type": "code",
   "execution_count": 38,
   "metadata": {},
   "outputs": [
    {
     "name": "stdout",
     "output_type": "stream",
     "text": [
      "Sorry you'r too young to vote.\n",
      "Please register to vote when you turn 18!\n"
     ]
    }
   ],
   "source": [
    "age = 17\n",
    "\n",
    "if age >= 18:\n",
    "    print(f\"You'r {age}, you are old enough to vote\")\n",
    "    print(\"Have you registered to vote?\")\n",
    "else:\n",
    "    print(\"Sorry you'r too young to vote.\")\n",
    "    print(\"Please register to vote when you turn 18!\")"
   ]
  },
  {
   "cell_type": "code",
   "execution_count": 44,
   "metadata": {},
   "outputs": [
    {
     "name": "stdout",
     "output_type": "stream",
     "text": [
      "Your admission fee is: $25\n"
     ]
    }
   ],
   "source": [
    "# admission fee\n",
    "\n",
    "age = 7\n",
    "\n",
    "if age < 4:\n",
    "    price = 0\n",
    "elif age < 18:\n",
    "    price = 25\n",
    "else:\n",
    "    price = 40\n",
    "\n",
    "print(f\"Your admission fee is: ${price}\")"
   ]
  },
  {
   "cell_type": "code",
   "execution_count": 48,
   "metadata": {},
   "outputs": [
    {
     "name": "stdout",
     "output_type": "stream",
     "text": [
      "Adding mushrooms\n",
      "Adding extra cheese\n",
      "\n",
      "Finished making your pizza.\n"
     ]
    }
   ],
   "source": [
    "# check multiple conditions using simple if statement \n",
    "\n",
    "\n",
    "requested_toppings = ['mushrooms','extra cheese']\n",
    "\n",
    "if 'mushrooms' in requested_toppings:\n",
    "    print(\"Adding mushrooms\")\n",
    "\n",
    "if 'peperoni' in requested_toppings:\n",
    "    print(\"Adding peperoni\")\n",
    "\n",
    "if 'extra cheese'in requested_toppings:\n",
    "    print(\"Adding extra cheese\")\n",
    "    \n",
    "print(\"\\nFinished making your pizza.\")"
   ]
  },
  {
   "cell_type": "code",
   "execution_count": 49,
   "metadata": {},
   "outputs": [
    {
     "name": "stdout",
     "output_type": "stream",
     "text": [
      "Great ! You scored 5 points\n"
     ]
    }
   ],
   "source": [
    "#alien color \n",
    "\n",
    "alien_color = ['green','yellow','red']\n",
    "\n",
    "if 'green' in alien_color:\n",
    "    print(\"Great ! You scored 5 points\")"
   ]
  },
  {
   "cell_type": "code",
   "execution_count": 51,
   "metadata": {},
   "outputs": [
    {
     "name": "stdout",
     "output_type": "stream",
     "text": [
      "Great! You scored 5 points\n"
     ]
    }
   ],
   "source": [
    "#alien color \n",
    "alien_color = 'green'\n",
    "\n",
    "if alien_color == 'green':\n",
    "    print(\"Great! You scored 5 points\")\n",
    "else:\n",
    "    print(\"Awesome! You scored 10 points\")"
   ]
  },
  {
   "cell_type": "code",
   "execution_count": 52,
   "metadata": {},
   "outputs": [
    {
     "name": "stdout",
     "output_type": "stream",
     "text": [
      "Awesome! You scored 10 points\n"
     ]
    }
   ],
   "source": [
    "#alien color \n",
    "alien_color = 'orange'\n",
    "\n",
    "if alien_color == 'green':\n",
    "    print(\"Great! You scored 5 points.\")\n",
    "else:\n",
    "    print(\"Awesome! You scored 10 points.\")"
   ]
  },
  {
   "cell_type": "code",
   "execution_count": 56,
   "metadata": {},
   "outputs": [
    {
     "name": "stdout",
     "output_type": "stream",
     "text": [
      "Great! You scored 10 points.\n"
     ]
    }
   ],
   "source": [
    "#alien color \n",
    "alien_color = 'yellow'\n",
    "\n",
    "if alien_color == 'green':\n",
    "    print(\"Great! You scored 5 points.\")\n",
    "elif alien_color == 'yellow':\n",
    "    print(\"Great! You scored 10 points.\")\n",
    "elif alien_color == 'red':\n",
    "    print(\"Great! You scored 15 points.\")\n",
    "else:\n",
    "    print(\"Sorry,no points.\")"
   ]
  },
  {
   "cell_type": "code",
   "execution_count": 64,
   "metadata": {},
   "outputs": [
    {
     "name": "stdout",
     "output_type": "stream",
     "text": [
      "You are a Adult.\n"
     ]
    }
   ],
   "source": [
    "# stages of life \n",
    "\n",
    "life_stages = ['Baby','Toddler','Kid','Teenager','Adult','Elder']\n",
    "age = 44\n",
    "\n",
    "if age < 2: \n",
    "    set_stage = 0\n",
    "elif age < 4:\n",
    "    set_stage = 1\n",
    "elif age < 13:\n",
    "    set_stage = 2\n",
    "elif age < 20:\n",
    "    set_stage = 3\n",
    "elif age < 65:\n",
    "    set_stage = 4\n",
    "else:\n",
    "    set_stage = 5\n",
    "\n",
    "print(f\"You are a {life_stages[set_stage]}.\")"
   ]
  },
  {
   "cell_type": "code",
   "execution_count": 66,
   "metadata": {},
   "outputs": [
    {
     "name": "stdout",
     "output_type": "stream",
     "text": [
      "I like Kiwi.\n",
      "I like blueberry too.\n",
      "I like strawberry as well.\n",
      "\n",
      "Just finished making my smoothie.\n"
     ]
    }
   ],
   "source": [
    "# fruits \n",
    "\n",
    "favorite_fruits = ['kiwi','blueberry','strawberry']\n",
    "\n",
    "if 'kiwi' in favorite_fruits:\n",
    "    print(\"I like Kiwi.\")\n",
    "\n",
    "if 'blueberry' in favorite_fruits:\n",
    "    print(\"I like blueberry too.\")\n",
    "\n",
    "if 'strawberry' in favorite_fruits:\n",
    "    print(\"I like strawberry as well.\")\n",
    "    \n",
    "print(\"\\nJust finished making my smoothie.\")"
   ]
  },
  {
   "cell_type": "code",
   "execution_count": 76,
   "metadata": {},
   "outputs": [
    {
     "name": "stdout",
     "output_type": "stream",
     "text": [
      "Adding Mushrooms.\n",
      "Sorry we don't have French Fries.\n",
      "Adding Green Peppers.\n",
      "\n",
      "Finished making your pizza.\n"
     ]
    }
   ],
   "source": [
    "# pizzeria pappa owns \n",
    "\n",
    "available_toppings = ['mushrooms','olives','green peppers','pepperoni','pineapple','extra cheese']\n",
    "requested_toppings = ['mushrooms','french fries','green peppers',]\n",
    "\n",
    "for requested_topping in requested_toppings:\n",
    "    if requested_topping in available_toppings:\n",
    "        print(f\"Adding {requested_topping.title()}.\")\n",
    "    else:\n",
    "        print(f\"Sorry we don't have {requested_topping.title()}.\")\n",
    "\n",
    "print(\"\\nFinished making your pizza.\")"
   ]
  },
  {
   "cell_type": "code",
   "execution_count": 79,
   "metadata": {},
   "outputs": [
    {
     "name": "stdout",
     "output_type": "stream",
     "text": [
      "Hello Sundar Sritharan, thank you for logging in again.\n",
      "Hello Diya Sundar, thank you for logging in again.\n",
      "Hello Priya Sundar, thank you for logging in again.\n",
      "Hello Nidhi Sundar, thank you for logging in again.\n",
      "Hello Admin, do you like to see a status report?\n"
     ]
    }
   ],
   "source": [
    "# greetings\n",
    "\n",
    "user_names = ['sundar sritharan','diya sundar','priya sundar','nidhi sundar','admin']\n",
    "\n",
    "for user in user_names:\n",
    "    if user == 'admin':\n",
    "        print(\"Hello Admin, do you like to see a status report?\")\n",
    "    else:\n",
    "        print(f\"Hello {user.title()}, thank you for logging in again.\")"
   ]
  },
  {
   "cell_type": "code",
   "execution_count": 80,
   "metadata": {},
   "outputs": [
    {
     "name": "stdout",
     "output_type": "stream",
     "text": [
      "We need to find some users!\n"
     ]
    }
   ],
   "source": [
    "# greetings\n",
    "\n",
    "user_names = []\n",
    "\n",
    "if user_names:\n",
    "    for user in user_names:\n",
    "        if user == 'admin':\n",
    "            print(\"Hello Admin, do you like to see a status report?\")\n",
    "        else:\n",
    "            print(f\"Hello {user.title()}, thank you for logging in again.\")\n",
    "else:\n",
    "    print(\"We need to find some users!\")"
   ]
  },
  {
   "cell_type": "code",
   "execution_count": 10,
   "metadata": {},
   "outputs": [
    {
     "name": "stdout",
     "output_type": "stream",
     "text": [
      "\n",
      "bharaths is available.\n",
      "\n",
      "deepab is available.\n",
      "\n",
      "priyas is not available.\n",
      "\n",
      "Please select a different username.\n",
      "\n",
      "nidhis is not available.\n",
      "\n",
      "Please select a different username.\n",
      "\n",
      "meghnab is available.\n"
     ]
    }
   ],
   "source": [
    "current_users = ['sundars','diyas','Priyas','nidhIs','manojs']\n",
    "new_users = ['bharaths','deepab','priyas','nidhis','meghnab']\n",
    "current_users_lower = []\n",
    "\n",
    "for user in current_users:\n",
    "    current_users_lower.append(user.lower())\n",
    "\n",
    "if new_users:\n",
    "    for new_user in new_users:\n",
    "        if new_user.lower() in current_users_lower:\n",
    "            print(f\"\\n{new_user} is not available.\")\n",
    "            print(\"\\nPlease select a different username.\")\n",
    "        else:\n",
    "            print(f\"\\n{new_user} is available.\")\n",
    "else:\n",
    "    print(\"\\nPlease enter a valid user name.\")"
   ]
  },
  {
   "cell_type": "code",
   "execution_count": 27,
   "metadata": {},
   "outputs": [
    {
     "name": "stdout",
     "output_type": "stream",
     "text": [
      "\n",
      " 1st\n",
      "\n",
      " 2nd\n",
      "\n",
      " 3rd\n",
      "\n",
      " 4th\n",
      "\n",
      " 5th\n",
      "\n",
      " 6th\n",
      "\n",
      " 7th\n",
      "\n",
      " 8th\n",
      "\n",
      " 9th\n"
     ]
    }
   ],
   "source": [
    "# oridinal numbers \n",
    "ord_num = []\n",
    "\n",
    "for i in range(1,10):\n",
    "   ord_num.append(i)\n",
    "\n",
    "for num in ord_num:\n",
    "    if num == 1:\n",
    "        print(f\"\\n {num}st\")\n",
    "    elif num == 2:\n",
    "        print(f\"\\n {num}nd\")\n",
    "    elif num == 3:\n",
    "        print(f\"\\n {num}rd\")\n",
    "    else:\n",
    "        print(f\"\\n {num}th\")"
   ]
  },
  {
   "cell_type": "code",
   "execution_count": 25,
   "metadata": {},
   "outputs": [
    {
     "name": "stdout",
     "output_type": "stream",
     "text": [
      "range(10, 1)\n"
     ]
    }
   ],
   "source": [
    "print(range(10,1))"
   ]
  },
  {
   "cell_type": "code",
   "execution_count": null,
   "metadata": {},
   "outputs": [],
   "source": []
  }
 ],
 "metadata": {
  "kernelspec": {
   "display_name": "Python 3",
   "language": "python",
   "name": "python3"
  },
  "language_info": {
   "codemirror_mode": {
    "name": "ipython",
    "version": 3
   },
   "file_extension": ".py",
   "mimetype": "text/x-python",
   "name": "python",
   "nbconvert_exporter": "python",
   "pygments_lexer": "ipython3",
   "version": "3.7.6"
  }
 },
 "nbformat": 4,
 "nbformat_minor": 4
}
